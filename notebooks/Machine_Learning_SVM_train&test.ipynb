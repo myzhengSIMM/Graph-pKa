{
 "cells": [
  {
   "cell_type": "code",
   "execution_count": 1,
   "metadata": {},
   "outputs": [],
   "source": [
    "import numpy as np\n",
    "import pandas as pd\n",
    "import pickle\n",
    "from sklearn.svm import SVR\n",
    "from sklearn.neighbors import KNeighborsRegressor\n",
    "from sklearn.ensemble import RandomForestRegressor\n",
    "from sklearn.linear_model import LinearRegression\n",
    "from sklearn.neural_network import MLPRegressor\n",
    "from xgboost.sklearn import XGBRegressor\n",
    "from sklearn.metrics import r2_score,mean_squared_error,mean_absolute_error"
   ]
  },
  {
   "cell_type": "markdown",
   "metadata": {},
   "source": [
    "# try"
   ]
  },
  {
   "cell_type": "code",
   "execution_count": null,
   "metadata": {},
   "outputs": [],
   "source": [
    "df_train = pd.read_csv('./Dataset/basic_train_0.70_FP.csv',header = None)\n",
    "train_data_label = np.array(df_train)\n",
    "X_train, y_train = train_data_label[:,1:],train_data_label[:,0]"
   ]
  },
  {
   "cell_type": "code",
   "execution_count": null,
   "metadata": {},
   "outputs": [],
   "source": [
    "model = SVR(kernel='rbf',gamma = 0.001,C = 100)\n",
    "model.fit(X_train, y_train)"
   ]
  },
  {
   "cell_type": "code",
   "execution_count": 4,
   "metadata": {},
   "outputs": [
    {
     "name": "stdout",
     "output_type": "stream",
     "text": [
      "0.7028347972030533\n",
      "1.1776536765169372\n",
      "0.8644957165600119\n"
     ]
    }
   ],
   "source": [
    "df_test = pd.read_csv('./Dataset/basic_test_0.15_FP.csv',header = None)\n",
    "test_data_label = np.array(df_test)\n",
    "X_test, y_test = test_data_label[:,1:],test_data_label[:,0]\n",
    "\n",
    "y_pred = model.predict(X_test)\n",
    "print(mean_absolute_error(y_test, y_pred))\n",
    "print(mean_squared_error(y_test, y_pred)**0.5)\n",
    "print(r2_score(y_test, y_pred))"
   ]
  },
  {
   "cell_type": "code",
   "execution_count": 5,
   "metadata": {},
   "outputs": [
    {
     "name": "stdout",
     "output_type": "stream",
     "text": [
      "0.690011170521962\n",
      "1.11534383926836\n",
      "0.8659537350717051\n"
     ]
    }
   ],
   "source": [
    "df_test = pd.read_csv('./Dataset/basic_val_0.15_FP.csv',header = None)\n",
    "test_data_label = np.array(df_test)\n",
    "X_test, y_test = test_data_label[:,1:],test_data_label[:,0]\n",
    "\n",
    "y_pred = model.predict(X_test)\n",
    "print(mean_absolute_error(y_test, y_pred))\n",
    "print(mean_squared_error(y_test, y_pred)**0.5)\n",
    "print(r2_score(y_test, y_pred))"
   ]
  },
  {
   "cell_type": "code",
   "execution_count": null,
   "metadata": {},
   "outputs": [],
   "source": []
  },
  {
   "cell_type": "markdown",
   "metadata": {},
   "source": [
    "# basic"
   ]
  },
  {
   "cell_type": "code",
   "execution_count": 2,
   "metadata": {},
   "outputs": [
    {
     "name": "stdout",
     "output_type": "stream",
     "text": [
      "0.8732736109116395\n",
      "0.6670470881924825\n",
      "1.080868782400294\n",
      "0.8732735135960287\n",
      "0.6670512012801414\n",
      "1.0808691974100892\n"
     ]
    }
   ],
   "source": [
    "for i in range(2,4):\n",
    "    \n",
    "    df_train = pd.read_csv('./Dataset/basic_train_0.70_FP.csv',header = None)\n",
    "    train_data_label = np.array(df_train)\n",
    "    np.random.shuffle(train_data_label)\n",
    "    X_train, y_train = train_data_label[:,1:],train_data_label[:,0]\n",
    "    \n",
    "    df_test = pd.read_csv('./Dataset/basic_test_0.15_FP.csv',header = None)\n",
    "    test_data_label = np.array(df_test)\n",
    "    X_test, y_test = test_data_label[:,1:],test_data_label[:,0]\n",
    "    \n",
    "    model = SVR(kernel='rbf',gamma = 0.001,C = 100)\n",
    "    model.fit(X_train, y_train)\n",
    "    y_pred = model.predict(X_test)\n",
    "    print(r2_score(y_test, y_pred))\n",
    "    print(mean_absolute_error(y_test, y_pred))\n",
    "    print(mean_squared_error(y_test, y_pred)**0.5)\n",
    "\n",
    "    file = open(\"./Machine_learning_model/basic_SVR_{}.pickle\".format(i), \"wb+\")\n",
    "    pickle.dump(model, file)\n",
    "    file.close()"
   ]
  },
  {
   "cell_type": "markdown",
   "metadata": {},
   "source": [
    "# Acidic"
   ]
  },
  {
   "cell_type": "code",
   "execution_count": 3,
   "metadata": {},
   "outputs": [
    {
     "name": "stdout",
     "output_type": "stream",
     "text": [
      "0.851020933953168\n",
      "0.7511515556112494\n",
      "1.3420013043402577\n",
      "0.8510208326198954\n",
      "0.751153291072199\n",
      "1.3420017607445185\n"
     ]
    }
   ],
   "source": [
    "for i in range(2,4):\n",
    "    \n",
    "    df_train = pd.read_csv('./Dataset/acidic_train_0.70_FP.csv',header = None)\n",
    "    train_data_label = np.array(df_train)\n",
    "    np.random.shuffle(train_data_label)\n",
    "    X_train, y_train = train_data_label[:,1:],train_data_label[:,0]\n",
    "    \n",
    "    df_test = pd.read_csv('./Dataset/acidic_test_0.15_FP.csv',header = None)\n",
    "    test_data_label = np.array(df_test)\n",
    "    X_test, y_test = test_data_label[:,1:],test_data_label[:,0]\n",
    "    \n",
    "    model = SVR(kernel='rbf',gamma = 0.001,C = 100)\n",
    "    model.fit(X_train, y_train)\n",
    "    y_pred = model.predict(X_test)\n",
    "    print(r2_score(y_test, y_pred))\n",
    "    print(mean_absolute_error(y_test, y_pred))\n",
    "    print(mean_squared_error(y_test, y_pred)**0.5)\n",
    "\n",
    "    file = open(\"./Machine_learning_model/acidic_SVR_{}.pickle\".format(i), \"wb+\")\n",
    "    pickle.dump(model, file)\n",
    "    file.close()"
   ]
  },
  {
   "cell_type": "code",
   "execution_count": null,
   "metadata": {},
   "outputs": [],
   "source": []
  },
  {
   "cell_type": "code",
   "execution_count": null,
   "metadata": {},
   "outputs": [],
   "source": []
  },
  {
   "cell_type": "code",
   "execution_count": null,
   "metadata": {},
   "outputs": [],
   "source": []
  },
  {
   "cell_type": "code",
   "execution_count": 19,
   "metadata": {},
   "outputs": [
    {
     "name": "stdout",
     "output_type": "stream",
     "text": [
      "4.833729998906003\n",
      "6.151300005150001\n",
      "5.540833336081667\n",
      "4.040589999940002\n",
      "6.155700007060002\n",
      "4.889049999286001\n",
      "4.361400001969286\n",
      "4.799479998696002\n",
      "5.041599988356\n",
      "5.64476001196\n",
      "4.889210000420001\n",
      "5.352940007000001\n",
      "3.8516999917800017\n",
      "5.951800005150003\n",
      "4.370200007160001\n",
      "3.199780013159995\n",
      "5.732083330220004\n",
      "6.3405416997533335\n",
      "\n",
      "0.8146165787533496\n",
      "1.3554996538330648\n",
      "-0.16386022464547678\n"
     ]
    }
   ],
   "source": [
    "with open(\"./Machine_learning_model/basic_RF_1.pickle\", 'rb') as fr:\n",
    "    model = pickle.load(fr)\n",
    "    \n",
    "df_test = pd.read_csv('./Dataset/SAMPL6_basic_FP.csv',header = None)\n",
    "test_data_label = np.array(df_test)\n",
    "X_test, y_test = test_data_label[:,1:],test_data_label[:,0]\n",
    "\n",
    "y_pred = model.predict(X_test)\n",
    "for i in y_pred:\n",
    "    print(i)\n",
    "print('')\n",
    "print(mean_absolute_error(y_test, y_pred))\n",
    "print(mean_squared_error(y_test, y_pred)**0.5)\n",
    "print(r2_score(y_test, y_pred))"
   ]
  },
  {
   "cell_type": "code",
   "execution_count": null,
   "metadata": {},
   "outputs": [],
   "source": []
  },
  {
   "cell_type": "code",
   "execution_count": 11,
   "metadata": {},
   "outputs": [
    {
     "name": "stdout",
     "output_type": "stream",
     "text": [
      "\n",
      "0.7540391351550996\n",
      "1.2996808565316833\n",
      "0.864667933039701\n"
     ]
    }
   ],
   "source": [
    "with open(\"./Machine_learning_model/acidic_SVR_4.pickle\", 'rb') as fr:\n",
    "    model = pickle.load(fr)\n",
    "    \n",
    "df_test = pd.read_csv('./Dataset/acidic_val_0.15_FP.csv',header = None)\n",
    "test_data_label = np.array(df_test)\n",
    "X_test, y_test = test_data_label[:,1:],test_data_label[:,0]\n",
    "\n",
    "y_pred = model.predict(X_test)\n",
    "\n",
    "print('')\n",
    "print(mean_absolute_error(y_test, y_pred))\n",
    "print(mean_squared_error(y_test, y_pred)**0.5)\n",
    "print(r2_score(y_test, y_pred))"
   ]
  },
  {
   "cell_type": "code",
   "execution_count": null,
   "metadata": {},
   "outputs": [],
   "source": []
  },
  {
   "cell_type": "markdown",
   "metadata": {},
   "source": [
    "# basic_cluster"
   ]
  },
  {
   "cell_type": "code",
   "execution_count": 5,
   "metadata": {},
   "outputs": [],
   "source": [
    "df_train = pd.read_csv('./Dataset/basic_cluster_0.3_train_FP.csv',header = None)\n",
    "train_data_label = np.array(df_train)\n",
    "X_train, y_train = train_data_label[:,1:],train_data_label[:,0]"
   ]
  },
  {
   "cell_type": "code",
   "execution_count": 6,
   "metadata": {},
   "outputs": [],
   "source": [
    "df_test = pd.read_csv('./Dataset/basic_cluster_0.3_test_FP.csv',header = None)\n",
    "test_data_label = np.array(df_test)\n",
    "X_test, y_test = test_data_label[:,1:],test_data_label[:,0]"
   ]
  },
  {
   "cell_type": "code",
   "execution_count": 7,
   "metadata": {},
   "outputs": [
    {
     "name": "stdout",
     "output_type": "stream",
     "text": [
      "0.8275904749766387\n",
      "0.8387242977511561\n",
      "1.2594289981205895\n"
     ]
    }
   ],
   "source": [
    "model = SVR(kernel='rbf',gamma = 0.001,C = 100)\n",
    "model.fit(X_train, y_train)\n",
    "y_pred = model.predict(X_test)\n",
    "print(r2_score(y_test, y_pred))\n",
    "print(mean_absolute_error(y_test, y_pred))\n",
    "print(mean_squared_error(y_test, y_pred)**0.5)\n",
    "\n",
    "file = open(\"./Machine_learning_model/basic_cluster_SVR_{}.pickle\".format(i), \"wb+\")\n",
    "pickle.dump(model, file)\n",
    "file.close()"
   ]
  },
  {
   "cell_type": "markdown",
   "metadata": {},
   "source": [
    "# acidic_cluster"
   ]
  },
  {
   "cell_type": "code",
   "execution_count": 8,
   "metadata": {},
   "outputs": [],
   "source": [
    "df_train = pd.read_csv('./Dataset/acidic_cluster_0.3_train_FP.csv',header = None)\n",
    "train_data_label = np.array(df_train)\n",
    "X_train, y_train = train_data_label[:,1:],train_data_label[:,0]"
   ]
  },
  {
   "cell_type": "code",
   "execution_count": 9,
   "metadata": {},
   "outputs": [],
   "source": [
    "df_test = pd.read_csv('./Dataset/acidic_cluster_0.3_test_FP.csv',header = None)\n",
    "test_data_label = np.array(df_test)\n",
    "X_test, y_test = test_data_label[:,1:],test_data_label[:,0]"
   ]
  },
  {
   "cell_type": "code",
   "execution_count": 10,
   "metadata": {},
   "outputs": [
    {
     "name": "stdout",
     "output_type": "stream",
     "text": [
      "0.8274008722581809\n",
      "0.8539841790582364\n",
      "1.4773832297242218\n"
     ]
    }
   ],
   "source": [
    "model = SVR(kernel='rbf',gamma = 0.001,C = 100)\n",
    "model.fit(X_train, y_train)\n",
    "y_pred = model.predict(X_test)\n",
    "print(r2_score(y_test, y_pred))\n",
    "print(mean_absolute_error(y_test, y_pred))\n",
    "print(mean_squared_error(y_test, y_pred)**0.5)\n",
    "\n",
    "file = open(\"./Machine_learning_model/acidic_cluster_SVR_{}.pickle\".format(i), \"wb+\")\n",
    "pickle.dump(model, file)\n",
    "file.close()"
   ]
  },
  {
   "cell_type": "code",
   "execution_count": null,
   "metadata": {},
   "outputs": [],
   "source": []
  },
  {
   "cell_type": "code",
   "execution_count": null,
   "metadata": {},
   "outputs": [],
   "source": []
  },
  {
   "cell_type": "code",
   "execution_count": null,
   "metadata": {},
   "outputs": [],
   "source": []
  },
  {
   "cell_type": "code",
   "execution_count": null,
   "metadata": {},
   "outputs": [],
   "source": []
  },
  {
   "cell_type": "code",
   "execution_count": null,
   "metadata": {},
   "outputs": [],
   "source": []
  },
  {
   "cell_type": "code",
   "execution_count": null,
   "metadata": {},
   "outputs": [],
   "source": []
  },
  {
   "cell_type": "markdown",
   "metadata": {},
   "source": [
    "# acidic"
   ]
  },
  {
   "cell_type": "code",
   "execution_count": 20,
   "metadata": {},
   "outputs": [],
   "source": [
    "df_train = pd.read_csv('./Dataset/acidic_train_0.70_FP.csv',header = None)\n",
    "train_data_label = np.array(df_train)\n",
    "X_train, y_train = train_data_label[:,1:],train_data_label[:,0]"
   ]
  },
  {
   "cell_type": "code",
   "execution_count": 21,
   "metadata": {},
   "outputs": [],
   "source": [
    "df_test = pd.read_csv('./Dataset/acidic_test_0.15_FP.csv',header = None)\n",
    "test_data_label = np.array(df_test)\n",
    "X_test, y_test = test_data_label[:,1:],test_data_label[:,0]"
   ]
  },
  {
   "cell_type": "code",
   "execution_count": 22,
   "metadata": {},
   "outputs": [
    {
     "name": "stdout",
     "output_type": "stream",
     "text": [
      "0.8725671461561544\n",
      "0.6951279719980267\n",
      "1.230814874281483\n",
      "0.8643087840869588\n",
      "0.7012662045355392\n",
      "1.2700707039286379\n",
      "0.8755200795283528\n",
      "0.6924736535104219\n",
      "1.2164707828146313\n",
      "0.8675648365431685\n",
      "0.6932903143002819\n",
      "1.254739838879731\n",
      "0.8636962001220245\n",
      "0.7061626242946982\n",
      "1.27293437057027\n"
     ]
    }
   ],
   "source": [
    "for i in range(1,6):\n",
    "    model = RandomForestRegressor()\n",
    "    model.fit(X_train, y_train)\n",
    "    y_pred = model.predict(X_test)\n",
    "    print(r2_score(y_test, y_pred))\n",
    "    print(mean_absolute_error(y_test, y_pred))\n",
    "    print(mean_squared_error(y_test, y_pred)**0.5)\n",
    "\n",
    "    file = open(\"./Machine_learning_model/acidic_RF_{}.pickle\".format(i), \"wb+\")\n",
    "    pickle.dump(model, file)\n",
    "    file.close()"
   ]
  },
  {
   "cell_type": "code",
   "execution_count": 32,
   "metadata": {},
   "outputs": [
    {
     "name": "stdout",
     "output_type": "stream",
     "text": [
      "4.871600006779999\n",
      "5.049500022760001\n",
      "8.775600004314997\n",
      "8.75523001252\n",
      "8.98912999036\n",
      "9.642366676163332\n",
      "8.869979989760001\n",
      "9.913350029869997\n",
      "8.603529987205\n",
      "8.938579984649998\n",
      "9.329200036274996\n",
      "8.756129991204999\n",
      "8.99457999189\n",
      "9.338750035534998\n",
      "7.848800004384166\n",
      "6.369700010120002\n",
      "8.670600021939165\n",
      "5.588239999168334\n",
      "5.480933330179999\n",
      "5.149756664962334\n",
      "\n",
      "1.172272166084217\n",
      "1.393439047074014\n",
      "0.6480927781944302\n"
     ]
    }
   ],
   "source": [
    "with open(\"./Machine_learning_model/acidic_RF_5.pickle\", 'rb') as fr:\n",
    "    model = pickle.load(fr)\n",
    "    \n",
    "df_test = pd.read_csv('./Dataset/SAMPL7_acidic_FP.csv',header = None)\n",
    "test_data_label = np.array(df_test)\n",
    "X_test, y_test = test_data_label[:,1:],test_data_label[:,0]\n",
    "\n",
    "y_pred = model.predict(X_test)\n",
    "for i in y_pred:\n",
    "    print(i)\n",
    "print('')\n",
    "print(mean_absolute_error(y_test, y_pred))\n",
    "print(mean_squared_error(y_test, y_pred)**0.5)\n",
    "print(r2_score(y_test, y_pred))"
   ]
  },
  {
   "cell_type": "code",
   "execution_count": null,
   "metadata": {},
   "outputs": [],
   "source": []
  },
  {
   "cell_type": "code",
   "execution_count": null,
   "metadata": {},
   "outputs": [],
   "source": []
  },
  {
   "cell_type": "code",
   "execution_count": null,
   "metadata": {},
   "outputs": [],
   "source": []
  },
  {
   "cell_type": "code",
   "execution_count": null,
   "metadata": {},
   "outputs": [],
   "source": []
  },
  {
   "cell_type": "code",
   "execution_count": null,
   "metadata": {},
   "outputs": [],
   "source": []
  },
  {
   "cell_type": "code",
   "execution_count": null,
   "metadata": {},
   "outputs": [],
   "source": []
  },
  {
   "cell_type": "code",
   "execution_count": null,
   "metadata": {},
   "outputs": [],
   "source": []
  },
  {
   "cell_type": "code",
   "execution_count": null,
   "metadata": {},
   "outputs": [],
   "source": []
  },
  {
   "cell_type": "code",
   "execution_count": null,
   "metadata": {},
   "outputs": [],
   "source": []
  },
  {
   "cell_type": "code",
   "execution_count": 34,
   "metadata": {},
   "outputs": [],
   "source": [
    "df_train = pd.read_csv('./Dataset/acidic_cluster_0.3_train_FP.csv',header = None)\n",
    "train_data_label = np.array(df_train)\n",
    "X_train, y_train = train_data_label[:,1:],train_data_label[:,0]"
   ]
  },
  {
   "cell_type": "code",
   "execution_count": 36,
   "metadata": {},
   "outputs": [],
   "source": [
    "df_test = pd.read_csv('./Dataset/acidic_cluster_0.3_test_FP.csv',header = None)\n",
    "test_data_label = np.array(df_test)\n",
    "X_test, y_test = test_data_label[:,1:],test_data_label[:,0]"
   ]
  },
  {
   "cell_type": "code",
   "execution_count": 37,
   "metadata": {},
   "outputs": [
    {
     "name": "stdout",
     "output_type": "stream",
     "text": [
      "0.8304344236528222\n",
      "0.7904370184315201\n",
      "1.464342650283517\n"
     ]
    }
   ],
   "source": [
    "model = RandomForestRegressor()\n",
    "model.fit(X_train, y_train)\n",
    "y_pred = model.predict(X_test)\n",
    "print(r2_score(y_test, y_pred))\n",
    "print(mean_absolute_error(y_test, y_pred))\n",
    "print(mean_squared_error(y_test, y_pred)**0.5)"
   ]
  },
  {
   "cell_type": "code",
   "execution_count": null,
   "metadata": {},
   "outputs": [],
   "source": []
  },
  {
   "cell_type": "code",
   "execution_count": 39,
   "metadata": {},
   "outputs": [],
   "source": [
    "df_train = pd.read_csv('./Dataset/basic_cluster_0.3_train_FP.csv',header = None)\n",
    "train_data_label = np.array(df_train)\n",
    "X_train, y_train = train_data_label[:,1:],train_data_label[:,0]"
   ]
  },
  {
   "cell_type": "code",
   "execution_count": 40,
   "metadata": {},
   "outputs": [],
   "source": [
    "df_test = pd.read_csv('./Dataset/basic_cluster_0.3_test_FP.csv',header = None)\n",
    "test_data_label = np.array(df_test)\n",
    "X_test, y_test = test_data_label[:,1:],test_data_label[:,0]"
   ]
  },
  {
   "cell_type": "code",
   "execution_count": 41,
   "metadata": {},
   "outputs": [
    {
     "name": "stdout",
     "output_type": "stream",
     "text": [
      "0.8016614278936046\n",
      "0.8746910662292986\n",
      "1.350817418340395\n"
     ]
    }
   ],
   "source": [
    "model = RandomForestRegressor()\n",
    "model.fit(X_train, y_train)\n",
    "y_pred = model.predict(X_test)\n",
    "print(r2_score(y_test, y_pred))\n",
    "print(mean_absolute_error(y_test, y_pred))\n",
    "print(mean_squared_error(y_test, y_pred)**0.5)"
   ]
  },
  {
   "cell_type": "code",
   "execution_count": null,
   "metadata": {},
   "outputs": [],
   "source": []
  }
 ],
 "metadata": {
  "kernelspec": {
   "display_name": "Python 3",
   "language": "python",
   "name": "python3"
  },
  "language_info": {
   "codemirror_mode": {
    "name": "ipython",
    "version": 3
   },
   "file_extension": ".py",
   "mimetype": "text/x-python",
   "name": "python",
   "nbconvert_exporter": "python",
   "pygments_lexer": "ipython3",
   "version": "3.6.10"
  }
 },
 "nbformat": 4,
 "nbformat_minor": 2
}
