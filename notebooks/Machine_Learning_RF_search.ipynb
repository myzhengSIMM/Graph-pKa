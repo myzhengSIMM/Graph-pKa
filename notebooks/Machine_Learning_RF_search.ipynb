{
 "cells": [
  {
   "cell_type": "code",
   "execution_count": 1,
   "metadata": {},
   "outputs": [],
   "source": [
    "import numpy as np\n",
    "import pandas as pd\n",
    "import pickle\n",
    "from sklearn.svm import SVR\n",
    "from sklearn.neighbors import KNeighborsRegressor\n",
    "from sklearn.ensemble import RandomForestRegressor\n",
    "from sklearn.linear_model import LinearRegression\n",
    "from sklearn.neural_network import MLPRegressor\n",
    "from xgboost.sklearn import XGBRegressor\n",
    "from sklearn.metrics import r2_score,mean_squared_error,mean_absolute_error"
   ]
  },
  {
   "cell_type": "markdown",
   "metadata": {},
   "source": [
    "# basic"
   ]
  },
  {
   "cell_type": "code",
   "execution_count": 2,
   "metadata": {},
   "outputs": [],
   "source": [
    "df_train = pd.read_csv('./Dataset/basic_train_0.70_FP.csv',header = None)\n",
    "df_val = pd.read_csv('./Dataset/basic_val_0.15_FP.csv',header = None)"
   ]
  },
  {
   "cell_type": "code",
   "execution_count": 3,
   "metadata": {},
   "outputs": [
    {
     "name": "stdout",
     "output_type": "stream",
     "text": [
      "(5905, 9122)\n",
      "(1265, 9122)\n"
     ]
    }
   ],
   "source": [
    "train_data_label = np.array(df_train)\n",
    "print(train_data_label.shape)\n",
    "val_data_label = np.array(df_val)\n",
    "print(val_data_label.shape)\n",
    "X_train, X_val, y_train, y_val = train_data_label[:,1:],val_data_label[:,1:],train_data_label[:,0],val_data_label[:,0]"
   ]
  },
  {
   "cell_type": "code",
   "execution_count": 4,
   "metadata": {},
   "outputs": [],
   "source": [
    "# 主要参数 n_estimators"
   ]
  },
  {
   "cell_type": "code",
   "execution_count": 5,
   "metadata": {},
   "outputs": [],
   "source": [
    "n_estimators_list = [50,100,150,300]"
   ]
  },
  {
   "cell_type": "code",
   "execution_count": 6,
   "metadata": {},
   "outputs": [
    {
     "name": "stdout",
     "output_type": "stream",
     "text": [
      "n_estimators: 50\n",
      "0.7020063493229182\n",
      "1.136031093754741\n",
      "0.8695455808765645\n",
      "\n",
      "\n",
      "n_estimators: 100\n",
      "0.698506609966407\n",
      "1.1237531181861269\n",
      "0.8723501883922633\n",
      "\n",
      "\n",
      "n_estimators: 150\n",
      "0.702208091222709\n",
      "1.13064032326229\n",
      "0.8707807253775874\n",
      "\n",
      "\n",
      "n_estimators: 300\n",
      "0.6984432802218538\n",
      "1.1316301421761634\n",
      "0.8705543763503046\n",
      "\n",
      "\n"
     ]
    }
   ],
   "source": [
    "for n_estimators in n_estimators_list:\n",
    "    model = RandomForestRegressor(n_estimators = n_estimators,random_state= 0)\n",
    "    model.fit(X_train, y_train)\n",
    "    y_pred = model.predict(X_val)\n",
    "    print('n_estimators: '+ str(n_estimators))\n",
    "    print(mean_absolute_error(y_val, y_pred))\n",
    "    print(mean_squared_error(y_val, y_pred)**0.5)\n",
    "    print(r2_score(y_val, y_pred))\n",
    "    print('\\n')"
   ]
  },
  {
   "cell_type": "code",
   "execution_count": 7,
   "metadata": {},
   "outputs": [],
   "source": [
    "#增加数的数量，提升不大\n",
    "\n",
    "# 不同参数差异不大使用默认参数"
   ]
  },
  {
   "cell_type": "markdown",
   "metadata": {},
   "source": [
    "# acidic"
   ]
  },
  {
   "cell_type": "code",
   "execution_count": 8,
   "metadata": {},
   "outputs": [],
   "source": [
    "df_train = pd.read_csv('./Dataset/acidic_train_0.70_FP.csv',header = None)\n",
    "df_val = pd.read_csv('./Dataset/acidic_val_0.15_FP.csv',header = None)"
   ]
  },
  {
   "cell_type": "code",
   "execution_count": 9,
   "metadata": {},
   "outputs": [
    {
     "name": "stdout",
     "output_type": "stream",
     "text": [
      "(6337, 9122)\n",
      "(1358, 9122)\n"
     ]
    }
   ],
   "source": [
    "train_data_label = np.array(df_train)\n",
    "print(train_data_label.shape)\n",
    "val_data_label = np.array(df_val)\n",
    "print(val_data_label.shape)\n",
    "X_train, X_val, y_train, y_val = train_data_label[:,1:],val_data_label[:,1:],train_data_label[:,0],val_data_label[:,0]"
   ]
  },
  {
   "cell_type": "code",
   "execution_count": 10,
   "metadata": {},
   "outputs": [],
   "source": [
    "n_estimators_list = [50,100,150,300]"
   ]
  },
  {
   "cell_type": "code",
   "execution_count": 11,
   "metadata": {},
   "outputs": [
    {
     "name": "stdout",
     "output_type": "stream",
     "text": [
      "n_estimators: 50\n",
      "0.7326929503239575\n",
      "1.554230981877929\n",
      "0.8091132719869055\n",
      "\n",
      "\n",
      "n_estimators: 100\n",
      "0.7246037616183549\n",
      "1.5313339221945543\n",
      "0.8146961612321396\n",
      "\n",
      "\n",
      "n_estimators: 150\n",
      "0.7232180461540937\n",
      "1.5383070631812998\n",
      "0.8130047054812859\n",
      "\n",
      "\n",
      "n_estimators: 300\n",
      "0.722335737874055\n",
      "1.528343816655029\n",
      "0.8154191088221328\n",
      "\n",
      "\n"
     ]
    }
   ],
   "source": [
    "for n_estimators in n_estimators_list:\n",
    "    model = RandomForestRegressor(n_estimators = n_estimators,random_state= 0)\n",
    "    model.fit(X_train, y_train)\n",
    "    y_pred = model.predict(X_val)\n",
    "    print('n_estimators: '+ str(n_estimators))\n",
    "    print(mean_absolute_error(y_val, y_pred))\n",
    "    print(mean_squared_error(y_val, y_pred)**0.5)\n",
    "    print(r2_score(y_val, y_pred))\n",
    "    print('\\n')"
   ]
  },
  {
   "cell_type": "code",
   "execution_count": 12,
   "metadata": {},
   "outputs": [],
   "source": [
    "#增加数的数量，提升不大\n",
    "\n",
    "# 不同参数差异不大使用默认参数"
   ]
  },
  {
   "cell_type": "code",
   "execution_count": null,
   "metadata": {},
   "outputs": [],
   "source": []
  }
 ],
 "metadata": {
  "kernelspec": {
   "display_name": "Python 3",
   "language": "python",
   "name": "python3"
  },
  "language_info": {
   "codemirror_mode": {
    "name": "ipython",
    "version": 3
   },
   "file_extension": ".py",
   "mimetype": "text/x-python",
   "name": "python",
   "nbconvert_exporter": "python",
   "pygments_lexer": "ipython3",
   "version": "3.6.10"
  }
 },
 "nbformat": 4,
 "nbformat_minor": 2
}
