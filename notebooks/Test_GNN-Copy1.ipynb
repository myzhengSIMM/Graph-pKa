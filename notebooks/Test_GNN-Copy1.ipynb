{
 "cells": [
  {
   "cell_type": "code",
   "execution_count": 1,
   "metadata": {},
   "outputs": [
    {
     "name": "stderr",
     "output_type": "stream",
     "text": [
      "Using backend: pytorch\n"
     ]
    }
   ],
   "source": [
    "from My_Pka_Model import Pka_basic_view,Pka_acidic_view\n",
    "import torch\n",
    "from dgllife.utils import smiles_to_bigraph, CanonicalAtomFeaturizer, CanonicalBondFeaturizer\n",
    "\n",
    "from sklearn.metrics import r2_score,mean_squared_error,mean_absolute_error"
   ]
  },
  {
   "cell_type": "code",
   "execution_count": 2,
   "metadata": {},
   "outputs": [],
   "source": [
    "def predict(smiles,model_view):\n",
    "\n",
    "    node_featurizer = CanonicalAtomFeaturizer(atom_data_field='h')\n",
    "    edge_featurizer = CanonicalBondFeaturizer(bond_data_field='h')\n",
    "    bg = smiles_to_bigraph(smiles= smiles, \n",
    "                  node_featurizer=node_featurizer,\n",
    "                  edge_featurizer=edge_featurizer,canonical_atom_order= False)\n",
    "\n",
    "    with torch.no_grad():\n",
    "        model_view.eval()\n",
    "        molecule_pka,atom_pka = model_view(bg,bg.ndata['h'], bg.edata['h'])\n",
    "        \n",
    "    return molecule_pka,atom_pka"
   ]
  },
  {
   "cell_type": "code",
   "execution_count": 3,
   "metadata": {},
   "outputs": [],
   "source": [
    "acid_pred = Pka_acidic_view(node_feat_size = 74,\n",
    "                            edge_feat_size = 12,\n",
    "                            output_size = 1,\n",
    "                            num_layers= 6,\n",
    "                            graph_feat_size=200,\n",
    "                            dropout=0.2)"
   ]
  },
  {
   "cell_type": "code",
   "execution_count": null,
   "metadata": {},
   "outputs": [],
   "source": [
    "acid_pred.load_state_dict(torch.load('./Trained_model/acidic_ramdom_split_{}.pkl'.format(i),map_location='cuda:0'))\n",
    "print('time: '+ str(i))\n",
    "with open('./Dataset/SAMPL6_acidic_smiles.txt') as f: #acidic_test_0.15_smiles.txt,SAMPL7_acidic_smiles.txt\n",
    "    pred = []\n",
    "    label = []\n",
    "    for line in f.readlines():\n",
    "        line = line.replace('\\n','').split('\\t')\n",
    "        molecule_pka,atom_pka = predict(line[0],acid_pred)\n",
    "        print(molecule_pka)\n",
    "        pred.append(molecule_pka)\n",
    "        label.append(float(line[1]))\n",
    "\n",
    "print('')\n",
    "print(mean_absolute_error(pred,label))\n",
    "print(mean_squared_error(pred,label)**0.5)\n",
    "print(r2_score(pred,label))\n",
    "print('')"
   ]
  },
  {
   "cell_type": "code",
   "execution_count": null,
   "metadata": {},
   "outputs": [],
   "source": []
  },
  {
   "cell_type": "code",
   "execution_count": null,
   "metadata": {},
   "outputs": [],
   "source": []
  },
  {
   "cell_type": "code",
   "execution_count": 4,
   "metadata": {},
   "outputs": [
    {
     "name": "stdout",
     "output_type": "stream",
     "text": [
      "time: 1\n",
      "8.67052936553955\n",
      "7.8257012367248535\n",
      "11.976712226867676\n",
      "3.805478572845459\n",
      "9.641075134277344\n",
      "9.602269172668457\n",
      "12.049108505249023\n",
      "9.807235717773438\n",
      "9.935364723205566\n",
      "5.174829483032227\n",
      "7.877353191375732\n",
      "\n",
      "0.5976347715204412\n",
      "0.678635531570444\n",
      "0.9210780225330559\n",
      "\n",
      "time: 2\n",
      "8.631477355957031\n",
      "7.473364353179932\n",
      "11.269383430480957\n",
      "4.0138840675354\n",
      "10.418246269226074\n",
      "8.812257766723633\n",
      "11.944774627685547\n",
      "9.283881187438965\n",
      "10.134147644042969\n",
      "4.6184186935424805\n",
      "8.090373992919922\n",
      "\n",
      "0.678327671397816\n",
      "0.7947522059276297\n",
      "0.889540275595077\n",
      "\n",
      "time: 3\n",
      "8.37906265258789\n",
      "7.537794589996338\n",
      "11.740337371826172\n",
      "4.198156833648682\n",
      "9.795727729797363\n",
      "9.419637680053711\n",
      "12.454751014709473\n",
      "9.472614288330078\n",
      "9.965655326843262\n",
      "6.481783390045166\n",
      "8.317770957946777\n",
      "\n",
      "0.6303294806046918\n",
      "0.8122688633934673\n",
      "0.8647461301493476\n",
      "\n"
     ]
    }
   ],
   "source": [
    "for i in range(1,4):\n",
    "    acid_pred.load_state_dict(torch.load('./Trained_model/acidic_ramdom_split_{}.pkl'.format(i),map_location='cuda:0'))\n",
    "    print('time: '+ str(i))\n",
    "    with open('./Dataset/SAMPL6_acidic_smiles.txt') as f: #acidic_test_0.15_smiles.txt,SAMPL7_acidic_smiles.txt\n",
    "        pred = []\n",
    "        label = []\n",
    "        for line in f.readlines():\n",
    "            line = line.replace('\\n','').split('\\t')\n",
    "            molecule_pka,atom_pka = predict(line[0],acid_pred)\n",
    "            print(molecule_pka)\n",
    "            pred.append(molecule_pka)\n",
    "            label.append(float(line[1]))\n",
    "\n",
    "    print('')\n",
    "    print(mean_absolute_error(pred,label))\n",
    "    print(mean_squared_error(pred,label)**0.5)\n",
    "    print(r2_score(pred,label))\n",
    "    print('')"
   ]
  },
  {
   "cell_type": "code",
   "execution_count": 5,
   "metadata": {},
   "outputs": [
    {
     "name": "stdout",
     "output_type": "stream",
     "text": [
      "time: 1\n",
      "4.693657398223877\n",
      "4.951440811157227\n",
      "12.197287559509277\n",
      "12.228243827819824\n",
      "11.542144775390625\n",
      "12.505785942077637\n",
      "12.007244110107422\n",
      "12.335575103759766\n",
      "11.110367774963379\n",
      "10.304190635681152\n",
      "11.222630500793457\n",
      "10.159642219543457\n",
      "9.264741897583008\n",
      "9.990362167358398\n",
      "5.937761306762695\n",
      "5.1273651123046875\n",
      "6.235569477081299\n",
      "5.721826553344727\n",
      "4.819912910461426\n",
      "6.274832725524902\n",
      "\n",
      "0.9146612205505373\n",
      "1.075912669082801\n",
      "0.868127394696077\n",
      "\n",
      "time: 2\n",
      "4.431005001068115\n",
      "4.878375053405762\n",
      "10.462681770324707\n",
      "10.519570350646973\n",
      "9.74099349975586\n",
      "11.187289237976074\n",
      "10.360854148864746\n",
      "11.043974876403809\n",
      "10.608086585998535\n",
      "10.177499771118164\n",
      "11.022433280944824\n",
      "10.539410591125488\n",
      "9.694185256958008\n",
      "11.13106918334961\n",
      "6.0614800453186035\n",
      "5.377483367919922\n",
      "6.810568809509277\n",
      "5.648723602294922\n",
      "4.916687488555908\n",
      "6.523675918579102\n",
      "\n",
      "0.6165741624832154\n",
      "0.7612511245617858\n",
      "0.9078619721459777\n",
      "\n",
      "time: 3\n",
      "4.755572319030762\n",
      "5.081221103668213\n",
      "10.792909622192383\n",
      "11.206064224243164\n",
      "10.085659980773926\n",
      "11.865121841430664\n",
      "11.234810829162598\n",
      "11.86678409576416\n",
      "8.288017272949219\n",
      "7.799403190612793\n",
      "8.490374565124512\n",
      "9.392019271850586\n",
      "8.794204711914062\n",
      "9.923713684082031\n",
      "5.869885444641113\n",
      "5.435533046722412\n",
      "6.6094651222229\n",
      "6.356680870056152\n",
      "5.914378643035889\n",
      "7.340707302093506\n",
      "\n",
      "0.7424888792037965\n",
      "0.9650134069398953\n",
      "0.8250727006846814\n",
      "\n"
     ]
    }
   ],
   "source": [
    "for i in range(1,4):\n",
    "    acid_pred.load_state_dict(torch.load('./Trained_model/acidic_ramdom_split_{}.pkl'.format(i),map_location='cuda:0'))\n",
    "    print('time: '+ str(i))\n",
    "    with open('./Dataset/SAMPL7_acidic_smiles.txt') as f: #acidic_test_0.15_smiles.txt,SAMPL7_acidic_smiles.txt\n",
    "        pred = []\n",
    "        label = []\n",
    "        for line in f.readlines():\n",
    "            line = line.replace('\\n','').split('\\t')\n",
    "            molecule_pka,atom_pka = predict(line[0],acid_pred)\n",
    "            print(molecule_pka)\n",
    "            pred.append(molecule_pka)\n",
    "            label.append(float(line[1]))\n",
    "\n",
    "    print('')\n",
    "    print(mean_absolute_error(pred,label))\n",
    "    print(mean_squared_error(pred,label)**0.5)\n",
    "    print(r2_score(pred,label))\n",
    "    print('')"
   ]
  },
  {
   "cell_type": "code",
   "execution_count": 6,
   "metadata": {},
   "outputs": [
    {
     "name": "stdout",
     "output_type": "stream",
     "text": [
      "time: 1\n",
      "0.5631147899948855\n",
      "0.9482059244366742\n",
      "0.9221193673834996\n",
      "time: 2\n",
      "0.5616683274900125\n",
      "0.9205022739301771\n",
      "0.926579490756474\n",
      "time: 3\n",
      "0.5677474436867235\n",
      "0.9351637811552465\n",
      "0.9242672538599793\n"
     ]
    }
   ],
   "source": [
    "for i in range(1,4):\n",
    "    acid_pred.load_state_dict(torch.load('./Trained_model/acidic_ramdom_split_{}.pkl'.format(i),map_location='cuda:0'))\n",
    "\n",
    "    with open('./Dataset/acidic_test_0.15_smiles.txt') as f: #acidic_test_0.15_smiles.txt,SAMPL6_test_acidic.txt\n",
    "        pred = []\n",
    "        label = []\n",
    "        for line in f.readlines():\n",
    "            line = line.replace('\\n','').split('\\t')\n",
    "            molecule_pka,atom_pka = predict(line[0],acid_pred)\n",
    "            #print(molecule_pka,float(line[1]))\n",
    "            pred.append(molecule_pka)\n",
    "            label.append(float(line[1]))\n",
    "\n",
    "    print('time: '+ str(i))\n",
    "    print(mean_absolute_error(pred,label))\n",
    "    print(mean_squared_error(pred,label)**0.5)\n",
    "    print(r2_score(pred,label))\n",
    "\n"
   ]
  },
  {
   "cell_type": "code",
   "execution_count": null,
   "metadata": {},
   "outputs": [],
   "source": []
  },
  {
   "cell_type": "code",
   "execution_count": 5,
   "metadata": {},
   "outputs": [
    {
     "name": "stdout",
     "output_type": "stream",
     "text": [
      "time: 1\n",
      "0.5338740305467087\n",
      "0.6763158919725007\n",
      "0.6511761113450325\n",
      "time: 2\n",
      "0.54870530908758\n",
      "0.7662336647128798\n",
      "0.17656255464603998\n",
      "time: 3\n",
      "0.3649598251689564\n",
      "0.5468604689056408\n",
      "0.8273342469443705\n",
      "time: 4\n",
      "0.5141829187219794\n",
      "0.6620796493997997\n",
      "0.6481016477253337\n",
      "time: 5\n",
      "0.5389714934609152\n",
      "0.6628636925193704\n",
      "0.7451528429992658\n"
     ]
    }
   ],
   "source": [
    "for i in range(1,6):\n",
    "    acid_pred.load_state_dict(torch.load('./Trained_model/non_B_try_{}.pkl'.format(i),map_location='cuda:0'))\n",
    "\n",
    "    with open('./Dataset/Phenylboronic_acid_smiles(22).txt') as f: #acidic_test_0.15_smiles.txt,SAMPL6_test_acidic.txt\n",
    "        pred = []\n",
    "        label = []\n",
    "        for line in f.readlines():\n",
    "            line = line.replace('\\n','').split('\\t')\n",
    "            molecule_pka,atom_pka = predict(line[0],acid_pred)\n",
    "            #print(molecule_pka,float(line[1]))\n",
    "            pred.append(molecule_pka)\n",
    "            label.append(float(line[1]))\n",
    "\n",
    "    print('time: '+ str(i))\n",
    "    print(mean_absolute_error(pred,label))\n",
    "    print(mean_squared_error(pred,label)**0.5)\n",
    "    print(r2_score(pred,label))\n"
   ]
  },
  {
   "cell_type": "code",
   "execution_count": null,
   "metadata": {},
   "outputs": [],
   "source": []
  },
  {
   "cell_type": "code",
   "execution_count": null,
   "metadata": {},
   "outputs": [],
   "source": []
  },
  {
   "cell_type": "code",
   "execution_count": 7,
   "metadata": {},
   "outputs": [],
   "source": [
    "base_pred = Pka_basic_view(node_feat_size = 74,\n",
    "                            edge_feat_size = 12,\n",
    "                            output_size = 1,\n",
    "                            num_layers= 6,\n",
    "                            graph_feat_size=200,\n",
    "                            dropout=0.2)"
   ]
  },
  {
   "cell_type": "code",
   "execution_count": 8,
   "metadata": {},
   "outputs": [
    {
     "name": "stdout",
     "output_type": "stream",
     "text": [
      "time: 1\n",
      "3.8340981006622314\n",
      "4.930722236633301\n",
      "4.591391563415527\n",
      "3.862032413482666\n",
      "4.930919647216797\n",
      "3.9746387004852295\n",
      "3.830474376678467\n",
      "3.8794164657592773\n",
      "5.066303730010986\n",
      "5.347182273864746\n",
      "4.897919178009033\n",
      "5.256861209869385\n",
      "3.463160514831543\n",
      "2.771059274673462\n",
      "3.598081350326538\n",
      "2.5035266876220703\n",
      "5.473254680633545\n",
      "3.509474515914917\n",
      "\n",
      "0.5915269602669609\n",
      "0.7695206414650383\n",
      "0.20172800117143952\n",
      "\n",
      "time: 2\n",
      "4.233867168426514\n",
      "5.548564434051514\n",
      "4.558190822601318\n",
      "3.1008951663970947\n",
      "5.558676242828369\n",
      "4.429934024810791\n",
      "3.878787040710449\n",
      "4.27506160736084\n",
      "4.779202938079834\n",
      "4.816225528717041\n",
      "4.1727614402771\n",
      "5.350734710693359\n",
      "3.2919929027557373\n",
      "2.83524489402771\n",
      "3.2453174591064453\n",
      "2.646540403366089\n",
      "5.100139617919922\n",
      "3.339419364929199\n",
      "\n",
      "0.49314609421624084\n",
      "0.5994953862508009\n",
      "0.5615887032587248\n",
      "\n",
      "time: 3\n",
      "4.259359836578369\n",
      "5.221678733825684\n",
      "4.6791791915893555\n",
      "3.76163387298584\n",
      "5.221678733825684\n",
      "4.260782241821289\n",
      "3.6289143562316895\n",
      "4.256599426269531\n",
      "5.032618045806885\n",
      "5.603991985321045\n",
      "4.757470607757568\n",
      "5.4713335037231445\n",
      "3.5706098079681396\n",
      "3.116421699523926\n",
      "3.323533773422241\n",
      "2.6479098796844482\n",
      "5.91772985458374\n",
      "4.033972263336182\n",
      "\n",
      "0.6191715288162232\n",
      "0.7283440408761763\n",
      "0.3462663239351521\n",
      "\n"
     ]
    }
   ],
   "source": [
    "\n",
    "for i in range(1,4):\n",
    "    base_pred.load_state_dict(torch.load('./Trained_model/basic_ramdom_split_{}.pkl'.format(i),map_location='cuda:0'))\n",
    "    print('time: '+ str(i))\n",
    "    with open('./Dataset/SAMPL6_basic_smiles.txt') as f: #acidic_test_0.15_smiles.txt,SAMPL6_test_acidic.txt\n",
    "        pred = []\n",
    "        label = []\n",
    "        for line in f.readlines():\n",
    "            line = line.replace('\\n','').split('\\t')\n",
    "            molecule_pka,atom_pka = predict(line[0],base_pred)\n",
    "            print(molecule_pka)\n",
    "            pred.append(molecule_pka)\n",
    "            label.append(float(line[1]))\n",
    "\n",
    "    print('')\n",
    "    print(mean_absolute_error(pred,label))\n",
    "    print(mean_squared_error(pred,label)**0.5)\n",
    "    print(r2_score(pred,label))\n",
    "    print('')"
   ]
  },
  {
   "cell_type": "code",
   "execution_count": 9,
   "metadata": {},
   "outputs": [
    {
     "name": "stdout",
     "output_type": "stream",
     "text": [
      "time: 1\n",
      "0.5513672611376628\n",
      "0.9110421235773952\n",
      "0.9080233121048138\n",
      "time: 2\n",
      "0.5430566594588307\n",
      "0.8652425432779225\n",
      "0.9147038803394035\n",
      "time: 3\n",
      "0.5500978914092157\n",
      "0.8816145256831921\n",
      "0.9138485570125634\n"
     ]
    }
   ],
   "source": [
    "for i in range(1,4):\n",
    "    base_pred.load_state_dict(torch.load('./Trained_model/basic_ramdom_split_{}.pkl'.format(i),map_location='cuda:0'))\n",
    "\n",
    "    with open('./Dataset/basic_test_0.15_smiles.txt') as f: #acidic_test_0.15_smiles.txt,SAMPL6_test_acidic.txt\n",
    "        pred = []\n",
    "        label = []\n",
    "        for line in f.readlines():\n",
    "            line = line.replace('\\n','').split('\\t')\n",
    "            molecule_pka,atom_pka = predict(line[0],base_pred)\n",
    "            #print(molecule_pka,float(line[1]))\n",
    "            pred.append(molecule_pka)\n",
    "            label.append(float(line[1]))\n",
    "\n",
    "    print('time: '+ str(i))\n",
    "    print(mean_absolute_error(pred,label))\n",
    "    print(mean_squared_error(pred,label)**0.5)\n",
    "    print(r2_score(pred,label))"
   ]
  },
  {
   "cell_type": "code",
   "execution_count": null,
   "metadata": {},
   "outputs": [],
   "source": []
  },
  {
   "cell_type": "code",
   "execution_count": null,
   "metadata": {},
   "outputs": [],
   "source": []
  },
  {
   "cell_type": "code",
   "execution_count": 10,
   "metadata": {},
   "outputs": [
    {
     "name": "stdout",
     "output_type": "stream",
     "text": [
      "time: 1\n",
      "0.3567237470460973\n",
      "0.507098781434984\n",
      "0.9366450482219731\n",
      "time: 2\n",
      "0.35316574573516846\n",
      "0.5301852122144557\n",
      "0.9289659473127811\n",
      "time: 3\n",
      "0.3710230671841163\n",
      "0.546624469817794\n",
      "0.9260769434136331\n"
     ]
    }
   ],
   "source": [
    "for i in range(1,4):\n",
    "    base_pred.load_state_dict(torch.load('./Trained_model/basic_ramdom_split_{}.pkl'.format(i),map_location='cuda:0'))\n",
    "\n",
    "    with open('./Dataset/Jensen_basic_smiles.txt') as f: #acidic_test_0.15_smiles.txt,SAMPL6_test_acidic.txt\n",
    "        pred = []\n",
    "        label = []\n",
    "        for line in f.readlines():\n",
    "            line = line.replace('\\n','').split('\\t')\n",
    "            molecule_pka,atom_pka = predict(line[0],base_pred)\n",
    "            #print(molecule_pka,float(line[1]))\n",
    "            pred.append(molecule_pka)\n",
    "            label.append(float(line[1]))\n",
    "\n",
    "    print('time: '+ str(i))\n",
    "    print(mean_absolute_error(pred,label))\n",
    "    print(mean_squared_error(pred,label)**0.5)\n",
    "    print(r2_score(pred,label))"
   ]
  },
  {
   "cell_type": "code",
   "execution_count": null,
   "metadata": {},
   "outputs": [],
   "source": []
  },
  {
   "cell_type": "code",
   "execution_count": null,
   "metadata": {},
   "outputs": [],
   "source": []
  },
  {
   "cell_type": "code",
   "execution_count": 1,
   "metadata": {},
   "outputs": [
    {
     "name": "stderr",
     "output_type": "stream",
     "text": [
      "Using backend: pytorch\n"
     ]
    }
   ],
   "source": [
    "from My_Pka_Model import Pka_basic_view,Pka_acidic_view\n",
    "import torch\n",
    "from dgllife.utils import smiles_to_bigraph, CanonicalAtomFeaturizer, CanonicalBondFeaturizer\n",
    "\n",
    "from sklearn.metrics import r2_score,mean_squared_error,mean_absolute_error"
   ]
  },
  {
   "cell_type": "code",
   "execution_count": 2,
   "metadata": {},
   "outputs": [],
   "source": [
    "def predict(smiles,model_view):\n",
    "\n",
    "    node_featurizer = CanonicalAtomFeaturizer(atom_data_field='h')\n",
    "    edge_featurizer = CanonicalBondFeaturizer(bond_data_field='h')\n",
    "    bg = smiles_to_bigraph(smiles= smiles, \n",
    "                  node_featurizer=node_featurizer,\n",
    "                  edge_featurizer=edge_featurizer,canonical_atom_order= False)\n",
    "\n",
    "    with torch.no_grad():\n",
    "        model_view.eval()\n",
    "        molecule_pka,atom_pka = model_view(bg,bg.ndata['h'], bg.edata['h'])\n",
    "        \n",
    "    return molecule_pka,atom_pka"
   ]
  },
  {
   "cell_type": "code",
   "execution_count": 3,
   "metadata": {},
   "outputs": [],
   "source": [
    "acid_pred = Pka_acidic_view(node_feat_size = 74,\n",
    "                            edge_feat_size = 12,\n",
    "                            output_size = 1,\n",
    "                            num_layers= 6,\n",
    "                            graph_feat_size=200,\n",
    "                            dropout=0.2)"
   ]
  },
  {
   "cell_type": "code",
   "execution_count": 4,
   "metadata": {},
   "outputs": [
    {
     "name": "stderr",
     "output_type": "stream",
     "text": [
      "/home/zh/miniconda3/lib/python3.7/site-packages/torch/serialization.py:658: SourceChangeWarning: source code of class 'torch.nn.modules.container.Sequential' has changed. you can retrieve the original source code by accessing the object's source attribute or set `torch.nn.Module.dump_patches = True` and use the patch tool to revert the changes.\n",
      "  warnings.warn(msg, SourceChangeWarning)\n",
      "/home/zh/miniconda3/lib/python3.7/site-packages/torch/serialization.py:658: SourceChangeWarning: source code of class 'torch.nn.modules.linear.Linear' has changed. you can retrieve the original source code by accessing the object's source attribute or set `torch.nn.Module.dump_patches = True` and use the patch tool to revert the changes.\n",
      "  warnings.warn(msg, SourceChangeWarning)\n",
      "/home/zh/miniconda3/lib/python3.7/site-packages/torch/serialization.py:658: SourceChangeWarning: source code of class 'torch.nn.modules.activation.LeakyReLU' has changed. you can retrieve the original source code by accessing the object's source attribute or set `torch.nn.Module.dump_patches = True` and use the patch tool to revert the changes.\n",
      "  warnings.warn(msg, SourceChangeWarning)\n",
      "/home/zh/miniconda3/lib/python3.7/site-packages/torch/serialization.py:658: SourceChangeWarning: source code of class 'torch.nn.modules.dropout.Dropout' has changed. you can retrieve the original source code by accessing the object's source attribute or set `torch.nn.Module.dump_patches = True` and use the patch tool to revert the changes.\n",
      "  warnings.warn(msg, SourceChangeWarning)\n",
      "/home/zh/miniconda3/lib/python3.7/site-packages/torch/serialization.py:658: SourceChangeWarning: source code of class 'torch.nn.modules.rnn.GRUCell' has changed. you can retrieve the original source code by accessing the object's source attribute or set `torch.nn.Module.dump_patches = True` and use the patch tool to revert the changes.\n",
      "  warnings.warn(msg, SourceChangeWarning)\n",
      "/home/zh/miniconda3/lib/python3.7/site-packages/torch/serialization.py:658: SourceChangeWarning: source code of class 'torch.nn.modules.container.ModuleList' has changed. you can retrieve the original source code by accessing the object's source attribute or set `torch.nn.Module.dump_patches = True` and use the patch tool to revert the changes.\n",
      "  warnings.warn(msg, SourceChangeWarning)\n"
     ]
    },
    {
     "name": "stdout",
     "output_type": "stream",
     "text": [
      "4.761752128601074\n",
      "5.2170305252075195\n",
      "11.26727294921875\n",
      "10.702266693115234\n",
      "10.005017280578613\n",
      "11.165238380432129\n",
      "10.458869934082031\n",
      "10.912881851196289\n",
      "9.3477144241333\n",
      "9.120635032653809\n",
      "10.461565017700195\n",
      "8.758251190185547\n",
      "8.480949401855469\n",
      "9.497883796691895\n",
      "5.0338664054870605\n",
      "4.833774566650391\n",
      "6.3165974617004395\n",
      "4.790356159210205\n",
      "4.623432159423828\n",
      "6.1063079833984375\n",
      "\n",
      "0.6589761419296264\n",
      "0.8533253869449401\n",
      "0.8822999540969091\n",
      "\n"
     ]
    }
   ],
   "source": [
    "acid_pred=torch.load('./Trained_model/acid_pred.pkl')\n",
    "\n",
    "with open('./Dataset/SAMPL7_acidic_smiles.txt') as f: #acidic_test_0.15_smiles.txt,SAMPL7_acidic_smiles.txt\n",
    "    pred = []\n",
    "    label = []\n",
    "    for line in f.readlines():\n",
    "        line = line.replace('\\n','').split('\\t')\n",
    "        molecule_pka,atom_pka = predict(line[0],acid_pred)\n",
    "        print(molecule_pka)\n",
    "        pred.append(molecule_pka)\n",
    "        label.append(float(line[1]))\n",
    "\n",
    "print('')\n",
    "print(mean_absolute_error(pred,label))\n",
    "print(mean_squared_error(pred,label)**0.5)\n",
    "print(r2_score(pred,label))\n",
    "print('')"
   ]
  },
  {
   "cell_type": "code",
   "execution_count": null,
   "metadata": {},
   "outputs": [],
   "source": []
  },
  {
   "cell_type": "code",
   "execution_count": null,
   "metadata": {},
   "outputs": [],
   "source": []
  },
  {
   "cell_type": "code",
   "execution_count": 5,
   "metadata": {},
   "outputs": [
    {
     "name": "stderr",
     "output_type": "stream",
     "text": [
      "/home/zh/miniconda3/lib/python3.7/site-packages/torch/serialization.py:658: SourceChangeWarning: source code of class 'torch.nn.modules.container.Sequential' has changed. you can retrieve the original source code by accessing the object's source attribute or set `torch.nn.Module.dump_patches = True` and use the patch tool to revert the changes.\n",
      "  warnings.warn(msg, SourceChangeWarning)\n",
      "/home/zh/miniconda3/lib/python3.7/site-packages/torch/serialization.py:658: SourceChangeWarning: source code of class 'torch.nn.modules.linear.Linear' has changed. you can retrieve the original source code by accessing the object's source attribute or set `torch.nn.Module.dump_patches = True` and use the patch tool to revert the changes.\n",
      "  warnings.warn(msg, SourceChangeWarning)\n",
      "/home/zh/miniconda3/lib/python3.7/site-packages/torch/serialization.py:658: SourceChangeWarning: source code of class 'torch.nn.modules.activation.LeakyReLU' has changed. you can retrieve the original source code by accessing the object's source attribute or set `torch.nn.Module.dump_patches = True` and use the patch tool to revert the changes.\n",
      "  warnings.warn(msg, SourceChangeWarning)\n",
      "/home/zh/miniconda3/lib/python3.7/site-packages/torch/serialization.py:658: SourceChangeWarning: source code of class 'torch.nn.modules.dropout.Dropout' has changed. you can retrieve the original source code by accessing the object's source attribute or set `torch.nn.Module.dump_patches = True` and use the patch tool to revert the changes.\n",
      "  warnings.warn(msg, SourceChangeWarning)\n",
      "/home/zh/miniconda3/lib/python3.7/site-packages/torch/serialization.py:658: SourceChangeWarning: source code of class 'torch.nn.modules.rnn.GRUCell' has changed. you can retrieve the original source code by accessing the object's source attribute or set `torch.nn.Module.dump_patches = True` and use the patch tool to revert the changes.\n",
      "  warnings.warn(msg, SourceChangeWarning)\n",
      "/home/zh/miniconda3/lib/python3.7/site-packages/torch/serialization.py:658: SourceChangeWarning: source code of class 'torch.nn.modules.container.ModuleList' has changed. you can retrieve the original source code by accessing the object's source attribute or set `torch.nn.Module.dump_patches = True` and use the patch tool to revert the changes.\n",
      "  warnings.warn(msg, SourceChangeWarning)\n"
     ]
    },
    {
     "name": "stdout",
     "output_type": "stream",
     "text": [
      "8.63145923614502\n",
      "7.254913330078125\n",
      "11.661334037780762\n",
      "3.811230182647705\n",
      "9.551641464233398\n",
      "8.686821937561035\n",
      "12.492609977722168\n",
      "9.147997856140137\n",
      "9.21206283569336\n",
      "6.983104228973389\n",
      "7.8885111808776855\n",
      "\n",
      "0.6154430996287953\n",
      "0.7944162676825823\n",
      "0.8712716306668987\n",
      "\n"
     ]
    }
   ],
   "source": [
    "acid_pred=torch.load('./Trained_model/acid_pred.pkl')\n",
    "\n",
    "with open('./Dataset/SAMPL6_acidic_smiles.txt') as f: #acidic_test_0.15_smiles.txt,SAMPL7_acidic_smiles.txt\n",
    "    pred = []\n",
    "    label = []\n",
    "    for line in f.readlines():\n",
    "        line = line.replace('\\n','').split('\\t')\n",
    "        molecule_pka,atom_pka = predict(line[0],acid_pred)\n",
    "        print(molecule_pka)\n",
    "        pred.append(molecule_pka)\n",
    "        label.append(float(line[1]))\n",
    "\n",
    "print('')\n",
    "print(mean_absolute_error(pred,label))\n",
    "print(mean_squared_error(pred,label)**0.5)\n",
    "print(r2_score(pred,label))\n",
    "print('')"
   ]
  },
  {
   "cell_type": "code",
   "execution_count": null,
   "metadata": {},
   "outputs": [],
   "source": [
    "11"
   ]
  },
  {
   "cell_type": "code",
   "execution_count": 6,
   "metadata": {},
   "outputs": [],
   "source": [
    "base_pred = Pka_basic_view(node_feat_size = 74,\n",
    "                            edge_feat_size = 12,\n",
    "                            output_size = 1,\n",
    "                            num_layers= 6,\n",
    "                            graph_feat_size=200,\n",
    "                            dropout=0.2)"
   ]
  },
  {
   "cell_type": "code",
   "execution_count": 7,
   "metadata": {},
   "outputs": [
    {
     "name": "stderr",
     "output_type": "stream",
     "text": [
      "/home/zh/miniconda3/lib/python3.7/site-packages/torch/serialization.py:658: SourceChangeWarning: source code of class 'My_Pka_Model.Pka_basic_view' has changed. you can retrieve the original source code by accessing the object's source attribute or set `torch.nn.Module.dump_patches = True` and use the patch tool to revert the changes.\n",
      "  warnings.warn(msg, SourceChangeWarning)\n",
      "/home/zh/miniconda3/lib/python3.7/site-packages/torch/serialization.py:658: SourceChangeWarning: source code of class 'torch.nn.modules.container.Sequential' has changed. you can retrieve the original source code by accessing the object's source attribute or set `torch.nn.Module.dump_patches = True` and use the patch tool to revert the changes.\n",
      "  warnings.warn(msg, SourceChangeWarning)\n",
      "/home/zh/miniconda3/lib/python3.7/site-packages/torch/serialization.py:658: SourceChangeWarning: source code of class 'torch.nn.modules.linear.Linear' has changed. you can retrieve the original source code by accessing the object's source attribute or set `torch.nn.Module.dump_patches = True` and use the patch tool to revert the changes.\n",
      "  warnings.warn(msg, SourceChangeWarning)\n",
      "/home/zh/miniconda3/lib/python3.7/site-packages/torch/serialization.py:658: SourceChangeWarning: source code of class 'torch.nn.modules.activation.LeakyReLU' has changed. you can retrieve the original source code by accessing the object's source attribute or set `torch.nn.Module.dump_patches = True` and use the patch tool to revert the changes.\n",
      "  warnings.warn(msg, SourceChangeWarning)\n",
      "/home/zh/miniconda3/lib/python3.7/site-packages/torch/serialization.py:658: SourceChangeWarning: source code of class 'torch.nn.modules.dropout.Dropout' has changed. you can retrieve the original source code by accessing the object's source attribute or set `torch.nn.Module.dump_patches = True` and use the patch tool to revert the changes.\n",
      "  warnings.warn(msg, SourceChangeWarning)\n",
      "/home/zh/miniconda3/lib/python3.7/site-packages/torch/serialization.py:658: SourceChangeWarning: source code of class 'torch.nn.modules.rnn.GRUCell' has changed. you can retrieve the original source code by accessing the object's source attribute or set `torch.nn.Module.dump_patches = True` and use the patch tool to revert the changes.\n",
      "  warnings.warn(msg, SourceChangeWarning)\n",
      "/home/zh/miniconda3/lib/python3.7/site-packages/torch/serialization.py:658: SourceChangeWarning: source code of class 'torch.nn.modules.container.ModuleList' has changed. you can retrieve the original source code by accessing the object's source attribute or set `torch.nn.Module.dump_patches = True` and use the patch tool to revert the changes.\n",
      "  warnings.warn(msg, SourceChangeWarning)\n"
     ]
    },
    {
     "name": "stdout",
     "output_type": "stream",
     "text": [
      "4.673941135406494\n",
      "5.243436336517334\n",
      "3.7530205249786377\n",
      "2.6559715270996094\n",
      "5.270466327667236\n",
      "4.68306303024292\n",
      "3.767454147338867\n",
      "4.652645111083984\n",
      "5.194212436676025\n",
      "4.870110034942627\n",
      "4.719622611999512\n",
      "5.155691146850586\n",
      "3.50388765335083\n",
      "3.124019145965576\n",
      "3.892946481704712\n",
      "2.5847835540771484\n",
      "6.120266437530518\n",
      "3.9156174659729004\n",
      "\n",
      "0.5291799237993028\n",
      "0.6232898545493251\n",
      "0.566707090716286\n",
      "\n"
     ]
    }
   ],
   "source": [
    "base_pred=torch.load('./Trained_model/base_pred.pkl')\n",
    "\n",
    "with open('./Dataset/SAMPL6_basic_smiles.txt') as f: #acidic_test_0.15_smiles.txt,SAMPL6_test_acidic.txt\n",
    "    pred = []\n",
    "    label = []\n",
    "    for line in f.readlines():\n",
    "        line = line.replace('\\n','').split('\\t')\n",
    "        molecule_pka,atom_pka = predict(line[0],base_pred)\n",
    "        print(molecule_pka)\n",
    "        pred.append(molecule_pka)\n",
    "        label.append(float(line[1]))\n",
    "\n",
    "print('')\n",
    "print(mean_absolute_error(pred,label))\n",
    "print(mean_squared_error(pred,label)**0.5)\n",
    "print(r2_score(pred,label))\n",
    "print('')"
   ]
  },
  {
   "cell_type": "code",
   "execution_count": null,
   "metadata": {},
   "outputs": [],
   "source": [
    "18*0.529 + "
   ]
  }
 ],
 "metadata": {
  "kernelspec": {
   "display_name": "Python 3",
   "language": "python",
   "name": "python3"
  },
  "language_info": {
   "codemirror_mode": {
    "name": "ipython",
    "version": 3
   },
   "file_extension": ".py",
   "mimetype": "text/x-python",
   "name": "python",
   "nbconvert_exporter": "python",
   "pygments_lexer": "ipython3",
   "version": "3.7.0"
  }
 },
 "nbformat": 4,
 "nbformat_minor": 2
}
