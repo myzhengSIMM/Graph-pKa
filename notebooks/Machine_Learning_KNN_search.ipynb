{
 "cells": [
  {
   "cell_type": "code",
   "execution_count": 1,
   "metadata": {},
   "outputs": [],
   "source": [
    "import numpy as np\n",
    "import pandas as pd\n",
    "import pickle\n",
    "from sklearn.svm import SVR\n",
    "from sklearn.neighbors import KNeighborsRegressor\n",
    "from sklearn.ensemble import RandomForestRegressor\n",
    "from sklearn.linear_model import LinearRegression\n",
    "from sklearn.neural_network import MLPRegressor\n",
    "from xgboost.sklearn import XGBRegressor\n",
    "from sklearn.metrics import r2_score,mean_squared_error,mean_absolute_error"
   ]
  },
  {
   "cell_type": "markdown",
   "metadata": {},
   "source": [
    "# Basic"
   ]
  },
  {
   "cell_type": "code",
   "execution_count": 2,
   "metadata": {},
   "outputs": [],
   "source": [
    "df_train = pd.read_csv('./Dataset/basic_train_0.70_FP.csv',header = None)\n",
    "df_val = pd.read_csv('./Dataset/basic_val_0.15_FP.csv',header = None)"
   ]
  },
  {
   "cell_type": "code",
   "execution_count": 3,
   "metadata": {},
   "outputs": [
    {
     "name": "stdout",
     "output_type": "stream",
     "text": [
      "(5905, 9122)\n",
      "(1265, 9122)\n"
     ]
    }
   ],
   "source": [
    "train_data_label = np.array(df_train)\n",
    "print(train_data_label.shape)\n",
    "val_data_label = np.array(df_val)\n",
    "print(val_data_label.shape)\n",
    "X_train, X_val, y_train, y_val = train_data_label[:,1:],val_data_label[:,1:],train_data_label[:,0],val_data_label[:,0]"
   ]
  },
  {
   "cell_type": "code",
   "execution_count": 4,
   "metadata": {},
   "outputs": [
    {
     "name": "stdout",
     "output_type": "stream",
     "text": [
      "n_neighbors: 1\n",
      "p:1\n",
      "0.8987642970932805\n",
      "1.7092914545949933\n",
      "0.7046679354431644\n",
      "\n",
      "\n",
      "n_neighbors: 1\n",
      "p:2\n",
      "0.8987642970932805\n",
      "1.7092914545949933\n",
      "0.7046679354431644\n",
      "\n",
      "\n",
      "n_neighbors: 1\n",
      "p:3\n",
      "0.8987642970932805\n",
      "1.7092914545949933\n",
      "0.7046679354431644\n",
      "\n",
      "\n",
      "n_neighbors: 2\n",
      "p:1\n",
      "0.828379006854927\n",
      "1.4811733003498462\n",
      "0.7782364790798578\n",
      "\n",
      "\n",
      "n_neighbors: 2\n",
      "p:2\n",
      "0.8427553936231313\n",
      "1.4941911880305327\n",
      "0.7743212330851967\n",
      "\n",
      "\n",
      "n_neighbors: 2\n",
      "p:3\n",
      "0.8489322899142657\n",
      "1.5014416002692323\n",
      "0.7721257523326068\n",
      "\n",
      "\n"
     ]
    }
   ],
   "source": [
    "for k in range(1, 3):\n",
    "    for p in range(1, 4):\n",
    "        model = KNeighborsRegressor(n_neighbors = k, weights = \"distance\", p = p)\n",
    "        model.fit(X_train, y_train)\n",
    "        y_pred = model.predict(X_val)\n",
    "        print('n_neighbors: '+ str(k))\n",
    "        print('p:'+ str(p))\n",
    "        print(mean_absolute_error(y_val, y_pred))\n",
    "        print(mean_squared_error(y_val, y_pred)**0.5)\n",
    "        print(r2_score(y_val, y_pred))\n",
    "        print('\\n')"
   ]
  },
  {
   "cell_type": "code",
   "execution_count": null,
   "metadata": {},
   "outputs": [],
   "source": []
  },
  {
   "cell_type": "markdown",
   "metadata": {},
   "source": [
    "# Acidic"
   ]
  },
  {
   "cell_type": "code",
   "execution_count": 5,
   "metadata": {},
   "outputs": [],
   "source": [
    "df_train = pd.read_csv('./Dataset/acidic_train_0.70_FP.csv',header = None)\n",
    "df_val = pd.read_csv('./Dataset/acidic_val_0.15_FP.csv',header = None)"
   ]
  },
  {
   "cell_type": "code",
   "execution_count": 6,
   "metadata": {},
   "outputs": [
    {
     "name": "stdout",
     "output_type": "stream",
     "text": [
      "(6337, 9122)\n",
      "(1358, 9122)\n"
     ]
    }
   ],
   "source": [
    "train_data_label = np.array(df_train)\n",
    "print(train_data_label.shape)\n",
    "val_data_label = np.array(df_val)\n",
    "print(val_data_label.shape)\n",
    "X_train, X_val, y_train, y_val = train_data_label[:,1:],val_data_label[:,1:],train_data_label[:,0],val_data_label[:,0]"
   ]
  },
  {
   "cell_type": "code",
   "execution_count": 7,
   "metadata": {},
   "outputs": [
    {
     "name": "stdout",
     "output_type": "stream",
     "text": [
      "n_neighbors: 1\n",
      "p:1\n",
      "0.9299421368843888\n",
      "1.953559825907379\n",
      "0.6984231218139078\n",
      "\n",
      "\n",
      "n_neighbors: 1\n",
      "p:2\n",
      "0.9299421368843888\n",
      "1.953559825907379\n",
      "0.6984231218139078\n",
      "\n",
      "\n",
      "n_neighbors: 1\n",
      "p:3\n",
      "0.9299421368843888\n",
      "1.953559825907379\n",
      "0.6984231218139078\n",
      "\n",
      "\n",
      "n_neighbors: 2\n",
      "p:1\n",
      "0.8951561382446477\n",
      "1.7080004514498863\n",
      "0.7694736509093902\n",
      "\n",
      "\n",
      "n_neighbors: 2\n",
      "p:2\n",
      "0.9059305992338809\n",
      "1.7248049842012005\n",
      "0.7649151689470812\n",
      "\n",
      "\n",
      "n_neighbors: 2\n",
      "p:3\n",
      "0.910534127661891\n",
      "1.7328104264433521\n",
      "0.7627278776562872\n",
      "\n",
      "\n"
     ]
    }
   ],
   "source": [
    "for k in range(1, 3):\n",
    "    for p in range(1, 4):\n",
    "        model = KNeighborsRegressor(n_neighbors = k, weights = \"distance\", p = p)\n",
    "        model.fit(X_train, y_train)\n",
    "        y_pred = model.predict(X_val)\n",
    "        print('n_neighbors: '+ str(k))\n",
    "        print('p:'+ str(p))\n",
    "        print(mean_absolute_error(y_val, y_pred))\n",
    "        print(mean_squared_error(y_val, y_pred)**0.5)\n",
    "        print(r2_score(y_val, y_pred))\n",
    "        print('\\n')"
   ]
  },
  {
   "cell_type": "code",
   "execution_count": null,
   "metadata": {},
   "outputs": [],
   "source": []
  },
  {
   "cell_type": "code",
   "execution_count": null,
   "metadata": {},
   "outputs": [],
   "source": []
  },
  {
   "cell_type": "code",
   "execution_count": null,
   "metadata": {},
   "outputs": [],
   "source": []
  },
  {
   "cell_type": "code",
   "execution_count": null,
   "metadata": {},
   "outputs": [],
   "source": [
    "# n_neighbors: 3\n",
    "# p: 1"
   ]
  }
 ],
 "metadata": {
  "kernelspec": {
   "display_name": "Python 3",
   "language": "python",
   "name": "python3"
  },
  "language_info": {
   "codemirror_mode": {
    "name": "ipython",
    "version": 3
   },
   "file_extension": ".py",
   "mimetype": "text/x-python",
   "name": "python",
   "nbconvert_exporter": "python",
   "pygments_lexer": "ipython3",
   "version": "3.6.10"
  }
 },
 "nbformat": 4,
 "nbformat_minor": 4
}
