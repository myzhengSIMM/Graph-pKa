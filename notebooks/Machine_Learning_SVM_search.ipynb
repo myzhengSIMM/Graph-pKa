{
 "cells": [
  {
   "cell_type": "code",
   "execution_count": 1,
   "metadata": {},
   "outputs": [],
   "source": [
    "import numpy as np\n",
    "import pandas as pd\n",
    "import pickle\n",
    "from sklearn.svm import SVR\n",
    "from sklearn.neighbors import KNeighborsRegressor\n",
    "from sklearn.ensemble import RandomForestRegressor\n",
    "from sklearn.linear_model import LinearRegression\n",
    "from sklearn.neural_network import MLPRegressor\n",
    "from xgboost.sklearn import XGBRegressor\n",
    "from sklearn.metrics import r2_score,mean_squared_error,mean_absolute_error"
   ]
  },
  {
   "cell_type": "markdown",
   "metadata": {},
   "source": [
    "# basic"
   ]
  },
  {
   "cell_type": "code",
   "execution_count": 2,
   "metadata": {},
   "outputs": [],
   "source": [
    "df_train = pd.read_csv('./Dataset/basic_train_0.70_FP.csv',header = None)\n",
    "df_val = pd.read_csv('./Dataset/basic_val_0.15_FP.csv',header = None)"
   ]
  },
  {
   "cell_type": "code",
   "execution_count": 3,
   "metadata": {},
   "outputs": [
    {
     "name": "stdout",
     "output_type": "stream",
     "text": [
      "(5905, 9122)\n",
      "(1265, 9122)\n"
     ]
    }
   ],
   "source": [
    "train_data_label = np.array(df_train)\n",
    "print(train_data_label.shape)\n",
    "val_data_label = np.array(df_val)\n",
    "print(val_data_label.shape)\n",
    "X_train, X_val, y_train, y_val = train_data_label[:,1:],val_data_label[:,1:],train_data_label[:,0],val_data_label[:,0]"
   ]
  },
  {
   "cell_type": "code",
   "execution_count": 4,
   "metadata": {},
   "outputs": [],
   "source": [
    "# 主要参数 gamma_list,C_list "
   ]
  },
  {
   "cell_type": "code",
   "execution_count": 5,
   "metadata": {},
   "outputs": [],
   "source": [
    "gamma_list = [0.0001,0.001,0.01]\n",
    "C_list = [10,100,1000,1000]"
   ]
  },
  {
   "cell_type": "code",
   "execution_count": null,
   "metadata": {},
   "outputs": [
    {
     "name": "stdout",
     "output_type": "stream",
     "text": [
      "gamma: 0.0001\n",
      "C: 10\n",
      "1.057332841249781\n",
      "1.6354755668200238\n",
      "0.7296250330993498\n",
      "\n",
      "\n",
      "gamma: 0.0001\n",
      "C: 100\n",
      "0.8594898960023014\n",
      "1.3677649011520712\n",
      "0.8108957591843321\n",
      "\n",
      "\n",
      "gamma: 0.0001\n",
      "C: 1000\n",
      "0.7945075602032554\n",
      "1.2303925026522005\n",
      "0.8469738292706601\n",
      "\n",
      "\n",
      "gamma: 0.0001\n",
      "C: 1000\n",
      "0.7945075602032554\n",
      "1.2303925026522005\n",
      "0.8469738292706601\n",
      "\n",
      "\n",
      "gamma: 0.001\n",
      "C: 10\n",
      "0.7371568725271554\n",
      "1.2381554281083422\n",
      "0.8450367591662041\n",
      "\n",
      "\n",
      "gamma: 0.001\n",
      "C: 100\n",
      "0.6822126261968764\n",
      "1.0653379273969394\n",
      "0.8852763024138123\n",
      "\n",
      "\n",
      "gamma: 0.001\n",
      "C: 1000\n",
      "0.7003603313326056\n",
      "1.0951027721824274\n",
      "0.8787761381623305\n",
      "\n",
      "\n",
      "gamma: 0.001\n",
      "C: 1000\n",
      "0.7003603313326056\n",
      "1.0951027721824274\n",
      "0.8787761381623305\n",
      "\n",
      "\n",
      "gamma: 0.01\n",
      "C: 10\n",
      "0.8920891013134024\n",
      "1.3887087867583021\n",
      "0.8050601060904748\n",
      "\n",
      "\n",
      "gamma: 0.01\n",
      "C: 100\n",
      "0.8888199320214363\n",
      "1.3768799406123822\n",
      "0.8083669092048664\n",
      "\n",
      "\n",
      "gamma: 0.01\n",
      "C: 1000\n",
      "0.8888201204687486\n",
      "1.3768791619677438\n",
      "0.8083671259471285\n",
      "\n",
      "\n"
     ]
    }
   ],
   "source": [
    "for gamma in gamma_list:\n",
    "    for C in C_list:\n",
    "        model = SVR(kernel='rbf',gamma = gamma,C = C)\n",
    "        model.fit(X_train, y_train)\n",
    "        y_pred = model.predict(X_val)\n",
    "        print('gamma: '+ str(gamma))\n",
    "        print('C: '+ str(C))\n",
    "        print(mean_absolute_error(y_val, y_pred))\n",
    "        print(mean_squared_error(y_val, y_pred)**0.5)\n",
    "        print(r2_score(y_val, y_pred))\n",
    "        print('\\n')"
   ]
  },
  {
   "cell_type": "code",
   "execution_count": null,
   "metadata": {},
   "outputs": [],
   "source": [
    "#gamma: 0.001\n",
    "#C: 100\n",
    "# is the best"
   ]
  },
  {
   "cell_type": "code",
   "execution_count": null,
   "metadata": {},
   "outputs": [],
   "source": []
  },
  {
   "cell_type": "markdown",
   "metadata": {},
   "source": [
    "# acidic"
   ]
  },
  {
   "cell_type": "code",
   "execution_count": 2,
   "metadata": {},
   "outputs": [],
   "source": [
    "df_train = pd.read_csv('./Dataset/acidic_train_0.70_FP.csv',header = None)\n",
    "df_val = pd.read_csv('./Dataset/acidic_val_0.15_FP.csv',header = None)"
   ]
  },
  {
   "cell_type": "code",
   "execution_count": 3,
   "metadata": {},
   "outputs": [
    {
     "name": "stdout",
     "output_type": "stream",
     "text": [
      "(6337, 9122)\n",
      "(1358, 9122)\n"
     ]
    }
   ],
   "source": [
    "train_data_label = np.array(df_train)\n",
    "print(train_data_label.shape)\n",
    "val_data_label = np.array(df_val)\n",
    "print(val_data_label.shape)\n",
    "X_train, X_val, y_train, y_val = train_data_label[:,1:],val_data_label[:,1:],train_data_label[:,0],val_data_label[:,0]"
   ]
  },
  {
   "cell_type": "code",
   "execution_count": 4,
   "metadata": {},
   "outputs": [],
   "source": [
    "gamma_list = [0.0001,0.001,0.01]\n",
    "C_list = [10,100,1000]"
   ]
  },
  {
   "cell_type": "code",
   "execution_count": 5,
   "metadata": {},
   "outputs": [
    {
     "name": "stdout",
     "output_type": "stream",
     "text": [
      "gamma: 0.0001\n",
      "C: 10\n",
      "1.1090289361407368\n",
      "2.1365295990452857\n",
      "0.6392864657854487\n",
      "\n",
      "\n",
      "gamma: 0.0001\n",
      "C: 100\n",
      "0.931363149786978\n",
      "1.869981680007711\n",
      "0.7236755503935768\n",
      "\n",
      "\n",
      "gamma: 0.0001\n",
      "C: 1000\n",
      "0.8799425772540612\n",
      "1.7146233307745162\n",
      "0.7676824239562464\n",
      "\n",
      "\n",
      "gamma: 0.001\n",
      "C: 10\n",
      "0.8167771065054878\n",
      "1.7346056162233348\n",
      "0.7622359956550062\n",
      "\n",
      "\n",
      "gamma: 0.001\n",
      "C: 100\n",
      "0.7638273121130169\n",
      "1.5166762345469165\n",
      "0.818226582108724\n",
      "\n",
      "\n",
      "gamma: 0.001\n",
      "C: 1000\n",
      "0.8020299386180582\n",
      "1.3735897147833318\n",
      "0.8509065135728712\n",
      "\n",
      "\n",
      "gamma: 0.01\n",
      "C: 10\n",
      "1.0218058807156447\n",
      "1.7560624470852368\n",
      "0.7563173990540605\n",
      "\n",
      "\n",
      "gamma: 0.01\n",
      "C: 100\n",
      "1.014423487951145\n",
      "1.5888295294354413\n",
      "0.8005200660496186\n",
      "\n",
      "\n",
      "gamma: 0.01\n",
      "C: 1000\n",
      "1.014424700901857\n",
      "1.5888324261883933\n",
      "0.800519338665587\n",
      "\n",
      "\n"
     ]
    }
   ],
   "source": [
    "for gamma in gamma_list:\n",
    "    for C in C_list:\n",
    "        model = SVR(kernel='rbf',gamma = gamma,C = C)\n",
    "        model.fit(X_train, y_train)\n",
    "        y_pred = model.predict(X_val)\n",
    "        print('gamma: '+ str(gamma))\n",
    "        print('C: '+ str(C))\n",
    "        print(mean_absolute_error(y_val, y_pred))\n",
    "        print(mean_squared_error(y_val, y_pred)**0.5)\n",
    "        print(r2_score(y_val, y_pred))\n",
    "        print('\\n')"
   ]
  },
  {
   "cell_type": "code",
   "execution_count": null,
   "metadata": {},
   "outputs": [],
   "source": []
  },
  {
   "cell_type": "code",
   "execution_count": null,
   "metadata": {},
   "outputs": [],
   "source": []
  },
  {
   "cell_type": "code",
   "execution_count": null,
   "metadata": {},
   "outputs": [],
   "source": []
  },
  {
   "cell_type": "code",
   "execution_count": null,
   "metadata": {},
   "outputs": [],
   "source": []
  },
  {
   "cell_type": "code",
   "execution_count": null,
   "metadata": {},
   "outputs": [],
   "source": []
  },
  {
   "cell_type": "code",
   "execution_count": null,
   "metadata": {},
   "outputs": [],
   "source": []
  },
  {
   "cell_type": "code",
   "execution_count": null,
   "metadata": {},
   "outputs": [],
   "source": []
  },
  {
   "cell_type": "code",
   "execution_count": null,
   "metadata": {},
   "outputs": [],
   "source": []
  },
  {
   "cell_type": "code",
   "execution_count": null,
   "metadata": {},
   "outputs": [],
   "source": []
  },
  {
   "cell_type": "code",
   "execution_count": null,
   "metadata": {},
   "outputs": [],
   "source": [
    "gamma = 0.0003"
   ]
  },
  {
   "cell_type": "markdown",
   "metadata": {},
   "source": [
    "# acidic"
   ]
  },
  {
   "cell_type": "code",
   "execution_count": 8,
   "metadata": {},
   "outputs": [],
   "source": [
    "df_train = pd.read_csv('./Dataset/acidic_train_0.70_FP.csv',header = None)\n",
    "df_val = pd.read_csv('./Dataset/acidic_val_0.15_FP.csv',header = None)"
   ]
  },
  {
   "cell_type": "code",
   "execution_count": 9,
   "metadata": {},
   "outputs": [
    {
     "name": "stdout",
     "output_type": "stream",
     "text": [
      "(6340, 9122)\n",
      "(1359, 9122)\n"
     ]
    }
   ],
   "source": [
    "train_data_label = np.array(df_train)\n",
    "print(train_data_label.shape)\n",
    "val_data_label = np.array(df_val)\n",
    "print(val_data_label.shape)\n",
    "X_train, X_val, y_train, y_val = train_data_label[:,1:],val_data_label[:,1:],train_data_label[:,0],val_data_label[:,0]"
   ]
  },
  {
   "cell_type": "code",
   "execution_count": 10,
   "metadata": {},
   "outputs": [],
   "source": [
    "n_estimators_list = [50,100,150,200,250,300]"
   ]
  },
  {
   "cell_type": "code",
   "execution_count": null,
   "metadata": {},
   "outputs": [
    {
     "name": "stdout",
     "output_type": "stream",
     "text": [
      "n_estimators: 50\n",
      "0.7442790395011353\n",
      "1.375920550234559\n",
      "0.8483250064769376\n",
      "\n",
      "\n",
      "n_estimators: 100\n",
      "0.7337648420750158\n",
      "1.3610774309768003\n",
      "0.8515798260924224\n",
      "\n",
      "\n",
      "n_estimators: 150\n",
      "0.7361711910299321\n",
      "1.3897271948565841\n",
      "0.8452657754078012\n",
      "\n",
      "\n",
      "n_estimators: 200\n",
      "0.7317477031732971\n",
      "1.3709662971706857\n",
      "0.8494153070171424\n",
      "\n",
      "\n"
     ]
    }
   ],
   "source": [
    "for n_estimators in n_estimators_list:\n",
    "    model = RandomForestRegressor(n_estimators = n_estimators,random_state= 0)\n",
    "    model.fit(X_train, y_train)\n",
    "    y_pred = model.predict(X_val)\n",
    "    print('n_estimators: '+ str(n_estimators))\n",
    "    print(mean_absolute_error(y_val, y_pred))\n",
    "    print(mean_squared_error(y_val, y_pred)**0.5)\n",
    "    print(r2_score(y_val, y_pred))\n",
    "    print('\\n')"
   ]
  },
  {
   "cell_type": "code",
   "execution_count": null,
   "metadata": {},
   "outputs": [],
   "source": []
  },
  {
   "cell_type": "code",
   "execution_count": null,
   "metadata": {},
   "outputs": [],
   "source": []
  },
  {
   "cell_type": "code",
   "execution_count": null,
   "metadata": {},
   "outputs": [],
   "source": []
  },
  {
   "cell_type": "code",
   "execution_count": null,
   "metadata": {},
   "outputs": [],
   "source": []
  },
  {
   "cell_type": "code",
   "execution_count": null,
   "metadata": {},
   "outputs": [],
   "source": []
  },
  {
   "cell_type": "code",
   "execution_count": 4,
   "metadata": {},
   "outputs": [],
   "source": [
    "max_depth_list = [5,10,20,30,50,100,200]"
   ]
  },
  {
   "cell_type": "code",
   "execution_count": 5,
   "metadata": {},
   "outputs": [
    {
     "name": "stdout",
     "output_type": "stream",
     "text": [
      "max_depth: 5\n",
      "1.3595355299866483\n",
      "1.8566089944759603\n",
      "0.63115361403564\n",
      "\n",
      "\n",
      "max_depth: 10\n",
      "0.9841630351104538\n",
      "1.4622233522244361\n",
      "0.7712126208910779\n",
      "\n",
      "\n",
      "max_depth: 20\n",
      "0.7765290149106652\n",
      "1.294006262652562\n",
      "0.8208250100680626\n",
      "\n",
      "\n",
      "max_depth: 30\n",
      "0.7481074774881789\n",
      "1.2815386736143541\n",
      "0.8242610344926947\n",
      "\n",
      "\n",
      "max_depth: 50\n",
      "0.7494307471567673\n",
      "1.2830433906575012\n",
      "0.8238481048380166\n",
      "\n",
      "\n",
      "max_depth: 100\n",
      "0.7499129314075259\n",
      "1.282769237863715\n",
      "0.8239233748953126\n",
      "\n",
      "\n",
      "max_depth: 200\n",
      "0.7499129314075259\n",
      "1.282769237863715\n",
      "0.8239233748953126\n",
      "\n",
      "\n"
     ]
    }
   ],
   "source": [
    "for max_depth in max_depth_list:\n",
    "    model = RandomForestRegressor(n_estimators = 100,max_depth = max_depth,random_state= 0)\n",
    "    model.fit(X_train, y_train)\n",
    "    y_pred = model.predict(X_val)\n",
    "    print('max_depth: '+ str(max_depth))\n",
    "    print(mean_absolute_error(y_val, y_pred))\n",
    "    print(mean_squared_error(y_val, y_pred)**0.5)\n",
    "    print(r2_score(y_val, y_pred))\n",
    "    print('\\n')"
   ]
  },
  {
   "cell_type": "code",
   "execution_count": 9,
   "metadata": {},
   "outputs": [
    {
     "name": "stdout",
     "output_type": "stream",
     "text": [
      "0.729922939318576\n",
      "1.2121947312079646\n",
      "0.8358249444621112\n"
     ]
    }
   ],
   "source": [
    "df_test = pd.read_csv('./Dataset/basic_test_0.15_FP.csv',header = None)\n",
    "test_data_label = np.array(df_test)\n",
    "X_test, y_test = test_data_label[:,1:],test_data_label[:,0]\n",
    "\n",
    "y_pred = model.predict(X_test)\n",
    "print(mean_absolute_error(y_test, y_pred))\n",
    "print(mean_squared_error(y_test, y_pred)**0.5)\n",
    "print(r2_score(y_test, y_pred))"
   ]
  },
  {
   "cell_type": "code",
   "execution_count": 10,
   "metadata": {},
   "outputs": [
    {
     "name": "stdout",
     "output_type": "stream",
     "text": [
      "0.8494303731834631\n",
      "1.4479140196942184\n",
      "-0.32796781902367456\n"
     ]
    }
   ],
   "source": [
    "df_test = pd.read_csv('./Dataset/SAMPL6_basic_FP.csv',header = None)\n",
    "test_data_label = np.array(df_test)\n",
    "X_test, y_test = test_data_label[:,1:],test_data_label[:,0]\n",
    "\n",
    "y_pred = model.predict(X_test)\n",
    "print(mean_absolute_error(y_test, y_pred))\n",
    "print(mean_squared_error(y_test, y_pred)**0.5)\n",
    "print(r2_score(y_test, y_pred))"
   ]
  }
 ],
 "metadata": {
  "kernelspec": {
   "display_name": "Python 3",
   "language": "python",
   "name": "python3"
  },
  "language_info": {
   "codemirror_mode": {
    "name": "ipython",
    "version": 3
   },
   "file_extension": ".py",
   "mimetype": "text/x-python",
   "name": "python",
   "nbconvert_exporter": "python",
   "pygments_lexer": "ipython3",
   "version": "3.6.10"
  }
 },
 "nbformat": 4,
 "nbformat_minor": 2
}
