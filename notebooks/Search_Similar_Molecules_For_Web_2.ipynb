{
 "cells": [
  {
   "cell_type": "markdown",
   "metadata": {},
   "source": [
    "# Search-定类型-选原子"
   ]
  },
  {
   "cell_type": "code",
   "execution_count": 1,
   "metadata": {},
   "outputs": [
    {
     "name": "stderr",
     "output_type": "stream",
     "text": [
      "Using backend: pytorch\n"
     ]
    }
   ],
   "source": [
    "from My_Pka_Model_Output_Atom_Features import Pka_basic,Pka_acidic\n",
    "import torch\n",
    "\n",
    "import dgl\n",
    "import dgllife\n",
    "from torch.utils.data import DataLoader\n",
    "from dgllife.utils import smiles_to_bigraph, CanonicalAtomFeaturizer, CanonicalBondFeaturizer\n",
    "import torch.optim as optim\n",
    "import numpy as np\n",
    "import random \n",
    "import pandas as pd\n",
    "\n",
    "from torch.nn.utils import clip_grad_norm"
   ]
  },
  {
   "cell_type": "code",
   "execution_count": 2,
   "metadata": {},
   "outputs": [],
   "source": [
    "from rdkit import Chem\n",
    "from rdkit.Chem import AllChem\n",
    "\n",
    "import pandas as pd\n",
    "from rdkit import rdBase, Chem, DataStructs\n",
    "from rdkit.Avalon import pyAvalonTools\n",
    "from rdkit.Chem import AllChem, Draw\n",
    "from rdkit.Chem.Fingerprints import FingerprintMols\n",
    "from rdkit.Chem.AtomPairs import Pairs, Torsions\n",
    "from rdkit.Chem.Draw import SimilarityMaps\n",
    "%matplotlib inline"
   ]
  },
  {
   "cell_type": "code",
   "execution_count": 3,
   "metadata": {},
   "outputs": [],
   "source": [
    "from rdkit import Chem\n",
    "from rdkit.Chem import Draw\n",
    "from rdkit.Chem.Draw import rdMolDraw2D\n",
    "from rdkit.Chem import rdDepictor\n",
    "rdDepictor.SetPreferCoordGen(True)\n",
    "from rdkit.Chem.Draw import IPythonConsole\n",
    "from IPython.display import SVG\n",
    "import rdkit"
   ]
  },
  {
   "cell_type": "code",
   "execution_count": 4,
   "metadata": {},
   "outputs": [],
   "source": [
    "def predict(smiles):\n",
    "\n",
    "    acid_pred = Pka_acidic(node_feat_size = 74,\n",
    "                       edge_feat_size = 12,\n",
    "                       output_size = 1,\n",
    "                       num_layers= 6,\n",
    "                       graph_feat_size=200,\n",
    "                       dropout=0.2)\n",
    "\n",
    "    acid_pred.load_state_dict(torch.load('./Trained_model/site_acidic_new_2.pkl',map_location='cuda:0'))\n",
    "    acid_pred = acid_pred.to('cpu')\n",
    "\n",
    "    base_pred = Pka_basic(node_feat_size = 74,\n",
    "                       edge_feat_size = 12,\n",
    "                       output_size = 1,\n",
    "                       num_layers= 6,\n",
    "                       graph_feat_size=200,\n",
    "                       dropout=0.2)\n",
    "\n",
    "    base_pred.load_state_dict(torch.load('./Trained_model/site_basic_new_1.pkl',map_location='cuda:0'))\n",
    "    base_pred = base_pred.to('cpu')\n",
    "    \n",
    "    node_featurizer = CanonicalAtomFeaturizer(atom_data_field='h')\n",
    "    edge_featurizer = CanonicalBondFeaturizer(bond_data_field='h')\n",
    "    \n",
    "    bg_acid = smiles_to_bigraph(smiles= smiles, \n",
    "                  node_featurizer=node_featurizer,\n",
    "                  edge_featurizer=edge_featurizer,canonical_atom_order= False)\n",
    "\n",
    "    bg_base = smiles_to_bigraph(smiles= smiles, \n",
    "                  node_featurizer=node_featurizer,\n",
    "                  edge_featurizer=edge_featurizer,canonical_atom_order= False)\n",
    "\n",
    "    with torch.no_grad():\n",
    "        acid_pred.eval()\n",
    "        base_pred.eval()\n",
    "        acid_molecule_pka,acid_atom_pka,acid_node_feats = acid_pred(bg_acid,bg_acid.ndata['h'], bg_acid.edata['h'])\n",
    "        base_molecule_pka,base_atom_pka,base_node_feats = base_pred(bg_base,bg_base.ndata['h'], bg_base.edata['h'])\n",
    "        \n",
    "    acid_molecule_pka = -torch.log10(sum(torch.pow(10,-acid_atom_pka))).item()\n",
    "    base_molecule_pka = torch.log10(sum(torch.pow(10,base_atom_pka))).item()\n",
    "        \n",
    "    acid_atom_pka = acid_atom_pka.tolist()\n",
    "    base_atom_pka = base_atom_pka.tolist()\n",
    "    \n",
    "    return acid_molecule_pka,acid_atom_pka,acid_node_feats,base_molecule_pka,base_atom_pka,base_node_feats"
   ]
  },
  {
   "cell_type": "code",
   "execution_count": 5,
   "metadata": {},
   "outputs": [],
   "source": [
    "# acid_molecule_pka,acid_atom_pka,acid_node_feats,base_molecule_pka,base_atom_pka,base_node_feats = predict('COC(c1c(S(=O)(NC(Nc2nc(OC)cc(OC)n2)=O)=O)cc(CNS(C)(=O)=O)cc1)=O')\n",
    "\n",
    "# print('acid_molecule_pka:\\n',acid_molecule_pka)\n",
    "# print('acid_atom_pka:\\n',acid_atom_pka)\n",
    "\n",
    "# print('base_molecule_pka:\\n',base_molecule_pka)\n",
    "# print('base_atom_pka:\\n',base_atom_pka)\n"
   ]
  },
  {
   "cell_type": "code",
   "execution_count": 6,
   "metadata": {},
   "outputs": [],
   "source": [
    "# from rdkit import Chem\n",
    "# from rdkit.Chem import Draw\n",
    "# from rdkit.Chem.Draw import IPythonConsole\n",
    "# IPythonConsole.ipython_useSVG = True\n",
    "\n",
    "# def mol_with_atom_index( mol ):\n",
    "#     atoms = mol.GetNumAtoms()\n",
    "#     for idx in range( atoms ):\n",
    "#         mol.GetAtomWithIdx( idx ).SetProp( 'molAtomMapNumber', str( mol.GetAtomWithIdx( idx ).GetIdx() ) )\n",
    "#     return mol\n",
    "\n",
    "# mol = Chem.MolFromSmiles( smiles )\n",
    "# mol_with_atom_index(mol)"
   ]
  },
  {
   "cell_type": "markdown",
   "metadata": {},
   "source": [
    "### 要先卡一个酸碱至少有一个预测值"
   ]
  },
  {
   "cell_type": "code",
   "execution_count": 7,
   "metadata": {},
   "outputs": [],
   "source": [
    "def get_molecule_class(acid_molecule_pka,base_molecule_pka):\n",
    "    if acid_molecule_pka < float('inf') and base_molecule_pka == -float('inf'):      # 碱为负无穷\n",
    "        molecule_c = 'acidic'\n",
    "    elif acid_molecule_pka == float('inf') and base_molecule_pka > -float('inf'):    # 酸为正无穷\n",
    "        molecule_c = 'basic'\n",
    "    elif acid_molecule_pka <= 12 and base_molecule_pka <= 2:                          # 酸强，碱很弱\n",
    "        molecule_c = 'acidic'\n",
    "    elif acid_molecule_pka >= 12 and base_molecule_pka >= 2:                          #酸弱，碱很强                        \n",
    "        molecule_c = 'basic'\n",
    "    elif acid_molecule_pka <= 12 and base_molecule_pka >= 2:                         # 强酸 + 强碱\n",
    "        molecule_c = 'both'\n",
    "    else:                                                                              #酸弱碱也弱\n",
    "        molecule_c = 'both'\n",
    "    return molecule_c\n"
   ]
  },
  {
   "cell_type": "code",
   "execution_count": 8,
   "metadata": {},
   "outputs": [],
   "source": [
    "def get_atom_feature(molecule_c,acid_atom_pka,base_atom_pka):\n",
    "    if molecule_c == 'both':\n",
    "        most_acidic_atom_id = acid_atom_pka.index(min(acid_atom_pka))\n",
    "        most_basic_atom_id = base_atom_pka.index(max(base_atom_pka))\n",
    "\n",
    "        most_acidic_atom_feature = acid_node_feats[most_acidic_atom_id]\n",
    "        most_basic_atom_feature = base_node_feats[most_basic_atom_id]\n",
    "\n",
    "        print(most_acidic_atom_id)\n",
    "        #print(most_acidic_atom_feature)\n",
    "        print(most_basic_atom_id)\n",
    "        #print(most_basic_atom_feature)\n",
    "\n",
    "    elif molecule_c == 'basic':\n",
    "        most_basic_atom_id = base_atom_pka.index(max(base_atom_pka))  \n",
    "        most_basic_atom_feature = base_node_feats[most_basic_atom_id]\n",
    "\n",
    "        most_acidic_atom_id = None \n",
    "        most_acidic_atom_feature = None\n",
    "\n",
    "        print(most_acidic_atom_id)\n",
    "        #print(most_acidic_atom_feature)\n",
    "        print(most_basic_atom_id)\n",
    "        #print(most_basic_atom_feature)\n",
    "\n",
    "    elif molecule_c == 'acidic':\n",
    "        most_acidic_atom_id = acid_atom_pka.index(min(acid_atom_pka))\n",
    "        most_acidic_atom_feature = acid_node_feats[most_acidic_atom_id]\n",
    "\n",
    "        most_basic_atom_id = None \n",
    "        most_basic_atom_feature = None\n",
    "\n",
    "        print(most_acidic_atom_id)\n",
    "        #print(most_acidic_atom_feature)\n",
    "        print(most_basic_atom_id)\n",
    "        #print(most_basic_atom_feature)\n",
    "    \n",
    "    return most_acidic_atom_id,most_basic_atom_id,most_acidic_atom_feature,most_basic_atom_feature"
   ]
  },
  {
   "cell_type": "code",
   "execution_count": 9,
   "metadata": {},
   "outputs": [],
   "source": [
    "# molecule_c = get_molecule_class(acid_molecule_pka,base_molecule_pka)\n",
    "# most_acidic_atom_feature,most_basic_atom_feature = get_atom_atom_feature(molecule_c,acid_atom_pka,base_atom_pka)"
   ]
  },
  {
   "cell_type": "markdown",
   "metadata": {},
   "source": [
    "# Search-选smiles"
   ]
  },
  {
   "cell_type": "markdown",
   "metadata": {},
   "source": [
    "##  function"
   ]
  },
  {
   "cell_type": "code",
   "execution_count": 10,
   "metadata": {},
   "outputs": [],
   "source": [
    "def get_selected_acidic_smiles_lis(most_acidic_atom_feature):\n",
    "    acidic_smiles_lis = []\n",
    "    with open('./Search_Similar_Molecules/refined_acidic_smiles.txt') as f:\n",
    "        for line in f.readlines():\n",
    "            line = line.replace('\\n','').split('\\t')\n",
    "            acidic_smiles_lis.append(line)\n",
    "\n",
    "    all_acidic_atom_feature_jz = torch.load('./Search_Similar_Molecules/refined_acidic_atom_feature_zl.pt')\n",
    "    all_acidic_atom_feature_jz.shape\n",
    "\n",
    "    d_jz = torch.sum((all_acidic_atom_feature_jz - most_acidic_atom_feature) ** 2,axis = 1)\n",
    "\n",
    "    selected_acidic_smiles_lis = []\n",
    "    for id_ in d_jz.argsort()[:4].tolist():\n",
    "        if d_jz[id_].item() < 0.05:\n",
    "            selected_acidic_smiles_lis.append(acidic_smiles_lis[id_])\n",
    "\n",
    "    #print(selected_acidic_smiles_lis)\n",
    "    return(selected_acidic_smiles_lis)"
   ]
  },
  {
   "cell_type": "code",
   "execution_count": 11,
   "metadata": {},
   "outputs": [],
   "source": [
    "def get_selected_basic_smiles_lis(most_basic_atom_feature):\n",
    "    basic_smiles_lis = []\n",
    "    with open('./Search_Similar_Molecules/refined_basic_smiles.txt') as f:\n",
    "        for line in f.readlines():\n",
    "            line = line.replace('\\n','').split('\\t')\n",
    "            basic_smiles_lis.append(line)\n",
    "\n",
    "    all_basic_atom_feature_jz = torch.load('./Search_Similar_Molecules/refined_basic_atom_feature_zl.pt')\n",
    "    all_basic_atom_feature_jz.shape\n",
    "\n",
    "    d_jz = torch.sum((all_basic_atom_feature_jz - most_basic_atom_feature) ** 2,axis = 1)\n",
    "\n",
    "    selected_basic_smiles_lis = []\n",
    "    print(d_jz.argsort()[:4])\n",
    "    for id_ in d_jz.argsort()[:4].tolist():\n",
    "        if d_jz[id_].item() < 0.05:\n",
    "            selected_basic_smiles_lis.append(basic_smiles_lis[id_])\n",
    "\n",
    "    return(selected_basic_smiles_lis)"
   ]
  },
  {
   "cell_type": "code",
   "execution_count": 12,
   "metadata": {},
   "outputs": [],
   "source": [
    "#get_selected_acidic_smiles_lis(most_acidic_atom_feature)"
   ]
  },
  {
   "cell_type": "code",
   "execution_count": 13,
   "metadata": {},
   "outputs": [],
   "source": [
    "#get_selected_basic_smiles_lis(most_basic_atom_feature)"
   ]
  },
  {
   "cell_type": "code",
   "execution_count": 14,
   "metadata": {},
   "outputs": [],
   "source": [
    "def get_selected_smiles_lis(molecule_c,most_acidic_atom_feature,most_basic_atom_feature):\n",
    "    \n",
    "    selected_smiles_lis = []\n",
    "\n",
    "    if molecule_c == 'acidic':\n",
    "        selected_smiles_lis = get_selected_acidic_smiles_lis(most_acidic_atom_feature)\n",
    "\n",
    "    elif molecule_c == 'basic':\n",
    "        selected_smiles_lis = get_selected_basic_smiles_lis(most_basic_atom_feature)\n",
    "\n",
    "    elif molecule_c == 'both':\n",
    "        selected_acidic_smiles_lis = get_selected_acidic_smiles_lis(most_acidic_atom_feature)\n",
    "        selected_basic_smiles_lis = get_selected_basic_smiles_lis(most_basic_atom_feature)\n",
    "        \n",
    "        print(len(selected_acidic_smiles_lis),len(selected_basic_smiles_lis))\n",
    "        \n",
    "        if len(selected_acidic_smiles_lis) + len(selected_basic_smiles_lis) <= 4:\n",
    "            selected_smiles_lis = selected_acidic_smiles_lis + selected_basic_smiles_lis\n",
    "\n",
    "        elif len(selected_acidic_smiles_lis) >= 2 and len(selected_basic_smiles_lis) >= 2:\n",
    "            selected_smiles_lis = selected_acidic_smiles_lis[:2] + selected_basic_smiles_lis[:2]\n",
    "\n",
    "        elif len(selected_acidic_smiles_lis) >= 3 and len(selected_basic_smiles_lis) <= 1:\n",
    "            n = 4 - len(selected_basic_smiles_lis)\n",
    "            selected_smiles_lis = selected_acidic_smiles_lis[:n] + selected_basic_smiles_lis\n",
    "\n",
    "        elif len(selected_acidic_smiles_lis) <= 1 and len(selected_basic_smiles_lis) >= 3:\n",
    "            n = 4 - len(selected_acidic_smiles_lis)\n",
    "            selected_smiles_lis = selected_acidic_smiles_lis + selected_basic_smiles_lis[:n]\n",
    "        else:\n",
    "            print('error')\n",
    "            \n",
    "    return selected_smiles_lis"
   ]
  },
  {
   "cell_type": "code",
   "execution_count": 15,
   "metadata": {},
   "outputs": [],
   "source": [
    "def draw_similar_molecule(selected_smiles):\n",
    "    \n",
    "    smiles = selected_smiles[0]\n",
    "    legend = 'pKa = '+ str(round(float(selected_smiles[1]),2))\n",
    "    id_ = int(selected_smiles[2])\n",
    "    if selected_smiles[3] == 'acidic':\n",
    "        color = [(1,0.9,0.9)]\n",
    "    if selected_smiles[3] == 'basic':\n",
    "        color = [(0.9,0.9,1)]\n",
    "    #print(id_,color)\n",
    "\n",
    "    mol = Chem.MolFromSmiles(smiles)\n",
    "    cp = Chem.Mol(mol)\n",
    "    d2d = rdMolDraw2D.MolDraw2DSVG(300,225)\n",
    "    dos = d2d.drawOptions()\n",
    "    dos.fillHighlights = True\n",
    "    #dos.addAtomIndices=True\n",
    "    dos.padding =0.2\n",
    "    dos.legendFontSize = 18\n",
    "    dos.annotationFontScale = 1\n",
    "    dos.bondLineWidth = 1\n",
    "    dos.setSymbolColour = 0\n",
    "    dos.highlightRadius = 0.52\n",
    "    #d2d.drawOptions().additionalAtomLabelPadding=True\n",
    "    #d2d.drawOptions().setHighlightColour((1,0,0))\n",
    "    d2d.DrawMoleculeWithHighlights(mol,legend,{id_:color},{},{},{})\n",
    "    d2d.FinishDrawing()\n",
    "    svg = d2d.GetDrawingText()\n",
    "\n",
    "    return SVG(svg)"
   ]
  },
  {
   "cell_type": "code",
   "execution_count": 16,
   "metadata": {},
   "outputs": [],
   "source": [
    "from rdkit import Chem\n",
    "from rdkit.Chem import Draw\n",
    "from rdkit.Chem.Draw import IPythonConsole\n",
    "IPythonConsole.ipython_useSVG = True\n",
    "\n",
    "def mol_with_atom_index( mol ):\n",
    "    atoms = mol.GetNumAtoms()\n",
    "    for idx in range( atoms ):\n",
    "        mol.GetAtomWithIdx( idx ).SetProp( 'molAtomMapNumber', str( mol.GetAtomWithIdx( idx ).GetIdx() ) )\n",
    "    return mol"
   ]
  },
  {
   "cell_type": "code",
   "execution_count": 17,
   "metadata": {},
   "outputs": [],
   "source": [
    "# selected_smiles_lis"
   ]
  },
  {
   "cell_type": "code",
   "execution_count": null,
   "metadata": {},
   "outputs": [],
   "source": []
  },
  {
   "cell_type": "code",
   "execution_count": 574,
   "metadata": {
    "scrolled": true
   },
   "outputs": [
    {
     "data": {
      "text/plain": [
       "'Cc1nnc([C@]23CCCC(C)(C)[C@@H]2CC(=O)C2=C3C(=O)C(=O)C(C(C)C)=C2)o1'"
      ]
     },
     "execution_count": 574,
     "metadata": {},
     "output_type": "execute_result"
    }
   ],
   "source": [
    "smiles = 'Cc1nnc([C@]23CCCC(C)(C)[C@@H]2CC(=O)C2=C3C(=O)C(=O)C(C(C)C)=C2)o1'\n",
    "#smiles = 'NC(N)=N'\n",
    "smiles = Chem.MolToSmiles(Chem.MolFromSmiles(smiles))\n",
    "smiles"
   ]
  },
  {
   "cell_type": "code",
   "execution_count": 575,
   "metadata": {},
   "outputs": [
    {
     "name": "stdout",
     "output_type": "stream",
     "text": [
      "acid_molecule_pka:\n",
      " inf\n",
      "acid_atom_pka:\n",
      " [inf, inf, inf, inf, inf, inf, inf, inf, inf, inf, inf, inf, inf, inf, inf, inf, inf, inf, inf, inf, inf, inf, inf, inf, inf, inf, inf, inf]\n",
      "base_molecule_pka:\n",
      " 0.739264190196991\n",
      "base_atom_pka:\n",
      " [-inf, -inf, 0.7392611503601074, -4.41998815536499, -inf, -inf, -inf, -inf, -inf, -inf, -inf, -inf, -inf, -inf, -inf, -inf, -inf, -inf, -inf, -inf, -inf, -inf, -inf, -inf, -inf, -inf, -inf, -inf]\n"
     ]
    }
   ],
   "source": [
    "acid_molecule_pka,acid_atom_pka,acid_node_feats,base_molecule_pka,base_atom_pka,base_node_feats = predict(smiles)\n",
    "\n",
    "print('acid_molecule_pka:\\n',acid_molecule_pka)\n",
    "print('acid_atom_pka:\\n',acid_atom_pka)\n",
    "\n",
    "print('base_molecule_pka:\\n',base_molecule_pka)\n",
    "print('base_atom_pka:\\n',base_atom_pka)"
   ]
  },
  {
   "cell_type": "code",
   "execution_count": 576,
   "metadata": {},
   "outputs": [],
   "source": [
    "# mol = Chem.MolFromSmiles( smiles )\n",
    "# mol_with_atom_index(mol)"
   ]
  },
  {
   "cell_type": "code",
   "execution_count": 577,
   "metadata": {},
   "outputs": [
    {
     "name": "stdout",
     "output_type": "stream",
     "text": [
      "basic\n",
      "None\n",
      "2\n"
     ]
    }
   ],
   "source": [
    "molecule_c = get_molecule_class(acid_molecule_pka,base_molecule_pka)\n",
    "print(molecule_c)\n",
    "most_acidic_atom_id,most_basic_atom_id,most_acidic_atom_feature,most_basic_atom_feature = get_atom_feature(molecule_c,acid_atom_pka,base_atom_pka)"
   ]
  },
  {
   "cell_type": "code",
   "execution_count": 578,
   "metadata": {},
   "outputs": [
    {
     "data": {
      "image/svg+xml": [
       "<svg baseProfile=\"full\" height=\"225px\" version=\"1.1\" viewBox=\"0 0 300 225\" width=\"300px\" xml:space=\"preserve\" xmlns=\"http://www.w3.org/2000/svg\" xmlns:rdkit=\"http://www.rdkit.org/xml\" xmlns:xlink=\"http://www.w3.org/1999/xlink\">\n",
       "<!-- END OF HEADER -->\n",
       "<rect height=\"225\" style=\"opacity:1.0;fill:#FFFFFF;stroke:none\" width=\"300\" x=\"0\" y=\"0\"> </rect>\n",
       "<ellipse cx=\"167.911\" cy=\"44.1908\" rx=\"12.5287\" ry=\"12.5287\" style=\"fill:#E5E5FF;fill-rule:evenodd;stroke:#E5E5FF;stroke-width:2px;stroke-linecap:butt;stroke-linejoin:miter;stroke-opacity:1\"/>\n",
       "<path class=\"bond-0\" d=\"M 126.909,31.6429 L 144.237,48.6578\" style=\"fill:none;fill-rule:evenodd;stroke:#000000;stroke-width:2px;stroke-linecap:butt;stroke-linejoin:miter;stroke-opacity:1\"/>\n",
       "<path class=\"bond-1\" d=\"M 144.237,48.6578 L 153.464,46.9168\" style=\"fill:none;fill-rule:evenodd;stroke:#000000;stroke-width:2px;stroke-linecap:butt;stroke-linejoin:miter;stroke-opacity:1\"/>\n",
       "<path class=\"bond-1\" d=\"M 153.464,46.9168 L 162.69,45.1759\" style=\"fill:none;fill-rule:evenodd;stroke:#0000FF;stroke-width:2px;stroke-linecap:butt;stroke-linejoin:miter;stroke-opacity:1\"/>\n",
       "<path class=\"bond-1\" d=\"M 147.809,52.3972 L 154.268,51.1785\" style=\"fill:none;fill-rule:evenodd;stroke:#000000;stroke-width:2px;stroke-linecap:butt;stroke-linejoin:miter;stroke-opacity:1\"/>\n",
       "<path class=\"bond-1\" d=\"M 154.268,51.1785 L 160.727,49.9598\" style=\"fill:none;fill-rule:evenodd;stroke:#0000FF;stroke-width:2px;stroke-linecap:butt;stroke-linejoin:miter;stroke-opacity:1\"/>\n",
       "<path class=\"bond-27\" d=\"M 144.237,48.6578 L 143.024,57.4255\" style=\"fill:none;fill-rule:evenodd;stroke:#FF0000;stroke-width:2px;stroke-linecap:butt;stroke-linejoin:miter;stroke-opacity:1\"/>\n",
       "<path class=\"bond-27\" d=\"M 143.024,57.4255 L 141.812,66.1931\" style=\"fill:none;fill-rule:evenodd;stroke:#000000;stroke-width:2px;stroke-linecap:butt;stroke-linejoin:miter;stroke-opacity:1\"/>\n",
       "<path class=\"bond-2\" d=\"M 171.063,50.2142 L 176.016,59.6782\" style=\"fill:none;fill-rule:evenodd;stroke:#0000FF;stroke-width:2px;stroke-linecap:butt;stroke-linejoin:miter;stroke-opacity:1\"/>\n",
       "<path class=\"bond-3\" d=\"M 173.947,71.2723 L 168.397,77.1944\" style=\"fill:none;fill-rule:evenodd;stroke:#0000FF;stroke-width:2px;stroke-linecap:butt;stroke-linejoin:miter;stroke-opacity:1\"/>\n",
       "<path class=\"bond-3\" d=\"M 168.397,77.1944 L 162.847,83.1165\" style=\"fill:none;fill-rule:evenodd;stroke:#000000;stroke-width:2px;stroke-linecap:butt;stroke-linejoin:miter;stroke-opacity:1\"/>\n",
       "<path class=\"bond-3\" d=\"M 169.118,70.0833 L 165.232,74.2288\" style=\"fill:none;fill-rule:evenodd;stroke:#0000FF;stroke-width:2px;stroke-linecap:butt;stroke-linejoin:miter;stroke-opacity:1\"/>\n",
       "<path class=\"bond-3\" d=\"M 165.232,74.2288 L 161.347,78.3743\" style=\"fill:none;fill-rule:evenodd;stroke:#000000;stroke-width:2px;stroke-linecap:butt;stroke-linejoin:miter;stroke-opacity:1\"/>\n",
       "<path class=\"bond-4\" d=\"M 173.092,118.56 L 172.395,118.754\" style=\"fill:none;fill-rule:evenodd;stroke:#000000;stroke-width:2px;stroke-linecap:butt;stroke-linejoin:miter;stroke-opacity:1\"/>\n",
       "<path class=\"bond-4\" d=\"M 172.34,114.514 L 170.947,114.902\" style=\"fill:none;fill-rule:evenodd;stroke:#000000;stroke-width:2px;stroke-linecap:butt;stroke-linejoin:miter;stroke-opacity:1\"/>\n",
       "<path class=\"bond-4\" d=\"M 171.589,110.468 L 169.5,111.05\" style=\"fill:none;fill-rule:evenodd;stroke:#000000;stroke-width:2px;stroke-linecap:butt;stroke-linejoin:miter;stroke-opacity:1\"/>\n",
       "<path class=\"bond-4\" d=\"M 170.837,106.422 L 168.052,107.198\" style=\"fill:none;fill-rule:evenodd;stroke:#000000;stroke-width:2px;stroke-linecap:butt;stroke-linejoin:miter;stroke-opacity:1\"/>\n",
       "<path class=\"bond-4\" d=\"M 170.086,102.377 L 166.604,103.346\" style=\"fill:none;fill-rule:evenodd;stroke:#000000;stroke-width:2px;stroke-linecap:butt;stroke-linejoin:miter;stroke-opacity:1\"/>\n",
       "<path class=\"bond-4\" d=\"M 169.334,98.3306 L 165.156,99.494\" style=\"fill:none;fill-rule:evenodd;stroke:#000000;stroke-width:2px;stroke-linecap:butt;stroke-linejoin:miter;stroke-opacity:1\"/>\n",
       "<path class=\"bond-4\" d=\"M 168.583,94.2847 L 163.709,95.642\" style=\"fill:none;fill-rule:evenodd;stroke:#000000;stroke-width:2px;stroke-linecap:butt;stroke-linejoin:miter;stroke-opacity:1\"/>\n",
       "<path class=\"bond-4\" d=\"M 167.831,90.2388 L 162.261,91.79\" style=\"fill:none;fill-rule:evenodd;stroke:#000000;stroke-width:2px;stroke-linecap:butt;stroke-linejoin:miter;stroke-opacity:1\"/>\n",
       "<path class=\"bond-4\" d=\"M 167.08,86.1929 L 160.813,87.938\" style=\"fill:none;fill-rule:evenodd;stroke:#000000;stroke-width:2px;stroke-linecap:butt;stroke-linejoin:miter;stroke-opacity:1\"/>\n",
       "<path class=\"bond-4\" d=\"M 166.328,82.147 L 159.365,84.086\" style=\"fill:none;fill-rule:evenodd;stroke:#000000;stroke-width:2px;stroke-linecap:butt;stroke-linejoin:miter;stroke-opacity:1\"/>\n",
       "<path class=\"bond-26\" d=\"M 162.847,83.1165 L 154.726,79.0686\" style=\"fill:none;fill-rule:evenodd;stroke:#000000;stroke-width:2px;stroke-linecap:butt;stroke-linejoin:miter;stroke-opacity:1\"/>\n",
       "<path class=\"bond-26\" d=\"M 154.726,79.0686 L 146.605,75.0207\" style=\"fill:none;fill-rule:evenodd;stroke:#FF0000;stroke-width:2px;stroke-linecap:butt;stroke-linejoin:miter;stroke-opacity:1\"/>\n",
       "<path class=\"bond-5\" d=\"M 173.843,122.606 L 187.364,100.474\" style=\"fill:none;fill-rule:evenodd;stroke:#000000;stroke-width:2px;stroke-linecap:butt;stroke-linejoin:miter;stroke-opacity:1\"/>\n",
       "<path class=\"bond-28\" d=\"M 173.843,122.606 L 184.839,145.172\" style=\"fill:none;fill-rule:evenodd;stroke:#000000;stroke-width:2px;stroke-linecap:butt;stroke-linejoin:miter;stroke-opacity:1\"/>\n",
       "<path class=\"bond-30\" d=\"M 173.843,122.606 L 150.626,122.649\" style=\"fill:none;fill-rule:evenodd;stroke:#000000;stroke-width:2px;stroke-linecap:butt;stroke-linejoin:miter;stroke-opacity:1\"/>\n",
       "<path class=\"bond-6\" d=\"M 187.364,100.474 L 212.798,102.175\" style=\"fill:none;fill-rule:evenodd;stroke:#000000;stroke-width:2px;stroke-linecap:butt;stroke-linejoin:miter;stroke-opacity:1\"/>\n",
       "<path class=\"bond-7\" d=\"M 212.798,102.175 L 225.254,125.131\" style=\"fill:none;fill-rule:evenodd;stroke:#000000;stroke-width:2px;stroke-linecap:butt;stroke-linejoin:miter;stroke-opacity:1\"/>\n",
       "<path class=\"bond-8\" d=\"M 225.254,125.131 L 211.198,146.203\" style=\"fill:none;fill-rule:evenodd;stroke:#000000;stroke-width:2px;stroke-linecap:butt;stroke-linejoin:miter;stroke-opacity:1\"/>\n",
       "<path class=\"bond-9\" d=\"M 211.198,146.203 L 208.644,170.355\" style=\"fill:none;fill-rule:evenodd;stroke:#000000;stroke-width:2px;stroke-linecap:butt;stroke-linejoin:miter;stroke-opacity:1\"/>\n",
       "<path class=\"bond-10\" d=\"M 211.198,146.203 L 234.005,154.501\" style=\"fill:none;fill-rule:evenodd;stroke:#000000;stroke-width:2px;stroke-linecap:butt;stroke-linejoin:miter;stroke-opacity:1\"/>\n",
       "<path class=\"bond-11\" d=\"M 211.198,146.203 L 184.839,145.172\" style=\"fill:none;fill-rule:evenodd;stroke:#000000;stroke-width:2px;stroke-linecap:butt;stroke-linejoin:miter;stroke-opacity:1\"/>\n",
       "<path class=\"bond-12\" d=\"M 184.839,145.172 L 172.06,166.211\" style=\"fill:none;fill-rule:evenodd;stroke:#000000;stroke-width:2px;stroke-linecap:butt;stroke-linejoin:miter;stroke-opacity:1\"/>\n",
       "<path class=\"bond-31\" d=\"M 184.839,145.172 L 186.604,161.182 L 193.428,158.798 Z\" style=\"fill:#000000;fill-rule:evenodd;fill-opacity=1;stroke:#000000;stroke-width:2px;stroke-linecap:butt;stroke-linejoin:miter;stroke-opacity:1;\"/>\n",
       "<path class=\"bond-13\" d=\"M 172.06,166.211 L 148.583,165.44\" style=\"fill:none;fill-rule:evenodd;stroke:#000000;stroke-width:2px;stroke-linecap:butt;stroke-linejoin:miter;stroke-opacity:1\"/>\n",
       "<path class=\"bond-14\" d=\"M 146.722,164.328 L 142.28,171.763\" style=\"fill:none;fill-rule:evenodd;stroke:#000000;stroke-width:2px;stroke-linecap:butt;stroke-linejoin:miter;stroke-opacity:1\"/>\n",
       "<path class=\"bond-14\" d=\"M 142.28,171.763 L 137.839,179.198\" style=\"fill:none;fill-rule:evenodd;stroke:#FF0000;stroke-width:2px;stroke-linecap:butt;stroke-linejoin:miter;stroke-opacity:1\"/>\n",
       "<path class=\"bond-14\" d=\"M 150.445,166.552 L 146.004,173.987\" style=\"fill:none;fill-rule:evenodd;stroke:#000000;stroke-width:2px;stroke-linecap:butt;stroke-linejoin:miter;stroke-opacity:1\"/>\n",
       "<path class=\"bond-14\" d=\"M 146.004,173.987 L 141.562,181.422\" style=\"fill:none;fill-rule:evenodd;stroke:#FF0000;stroke-width:2px;stroke-linecap:butt;stroke-linejoin:miter;stroke-opacity:1\"/>\n",
       "<path class=\"bond-15\" d=\"M 148.583,165.44 L 136.999,145.384\" style=\"fill:none;fill-rule:evenodd;stroke:#000000;stroke-width:2px;stroke-linecap:butt;stroke-linejoin:miter;stroke-opacity:1\"/>\n",
       "<path class=\"bond-16\" d=\"M 136.999,145.384 L 150.626,122.649\" style=\"fill:none;fill-rule:evenodd;stroke:#000000;stroke-width:2px;stroke-linecap:butt;stroke-linejoin:miter;stroke-opacity:1\"/>\n",
       "<path class=\"bond-16\" d=\"M 142.763,144.204 L 152.302,128.289\" style=\"fill:none;fill-rule:evenodd;stroke:#000000;stroke-width:2px;stroke-linecap:butt;stroke-linejoin:miter;stroke-opacity:1\"/>\n",
       "<path class=\"bond-29\" d=\"M 136.999,145.384 L 113.508,145.89\" style=\"fill:none;fill-rule:evenodd;stroke:#000000;stroke-width:2px;stroke-linecap:butt;stroke-linejoin:miter;stroke-opacity:1\"/>\n",
       "<path class=\"bond-17\" d=\"M 150.626,122.649 L 139.341,104.372\" style=\"fill:none;fill-rule:evenodd;stroke:#000000;stroke-width:2px;stroke-linecap:butt;stroke-linejoin:miter;stroke-opacity:1\"/>\n",
       "<path class=\"bond-18\" d=\"M 141.194,105.499 L 142.115,103.983\" style=\"fill:none;fill-rule:evenodd;stroke:#000000;stroke-width:2px;stroke-linecap:butt;stroke-linejoin:miter;stroke-opacity:1\"/>\n",
       "<path class=\"bond-18\" d=\"M 142.115,103.983 L 143.037,102.468\" style=\"fill:none;fill-rule:evenodd;stroke:#FF0000;stroke-width:2px;stroke-linecap:butt;stroke-linejoin:miter;stroke-opacity:1\"/>\n",
       "<path class=\"bond-18\" d=\"M 137.488,103.245 L 138.41,101.73\" style=\"fill:none;fill-rule:evenodd;stroke:#000000;stroke-width:2px;stroke-linecap:butt;stroke-linejoin:miter;stroke-opacity:1\"/>\n",
       "<path class=\"bond-18\" d=\"M 138.41,101.73 L 139.332,100.214\" style=\"fill:none;fill-rule:evenodd;stroke:#FF0000;stroke-width:2px;stroke-linecap:butt;stroke-linejoin:miter;stroke-opacity:1\"/>\n",
       "<path class=\"bond-19\" d=\"M 139.341,104.372 L 114.688,104.512\" style=\"fill:none;fill-rule:evenodd;stroke:#000000;stroke-width:2px;stroke-linecap:butt;stroke-linejoin:miter;stroke-opacity:1\"/>\n",
       "<path class=\"bond-20\" d=\"M 116.556,103.41 L 112.275,96.1486\" style=\"fill:none;fill-rule:evenodd;stroke:#000000;stroke-width:2px;stroke-linecap:butt;stroke-linejoin:miter;stroke-opacity:1\"/>\n",
       "<path class=\"bond-20\" d=\"M 112.275,96.1486 L 107.993,88.8867\" style=\"fill:none;fill-rule:evenodd;stroke:#FF0000;stroke-width:2px;stroke-linecap:butt;stroke-linejoin:miter;stroke-opacity:1\"/>\n",
       "<path class=\"bond-20\" d=\"M 112.82,105.613 L 108.539,98.3512\" style=\"fill:none;fill-rule:evenodd;stroke:#000000;stroke-width:2px;stroke-linecap:butt;stroke-linejoin:miter;stroke-opacity:1\"/>\n",
       "<path class=\"bond-20\" d=\"M 108.539,98.3512 L 104.257,91.0894\" style=\"fill:none;fill-rule:evenodd;stroke:#FF0000;stroke-width:2px;stroke-linecap:butt;stroke-linejoin:miter;stroke-opacity:1\"/>\n",
       "<path class=\"bond-21\" d=\"M 114.688,104.512 L 102.531,126.22\" style=\"fill:none;fill-rule:evenodd;stroke:#000000;stroke-width:2px;stroke-linecap:butt;stroke-linejoin:miter;stroke-opacity:1\"/>\n",
       "<path class=\"bond-22\" d=\"M 102.531,126.22 L 78.1913,126.085\" style=\"fill:none;fill-rule:evenodd;stroke:#000000;stroke-width:2px;stroke-linecap:butt;stroke-linejoin:miter;stroke-opacity:1\"/>\n",
       "<path class=\"bond-25\" d=\"M 102.531,126.22 L 113.508,145.89\" style=\"fill:none;fill-rule:evenodd;stroke:#000000;stroke-width:2px;stroke-linecap:butt;stroke-linejoin:miter;stroke-opacity:1\"/>\n",
       "<path class=\"bond-25\" d=\"M 107.964,127.057 L 115.648,140.826\" style=\"fill:none;fill-rule:evenodd;stroke:#000000;stroke-width:2px;stroke-linecap:butt;stroke-linejoin:miter;stroke-opacity:1\"/>\n",
       "<path class=\"bond-23\" d=\"M 78.1913,126.085 L 65.9951,146.844\" style=\"fill:none;fill-rule:evenodd;stroke:#000000;stroke-width:2px;stroke-linecap:butt;stroke-linejoin:miter;stroke-opacity:1\"/>\n",
       "<path class=\"bond-24\" d=\"M 78.1913,126.085 L 66.3035,105.114\" style=\"fill:none;fill-rule:evenodd;stroke:#000000;stroke-width:2px;stroke-linecap:butt;stroke-linejoin:miter;stroke-opacity:1\"/>\n",
       "<text dominant-baseline=\"central\" style=\"font-size:12px;font-style:normal;font-weight:normal;fill-opacity:1;stroke:none;font-family:sans-serif;fill:#0000FF\" text-anchor=\"start\" x=\"163.895\" y=\"45.9979\"><tspan>N</tspan></text>\n",
       "<text dominant-baseline=\"central\" style=\"font-size:12px;font-style:normal;font-weight:normal;fill-opacity:1;stroke:none;font-family:sans-serif;fill:#0000FF\" text-anchor=\"start\" x=\"175.152\" y=\"67.5087\"><tspan>N</tspan></text>\n",
       "<text dominant-baseline=\"central\" style=\"font-size:12px;font-style:normal;font-weight:normal;fill-opacity:1;stroke:none;font-family:sans-serif;fill:#FF0000\" text-anchor=\"end\" x=\"140.524\" y=\"188.141\"><tspan>O</tspan></text>\n",
       "<text dominant-baseline=\"central\" style=\"font-size:12px;font-style:normal;font-weight:normal;fill-opacity:1;stroke:none;font-family:sans-serif;fill:#FF0000\" text-anchor=\"start\" x=\"140.428\" y=\"97.1246\"><tspan>O</tspan></text>\n",
       "<text dominant-baseline=\"central\" style=\"font-size:12px;font-style:normal;font-weight:normal;fill-opacity:1;stroke:none;font-family:sans-serif;fill:#FF0000\" text-anchor=\"end\" x=\"106.995\" y=\"85.7717\"><tspan>O</tspan></text>\n",
       "<text dominant-baseline=\"central\" style=\"font-size:12px;font-style:normal;font-weight:normal;fill-opacity:1;stroke:none;font-family:sans-serif;fill:#FF0000\" text-anchor=\"end\" x=\"145.4\" y=\"74.0236\"><tspan>O</tspan></text>\n",
       "<text dominant-baseline=\"central\" style=\"font-size:12px;font-style:normal;font-weight:normal;fill-opacity:1;stroke:none;font-family:sans-serif;fill:#000000\" text-anchor=\"start\" x=\"188.104\" y=\"167.82\"><tspan>H</tspan></text>\n",
       "<text dominant-baseline=\"central\" style=\"font-size:18px;font-style:normal;font-weight:normal;fill-opacity:1;stroke:none;font-family:sans-serif;fill:#000000\" text-anchor=\"middle\" x=\"150\" y=\"214.2\"><tspan>basic: 0.74</tspan></text>\n",
       "</svg>"
      ],
      "text/plain": [
       "<IPython.core.display.SVG object>"
      ]
     },
     "execution_count": 578,
     "metadata": {},
     "output_type": "execute_result"
    }
   ],
   "source": [
    "mol = Chem.MolFromSmiles(smiles)\n",
    "cp = Chem.Mol(mol)\n",
    "d2d = rdMolDraw2D.MolDraw2DSVG(300,225)\n",
    "dos = d2d.drawOptions()\n",
    "dos.fillHighlights = True\n",
    "#dos.addAtomIndices=True\n",
    "dos.padding =0.2\n",
    "dos.legendFontSize = 18\n",
    "dos.annotationFontScale = 1\n",
    "dos.bondLineWidth = 1\n",
    "dos.setSymbolColour = 0\n",
    "dos.highlightRadius = 0.52\n",
    "#d2d.drawOptions().additionalAtomLabelPadding=True\n",
    "#d2d.drawOptions().setHighlightColour((1,0,0))\n",
    "if molecule_c == 'acidic':\n",
    "    d2d.DrawMoleculeWithHighlights(mol,\"acidic: \"+str(round(float(acid_molecule_pka),2)),{most_acidic_atom_id:[(1,0.9,0.9)]},{},{},{})\n",
    "elif molecule_c == 'basic':\n",
    "    d2d.DrawMoleculeWithHighlights(mol,\"basic: \"+str(round(float(base_molecule_pka),2)),{most_basic_atom_id:[(0.9,0.9,1)]},{},{},{})\n",
    "elif molecule_c == 'both':\n",
    "    d2d.DrawMoleculeWithHighlights(mol,\"acidic: \"+str(round(float(acid_molecule_pka),2))+ ' '+\"basic: \" +str(round(float(base_molecule_pka),2)),{most_acidic_atom_id:[(1,0.9,0.9)],most_basic_atom_id:[(0.9,0.9,1)]},{},{},{})\n",
    "d2d.FinishDrawing()\n",
    "svg = d2d.GetDrawingText()\n",
    "\n",
    "SVG(svg)"
   ]
  },
  {
   "cell_type": "code",
   "execution_count": null,
   "metadata": {},
   "outputs": [],
   "source": []
  },
  {
   "cell_type": "code",
   "execution_count": null,
   "metadata": {},
   "outputs": [],
   "source": []
  },
  {
   "cell_type": "code",
   "execution_count": null,
   "metadata": {},
   "outputs": [],
   "source": []
  },
  {
   "cell_type": "code",
   "execution_count": 579,
   "metadata": {},
   "outputs": [
    {
     "name": "stdout",
     "output_type": "stream",
     "text": [
      "tensor([6003, 2616, 6036, 1138])\n"
     ]
    },
    {
     "data": {
      "text/plain": [
       "[]"
      ]
     },
     "execution_count": 579,
     "metadata": {},
     "output_type": "execute_result"
    }
   ],
   "source": [
    "selected_smiles_lis = get_selected_smiles_lis(molecule_c,most_acidic_atom_feature,most_basic_atom_feature)\n",
    "selected_smiles_lis"
   ]
  },
  {
   "cell_type": "code",
   "execution_count": 580,
   "metadata": {},
   "outputs": [
    {
     "ename": "IndexError",
     "evalue": "list index out of range",
     "output_type": "error",
     "traceback": [
      "\u001b[0;31m---------------------------------------------------------------------------\u001b[0m",
      "\u001b[0;31mIndexError\u001b[0m                                Traceback (most recent call last)",
      "\u001b[0;32m<ipython-input-580-0be99a591cad>\u001b[0m in \u001b[0;36m<module>\u001b[0;34m\u001b[0m\n\u001b[0;32m----> 1\u001b[0;31m \u001b[0mdraw_similar_molecule\u001b[0m\u001b[0;34m(\u001b[0m\u001b[0mselected_smiles_lis\u001b[0m\u001b[0;34m[\u001b[0m\u001b[0;36m0\u001b[0m\u001b[0;34m]\u001b[0m\u001b[0;34m)\u001b[0m\u001b[0;34m\u001b[0m\u001b[0;34m\u001b[0m\u001b[0m\n\u001b[0m",
      "\u001b[0;31mIndexError\u001b[0m: list index out of range"
     ]
    }
   ],
   "source": [
    "draw_similar_molecule(selected_smiles_lis[0])"
   ]
  },
  {
   "cell_type": "code",
   "execution_count": 571,
   "metadata": {},
   "outputs": [
    {
     "data": {
      "image/svg+xml": [
       "<svg baseProfile=\"full\" height=\"225px\" version=\"1.1\" viewBox=\"0 0 300 225\" width=\"300px\" xml:space=\"preserve\" xmlns=\"http://www.w3.org/2000/svg\" xmlns:rdkit=\"http://www.rdkit.org/xml\" xmlns:xlink=\"http://www.w3.org/1999/xlink\">\n",
       "<!-- END OF HEADER -->\n",
       "<rect height=\"225\" style=\"opacity:1.0;fill:#FFFFFF;stroke:none\" width=\"300\" x=\"0\" y=\"0\"> </rect>\n",
       "<ellipse cx=\"198.375\" cy=\"183.363\" rx=\"11.0122\" ry=\"8.99449\" style=\"fill:#FFE5E5;fill-rule:evenodd;stroke:#FFE5E5;stroke-width:2px;stroke-linecap:butt;stroke-linejoin:miter;stroke-opacity:1\"/>\n",
       "<path class=\"bond-0\" d=\"M 169.921,162.986 L 174.831,160.176\" style=\"fill:none;fill-rule:evenodd;stroke:#0000FF;stroke-width:2px;stroke-linecap:butt;stroke-linejoin:miter;stroke-opacity:1\"/>\n",
       "<path class=\"bond-0\" d=\"M 174.831,160.176 L 179.741,157.365\" style=\"fill:none;fill-rule:evenodd;stroke:#000000;stroke-width:2px;stroke-linecap:butt;stroke-linejoin:miter;stroke-opacity:1\"/>\n",
       "<path class=\"bond-1\" d=\"M 179.741,157.365 L 179.803,140.068\" style=\"fill:none;fill-rule:evenodd;stroke:#000000;stroke-width:2px;stroke-linecap:butt;stroke-linejoin:miter;stroke-opacity:1\"/>\n",
       "<path class=\"bond-15\" d=\"M 179.741,157.365 L 194.689,166.066\" style=\"fill:none;fill-rule:evenodd;stroke:#000000;stroke-width:2px;stroke-linecap:butt;stroke-linejoin:miter;stroke-opacity:1\"/>\n",
       "<path class=\"bond-2\" d=\"M 179.803,140.068 L 164.855,131.368\" style=\"fill:none;fill-rule:evenodd;stroke:#000000;stroke-width:2px;stroke-linecap:butt;stroke-linejoin:miter;stroke-opacity:1\"/>\n",
       "<path class=\"bond-3\" d=\"M 164.855,131.368 L 164.917,114.07\" style=\"fill:none;fill-rule:evenodd;stroke:#000000;stroke-width:2px;stroke-linecap:butt;stroke-linejoin:miter;stroke-opacity:1\"/>\n",
       "<path class=\"bond-4\" d=\"M 165.691,115.421 L 171.177,112.28\" style=\"fill:none;fill-rule:evenodd;stroke:#000000;stroke-width:2px;stroke-linecap:butt;stroke-linejoin:miter;stroke-opacity:1\"/>\n",
       "<path class=\"bond-4\" d=\"M 171.177,112.28 L 176.662,109.138\" style=\"fill:none;fill-rule:evenodd;stroke:#FF0000;stroke-width:2px;stroke-linecap:butt;stroke-linejoin:miter;stroke-opacity:1\"/>\n",
       "<path class=\"bond-4\" d=\"M 164.143,112.72 L 169.629,109.578\" style=\"fill:none;fill-rule:evenodd;stroke:#000000;stroke-width:2px;stroke-linecap:butt;stroke-linejoin:miter;stroke-opacity:1\"/>\n",
       "<path class=\"bond-4\" d=\"M 169.629,109.578 L 175.115,106.436\" style=\"fill:none;fill-rule:evenodd;stroke:#FF0000;stroke-width:2px;stroke-linecap:butt;stroke-linejoin:miter;stroke-opacity:1\"/>\n",
       "<path class=\"bond-5\" d=\"M 164.917,114.07 L 159.317,110.81\" style=\"fill:none;fill-rule:evenodd;stroke:#000000;stroke-width:2px;stroke-linecap:butt;stroke-linejoin:miter;stroke-opacity:1\"/>\n",
       "<path class=\"bond-5\" d=\"M 159.317,110.81 L 153.717,107.549\" style=\"fill:none;fill-rule:evenodd;stroke:#0000FF;stroke-width:2px;stroke-linecap:butt;stroke-linejoin:miter;stroke-opacity:1\"/>\n",
       "<path class=\"bond-6\" d=\"M 149.984,101.042 L 150.016,92.3937\" style=\"fill:none;fill-rule:evenodd;stroke:#0000FF;stroke-width:2px;stroke-linecap:butt;stroke-linejoin:miter;stroke-opacity:1\"/>\n",
       "<path class=\"bond-7\" d=\"M 146.283,85.8879 L 140.683,82.6285\" style=\"fill:none;fill-rule:evenodd;stroke:#0000FF;stroke-width:2px;stroke-linecap:butt;stroke-linejoin:miter;stroke-opacity:1\"/>\n",
       "<path class=\"bond-7\" d=\"M 140.683,82.6285 L 135.083,79.369\" style=\"fill:none;fill-rule:evenodd;stroke:#000000;stroke-width:2px;stroke-linecap:butt;stroke-linejoin:miter;stroke-opacity:1\"/>\n",
       "<path class=\"bond-8\" d=\"M 135.083,79.369 L 135.145,62.0719\" style=\"fill:none;fill-rule:evenodd;stroke:#000000;stroke-width:2px;stroke-linecap:butt;stroke-linejoin:miter;stroke-opacity:1\"/>\n",
       "<path class=\"bond-8\" d=\"M 131.979,76.7632 L 132.022,64.6553\" style=\"fill:none;fill-rule:evenodd;stroke:#000000;stroke-width:2px;stroke-linecap:butt;stroke-linejoin:miter;stroke-opacity:1\"/>\n",
       "<path class=\"bond-18\" d=\"M 135.083,79.369 L 120.073,87.9622\" style=\"fill:none;fill-rule:evenodd;stroke:#000000;stroke-width:2px;stroke-linecap:butt;stroke-linejoin:miter;stroke-opacity:1\"/>\n",
       "<path class=\"bond-9\" d=\"M 135.145,62.0719 L 120.197,53.3715\" style=\"fill:none;fill-rule:evenodd;stroke:#000000;stroke-width:2px;stroke-linecap:butt;stroke-linejoin:miter;stroke-opacity:1\"/>\n",
       "<path class=\"bond-10\" d=\"M 120.197,53.3715 L 105.187,61.9647\" style=\"fill:none;fill-rule:evenodd;stroke:#000000;stroke-width:2px;stroke-linecap:butt;stroke-linejoin:miter;stroke-opacity:1\"/>\n",
       "<path class=\"bond-10\" d=\"M 119.492,57.3625 L 108.985,63.3777\" style=\"fill:none;fill-rule:evenodd;stroke:#000000;stroke-width:2px;stroke-linecap:butt;stroke-linejoin:miter;stroke-opacity:1\"/>\n",
       "<path class=\"bond-11\" d=\"M 105.187,61.9647 L 90.2385,53.2642\" style=\"fill:none;fill-rule:evenodd;stroke:#000000;stroke-width:2px;stroke-linecap:butt;stroke-linejoin:miter;stroke-opacity:1\"/>\n",
       "<path class=\"bond-13\" d=\"M 105.187,61.9647 L 105.124,79.2618\" style=\"fill:none;fill-rule:evenodd;stroke:#000000;stroke-width:2px;stroke-linecap:butt;stroke-linejoin:miter;stroke-opacity:1\"/>\n",
       "<path class=\"bond-12\" d=\"M 90.2385,53.2642 L 90.2619,46.7778\" style=\"fill:none;fill-rule:evenodd;stroke:#000000;stroke-width:2px;stroke-linecap:butt;stroke-linejoin:miter;stroke-opacity:1\"/>\n",
       "<path class=\"bond-12\" d=\"M 90.2619,46.7778 L 90.2852,40.2914\" style=\"fill:none;fill-rule:evenodd;stroke:#FF0000;stroke-width:2px;stroke-linecap:butt;stroke-linejoin:miter;stroke-opacity:1\"/>\n",
       "<path class=\"bond-14\" d=\"M 105.124,79.2618 L 120.073,87.9622\" style=\"fill:none;fill-rule:evenodd;stroke:#000000;stroke-width:2px;stroke-linecap:butt;stroke-linejoin:miter;stroke-opacity:1\"/>\n",
       "<path class=\"bond-14\" d=\"M 108.933,77.876 L 119.397,83.9663\" style=\"fill:none;fill-rule:evenodd;stroke:#000000;stroke-width:2px;stroke-linecap:butt;stroke-linejoin:miter;stroke-opacity:1\"/>\n",
       "<path class=\"bond-16\" d=\"M 195.462,167.417 L 200.948,164.276\" style=\"fill:none;fill-rule:evenodd;stroke:#000000;stroke-width:2px;stroke-linecap:butt;stroke-linejoin:miter;stroke-opacity:1\"/>\n",
       "<path class=\"bond-16\" d=\"M 200.948,164.276 L 206.434,161.135\" style=\"fill:none;fill-rule:evenodd;stroke:#FF0000;stroke-width:2px;stroke-linecap:butt;stroke-linejoin:miter;stroke-opacity:1\"/>\n",
       "<path class=\"bond-16\" d=\"M 193.915,164.715 L 199.401,161.574\" style=\"fill:none;fill-rule:evenodd;stroke:#000000;stroke-width:2px;stroke-linecap:butt;stroke-linejoin:miter;stroke-opacity:1\"/>\n",
       "<path class=\"bond-16\" d=\"M 199.401,161.574 L 204.887,158.433\" style=\"fill:none;fill-rule:evenodd;stroke:#FF0000;stroke-width:2px;stroke-linecap:butt;stroke-linejoin:miter;stroke-opacity:1\"/>\n",
       "<path class=\"bond-17\" d=\"M 194.689,166.066 L 194.665,172.552\" style=\"fill:none;fill-rule:evenodd;stroke:#000000;stroke-width:2px;stroke-linecap:butt;stroke-linejoin:miter;stroke-opacity:1\"/>\n",
       "<path class=\"bond-17\" d=\"M 194.665,172.552 L 194.642,179.038\" style=\"fill:none;fill-rule:evenodd;stroke:#FF0000;stroke-width:2px;stroke-linecap:butt;stroke-linejoin:miter;stroke-opacity:1\"/>\n",
       "<text dominant-baseline=\"central\" style=\"font-size:8px;font-style:normal;font-weight:normal;fill-opacity:1;stroke:none;font-family:sans-serif;fill:#0000FF\" text-anchor=\"end\" x=\"167.527\" y=\"167.385\"><tspan>H</tspan><tspan style=\"baseline-shift:sub;font-size:6px;\">2</tspan><tspan>N</tspan></text>\n",
       "<text dominant-baseline=\"central\" style=\"font-size:8px;font-style:normal;font-weight:normal;fill-opacity:1;stroke:none;font-family:sans-serif;fill:#FF0000\" text-anchor=\"start\" x=\"176.754\" y=\"106.771\"><tspan>O</tspan></text>\n",
       "<text dominant-baseline=\"central\" style=\"font-size:8px;font-style:normal;font-weight:normal;fill-opacity:1;stroke:none;font-family:sans-serif;fill:#0000FF\" text-anchor=\"end\" x=\"152.852\" y=\"106.664\"><tspan>HN</tspan></text>\n",
       "<text dominant-baseline=\"central\" style=\"font-size:8px;font-style:normal;font-weight:normal;fill-opacity:1;stroke:none;font-family:sans-serif;fill:#0000FF\" text-anchor=\"start\" x=\"147.148\" y=\"89.3667\"><tspan>NH</tspan></text>\n",
       "<text dominant-baseline=\"central\" style=\"font-size:8px;font-style:normal;font-weight:normal;fill-opacity:1;stroke:none;font-family:sans-serif;fill:#FF0000\" text-anchor=\"start\" x=\"87.1269\" y=\"37.2644\"><tspan>OH</tspan></text>\n",
       "<text dominant-baseline=\"central\" style=\"font-size:8px;font-style:normal;font-weight:normal;fill-opacity:1;stroke:none;font-family:sans-serif;fill:#FF0000\" text-anchor=\"start\" x=\"206.525\" y=\"158.77\"><tspan>O</tspan></text>\n",
       "<text dominant-baseline=\"central\" style=\"font-size:8px;font-style:normal;font-weight:normal;fill-opacity:1;stroke:none;font-family:sans-serif;fill:#FF0000\" text-anchor=\"start\" x=\"191.453\" y=\"184.66\"><tspan>OH</tspan></text>\n",
       "<text dominant-baseline=\"central\" style=\"font-size:18px;font-style:normal;font-weight:normal;fill-opacity:1;stroke:none;font-family:sans-serif;fill:#000000\" text-anchor=\"middle\" x=\"150\" y=\"214.2\"><tspan>pKa = 3.4</tspan></text>\n",
       "</svg>"
      ],
      "text/plain": [
       "<IPython.core.display.SVG object>"
      ]
     },
     "execution_count": 571,
     "metadata": {},
     "output_type": "execute_result"
    }
   ],
   "source": [
    "draw_similar_molecule(selected_smiles_lis[1])"
   ]
  },
  {
   "cell_type": "code",
   "execution_count": 572,
   "metadata": {
    "scrolled": true
   },
   "outputs": [
    {
     "data": {
      "image/svg+xml": [
       "<svg baseProfile=\"full\" height=\"225px\" version=\"1.1\" viewBox=\"0 0 300 225\" width=\"300px\" xml:space=\"preserve\" xmlns=\"http://www.w3.org/2000/svg\" xmlns:rdkit=\"http://www.rdkit.org/xml\" xmlns:xlink=\"http://www.w3.org/1999/xlink\">\n",
       "<!-- END OF HEADER -->\n",
       "<rect height=\"225\" style=\"opacity:1.0;fill:#FFFFFF;stroke:none\" width=\"300\" x=\"0\" y=\"0\"> </rect>\n",
       "<ellipse cx=\"140.205\" cy=\"161.59\" rx=\"18.0096\" ry=\"12.8134\" style=\"fill:#E5E5FF;fill-rule:evenodd;stroke:#E5E5FF;stroke-width:2px;stroke-linecap:butt;stroke-linejoin:miter;stroke-opacity:1\"/>\n",
       "<path class=\"bond-0\" d=\"M 110.163,42.6802 L 117.14,46.7001\" style=\"fill:none;fill-rule:evenodd;stroke:#0000FF;stroke-width:2px;stroke-linecap:butt;stroke-linejoin:miter;stroke-opacity:1\"/>\n",
       "<path class=\"bond-0\" d=\"M 117.14,46.7001 L 124.117,50.72\" style=\"fill:none;fill-rule:evenodd;stroke:#000000;stroke-width:2px;stroke-linecap:butt;stroke-linejoin:miter;stroke-opacity:1\"/>\n",
       "<path class=\"bond-1\" d=\"M 125.227,52.6398 L 133.015,48.1358\" style=\"fill:none;fill-rule:evenodd;stroke:#000000;stroke-width:2px;stroke-linecap:butt;stroke-linejoin:miter;stroke-opacity:1\"/>\n",
       "<path class=\"bond-1\" d=\"M 133.015,48.1358 L 140.803,43.6319\" style=\"fill:none;fill-rule:evenodd;stroke:#FF0000;stroke-width:2px;stroke-linecap:butt;stroke-linejoin:miter;stroke-opacity:1\"/>\n",
       "<path class=\"bond-1\" d=\"M 123.007,48.8002 L 130.795,44.2963\" style=\"fill:none;fill-rule:evenodd;stroke:#000000;stroke-width:2px;stroke-linecap:butt;stroke-linejoin:miter;stroke-opacity:1\"/>\n",
       "<path class=\"bond-1\" d=\"M 130.795,44.2963 L 138.583,39.7923\" style=\"fill:none;fill-rule:evenodd;stroke:#FF0000;stroke-width:2px;stroke-linecap:butt;stroke-linejoin:miter;stroke-opacity:1\"/>\n",
       "<path class=\"bond-2\" d=\"M 124.117,50.72 L 124.124,59.9604\" style=\"fill:none;fill-rule:evenodd;stroke:#000000;stroke-width:2px;stroke-linecap:butt;stroke-linejoin:miter;stroke-opacity:1\"/>\n",
       "<path class=\"bond-2\" d=\"M 124.124,59.9604 L 124.132,69.2008\" style=\"fill:none;fill-rule:evenodd;stroke:#0000FF;stroke-width:2px;stroke-linecap:butt;stroke-linejoin:miter;stroke-opacity:1\"/>\n",
       "<path class=\"bond-3\" d=\"M 129.476,78.4388 L 134.604,81.3947\" style=\"fill:none;fill-rule:evenodd;stroke:#0000FF;stroke-width:2px;stroke-linecap:butt;stroke-linejoin:miter;stroke-opacity:1\"/>\n",
       "<path class=\"bond-3\" d=\"M 134.604,81.3947 L 139.732,84.3505\" style=\"fill:none;fill-rule:evenodd;stroke:#FF0000;stroke-width:2px;stroke-linecap:butt;stroke-linejoin:miter;stroke-opacity:1\"/>\n",
       "<path class=\"bond-4\" d=\"M 145.491,93.8272 L 145.498,103.068\" style=\"fill:none;fill-rule:evenodd;stroke:#FF0000;stroke-width:2px;stroke-linecap:butt;stroke-linejoin:miter;stroke-opacity:1\"/>\n",
       "<path class=\"bond-4\" d=\"M 145.498,103.068 L 145.505,112.308\" style=\"fill:none;fill-rule:evenodd;stroke:#000000;stroke-width:2px;stroke-linecap:butt;stroke-linejoin:miter;stroke-opacity:1\"/>\n",
       "<path class=\"bond-5\" d=\"M 145.505,112.308 L 166.855,124.609\" style=\"fill:none;fill-rule:evenodd;stroke:#000000;stroke-width:2px;stroke-linecap:butt;stroke-linejoin:miter;stroke-opacity:1\"/>\n",
       "<path class=\"bond-6\" d=\"M 166.855,124.609 L 166.874,149.25\" style=\"fill:none;fill-rule:evenodd;stroke:#000000;stroke-width:2px;stroke-linecap:butt;stroke-linejoin:miter;stroke-opacity:1\"/>\n",
       "<path class=\"bond-7\" d=\"M 166.874,149.25 L 159.907,153.281\" style=\"fill:none;fill-rule:evenodd;stroke:#000000;stroke-width:2px;stroke-linecap:butt;stroke-linejoin:miter;stroke-opacity:1\"/>\n",
       "<path class=\"bond-7\" d=\"M 159.907,153.281 L 152.94,157.312\" style=\"fill:none;fill-rule:evenodd;stroke:#0000FF;stroke-width:2px;stroke-linecap:butt;stroke-linejoin:miter;stroke-opacity:1\"/>\n",
       "<path class=\"bond-8\" d=\"M 166.874,149.25 L 188.223,161.556\" style=\"fill:none;fill-rule:evenodd;stroke:#000000;stroke-width:2px;stroke-linecap:butt;stroke-linejoin:miter;stroke-opacity:1\"/>\n",
       "<path class=\"bond-9\" d=\"M 189.334,163.476 L 197.121,158.972\" style=\"fill:none;fill-rule:evenodd;stroke:#000000;stroke-width:2px;stroke-linecap:butt;stroke-linejoin:miter;stroke-opacity:1\"/>\n",
       "<path class=\"bond-9\" d=\"M 197.121,158.972 L 204.909,154.468\" style=\"fill:none;fill-rule:evenodd;stroke:#FF0000;stroke-width:2px;stroke-linecap:butt;stroke-linejoin:miter;stroke-opacity:1\"/>\n",
       "<path class=\"bond-9\" d=\"M 187.113,159.636 L 194.901,155.132\" style=\"fill:none;fill-rule:evenodd;stroke:#000000;stroke-width:2px;stroke-linecap:butt;stroke-linejoin:miter;stroke-opacity:1\"/>\n",
       "<path class=\"bond-9\" d=\"M 194.901,155.132 L 202.689,150.628\" style=\"fill:none;fill-rule:evenodd;stroke:#FF0000;stroke-width:2px;stroke-linecap:butt;stroke-linejoin:miter;stroke-opacity:1\"/>\n",
       "<path class=\"bond-10\" d=\"M 188.223,161.556 L 188.231,170.796\" style=\"fill:none;fill-rule:evenodd;stroke:#000000;stroke-width:2px;stroke-linecap:butt;stroke-linejoin:miter;stroke-opacity:1\"/>\n",
       "<path class=\"bond-10\" d=\"M 188.231,170.796 L 188.238,180.037\" style=\"fill:none;fill-rule:evenodd;stroke:#FF0000;stroke-width:2px;stroke-linecap:butt;stroke-linejoin:miter;stroke-opacity:1\"/>\n",
       "<text dominant-baseline=\"central\" style=\"font-size:12px;font-style:normal;font-weight:normal;fill-opacity:1;stroke:none;font-family:sans-serif;fill:#0000FF\" text-anchor=\"end\" x=\"106.752\" y=\"40.4521\"><tspan>H</tspan><tspan style=\"baseline-shift:sub;font-size:9px;\">2</tspan><tspan>N</tspan></text>\n",
       "<text dominant-baseline=\"central\" style=\"font-size:12px;font-style:normal;font-weight:normal;fill-opacity:1;stroke:none;font-family:sans-serif;fill:#FF0000\" text-anchor=\"start\" x=\"140.925\" y=\"40.2327\"><tspan>O</tspan></text>\n",
       "<text dominant-baseline=\"central\" style=\"font-size:12px;font-style:normal;font-weight:normal;fill-opacity:1;stroke:none;font-family:sans-serif;fill:#0000FF\" text-anchor=\"end\" x=\"128.244\" y=\"77.2092\"><tspan>HN</tspan></text>\n",
       "<text dominant-baseline=\"central\" style=\"font-size:12px;font-style:normal;font-weight:normal;fill-opacity:1;stroke:none;font-family:sans-serif;fill:#FF0000\" text-anchor=\"start\" x=\"140.964\" y=\"89.515\"><tspan>O</tspan></text>\n",
       "<text dominant-baseline=\"central\" style=\"font-size:12px;font-style:normal;font-weight:normal;fill-opacity:1;stroke:none;font-family:sans-serif;fill:#0000FF\" text-anchor=\"end\" x=\"149.529\" y=\"163.623\"><tspan>H</tspan><tspan style=\"baseline-shift:sub;font-size:9px;\">2</tspan><tspan>N</tspan></text>\n",
       "<text dominant-baseline=\"central\" style=\"font-size:12px;font-style:normal;font-weight:normal;fill-opacity:1;stroke:none;font-family:sans-serif;fill:#FF0000\" text-anchor=\"start\" x=\"205.031\" y=\"151.068\"><tspan>O</tspan></text>\n",
       "<text dominant-baseline=\"central\" style=\"font-size:12px;font-style:normal;font-weight:normal;fill-opacity:1;stroke:none;font-family:sans-serif;fill:#FF0000\" text-anchor=\"start\" x=\"183.722\" y=\"188.045\"><tspan>OH</tspan></text>\n",
       "<text dominant-baseline=\"central\" style=\"font-size:18px;font-style:normal;font-weight:normal;fill-opacity:1;stroke:none;font-family:sans-serif;fill:#000000\" text-anchor=\"middle\" x=\"150\" y=\"214.2\"><tspan>pKa = 8.9</tspan></text>\n",
       "</svg>"
      ],
      "text/plain": [
       "<IPython.core.display.SVG object>"
      ]
     },
     "execution_count": 572,
     "metadata": {},
     "output_type": "execute_result"
    }
   ],
   "source": [
    "draw_similar_molecule(selected_smiles_lis[2])"
   ]
  },
  {
   "cell_type": "code",
   "execution_count": 573,
   "metadata": {},
   "outputs": [
    {
     "data": {
      "image/svg+xml": [
       "<svg baseProfile=\"full\" height=\"225px\" version=\"1.1\" viewBox=\"0 0 300 225\" width=\"300px\" xml:space=\"preserve\" xmlns=\"http://www.w3.org/2000/svg\" xmlns:rdkit=\"http://www.rdkit.org/xml\" xmlns:xlink=\"http://www.w3.org/1999/xlink\">\n",
       "<!-- END OF HEADER -->\n",
       "<rect height=\"225\" style=\"opacity:1.0;fill:#FFFFFF;stroke:none\" width=\"300\" x=\"0\" y=\"0\"> </rect>\n",
       "<ellipse cx=\"117.61\" cy=\"157.441\" rx=\"20.4353\" ry=\"14.5392\" style=\"fill:#E5E5FF;fill-rule:evenodd;stroke:#E5E5FF;stroke-width:2px;stroke-linecap:butt;stroke-linejoin:miter;stroke-opacity:1\"/>\n",
       "<path class=\"bond-0\" d=\"M 99.3541,31.6429 L 99.3765,59.6029\" style=\"fill:none;fill-rule:evenodd;stroke:#000000;stroke-width:2px;stroke-linecap:butt;stroke-linejoin:miter;stroke-opacity:1\"/>\n",
       "<path class=\"bond-1\" d=\"M 99.3765,59.6029 L 108.69,64.9693\" style=\"fill:none;fill-rule:evenodd;stroke:#000000;stroke-width:2px;stroke-linecap:butt;stroke-linejoin:miter;stroke-opacity:1\"/>\n",
       "<path class=\"bond-1\" d=\"M 108.69,64.9693 L 118.004,70.3357\" style=\"fill:none;fill-rule:evenodd;stroke:#CCCC00;stroke-width:2px;stroke-linecap:butt;stroke-linejoin:miter;stroke-opacity:1\"/>\n",
       "<path class=\"bond-2\" d=\"M 123.607,80.5505 L 123.615,91.0356\" style=\"fill:none;fill-rule:evenodd;stroke:#CCCC00;stroke-width:2px;stroke-linecap:butt;stroke-linejoin:miter;stroke-opacity:1\"/>\n",
       "<path class=\"bond-2\" d=\"M 123.615,91.0356 L 123.623,101.521\" style=\"fill:none;fill-rule:evenodd;stroke:#000000;stroke-width:2px;stroke-linecap:butt;stroke-linejoin:miter;stroke-opacity:1\"/>\n",
       "<path class=\"bond-3\" d=\"M 123.623,101.521 L 147.848,115.484\" style=\"fill:none;fill-rule:evenodd;stroke:#000000;stroke-width:2px;stroke-linecap:butt;stroke-linejoin:miter;stroke-opacity:1\"/>\n",
       "<path class=\"bond-4\" d=\"M 147.848,115.484 L 147.87,143.444\" style=\"fill:none;fill-rule:evenodd;stroke:#000000;stroke-width:2px;stroke-linecap:butt;stroke-linejoin:miter;stroke-opacity:1\"/>\n",
       "<path class=\"bond-5\" d=\"M 147.87,143.444 L 139.965,148.016\" style=\"fill:none;fill-rule:evenodd;stroke:#000000;stroke-width:2px;stroke-linecap:butt;stroke-linejoin:miter;stroke-opacity:1\"/>\n",
       "<path class=\"bond-5\" d=\"M 139.965,148.016 L 132.06,152.588\" style=\"fill:none;fill-rule:evenodd;stroke:#0000FF;stroke-width:2px;stroke-linecap:butt;stroke-linejoin:miter;stroke-opacity:1\"/>\n",
       "<path class=\"bond-6\" d=\"M 147.87,143.444 L 172.095,157.407\" style=\"fill:none;fill-rule:evenodd;stroke:#000000;stroke-width:2px;stroke-linecap:butt;stroke-linejoin:miter;stroke-opacity:1\"/>\n",
       "<path class=\"bond-7\" d=\"M 173.355,159.585 L 182.192,154.473\" style=\"fill:none;fill-rule:evenodd;stroke:#000000;stroke-width:2px;stroke-linecap:butt;stroke-linejoin:miter;stroke-opacity:1\"/>\n",
       "<path class=\"bond-7\" d=\"M 182.192,154.473 L 191.029,149.36\" style=\"fill:none;fill-rule:evenodd;stroke:#FF0000;stroke-width:2px;stroke-linecap:butt;stroke-linejoin:miter;stroke-opacity:1\"/>\n",
       "<path class=\"bond-7\" d=\"M 170.835,155.229 L 179.672,150.116\" style=\"fill:none;fill-rule:evenodd;stroke:#000000;stroke-width:2px;stroke-linecap:butt;stroke-linejoin:miter;stroke-opacity:1\"/>\n",
       "<path class=\"bond-7\" d=\"M 179.672,150.116 L 188.509,145.004\" style=\"fill:none;fill-rule:evenodd;stroke:#FF0000;stroke-width:2px;stroke-linecap:butt;stroke-linejoin:miter;stroke-opacity:1\"/>\n",
       "<path class=\"bond-8\" d=\"M 172.095,157.407 L 172.103,167.892\" style=\"fill:none;fill-rule:evenodd;stroke:#000000;stroke-width:2px;stroke-linecap:butt;stroke-linejoin:miter;stroke-opacity:1\"/>\n",
       "<path class=\"bond-8\" d=\"M 172.103,167.892 L 172.112,178.377\" style=\"fill:none;fill-rule:evenodd;stroke:#FF0000;stroke-width:2px;stroke-linecap:butt;stroke-linejoin:miter;stroke-opacity:1\"/>\n",
       "<text dominant-baseline=\"central\" style=\"font-size:13px;font-style:normal;font-weight:normal;fill-opacity:1;stroke:none;font-family:sans-serif;fill:#CCCC00\" text-anchor=\"start\" x=\"119.402\" y=\"75.6575\"><tspan>S</tspan></text>\n",
       "<text dominant-baseline=\"central\" style=\"font-size:13px;font-style:normal;font-weight:normal;fill-opacity:1;stroke:none;font-family:sans-serif;fill:#0000FF\" text-anchor=\"end\" x=\"128.189\" y=\"159.747\"><tspan>H</tspan><tspan style=\"baseline-shift:sub;font-size:9.75px;\">2</tspan><tspan>N</tspan></text>\n",
       "<text dominant-baseline=\"central\" style=\"font-size:13px;font-style:normal;font-weight:normal;fill-opacity:1;stroke:none;font-family:sans-serif;fill:#FF0000\" text-anchor=\"start\" x=\"191.167\" y=\"145.502\"><tspan>O</tspan></text>\n",
       "<text dominant-baseline=\"central\" style=\"font-size:13px;font-style:normal;font-weight:normal;fill-opacity:1;stroke:none;font-family:sans-serif;fill:#FF0000\" text-anchor=\"start\" x=\"166.987\" y=\"187.464\"><tspan>OH</tspan></text>\n",
       "<text dominant-baseline=\"central\" style=\"font-size:18px;font-style:normal;font-weight:normal;fill-opacity:1;stroke:none;font-family:sans-serif;fill:#000000\" text-anchor=\"middle\" x=\"150\" y=\"214.2\"><tspan>pKa = 8.83</tspan></text>\n",
       "</svg>"
      ],
      "text/plain": [
       "<IPython.core.display.SVG object>"
      ]
     },
     "execution_count": 573,
     "metadata": {},
     "output_type": "execute_result"
    }
   ],
   "source": [
    "draw_similar_molecule(selected_smiles_lis[3])"
   ]
  },
  {
   "cell_type": "code",
   "execution_count": null,
   "metadata": {},
   "outputs": [],
   "source": []
  },
  {
   "cell_type": "code",
   "execution_count": null,
   "metadata": {},
   "outputs": [],
   "source": []
  },
  {
   "cell_type": "code",
   "execution_count": null,
   "metadata": {},
   "outputs": [],
   "source": []
  },
  {
   "cell_type": "code",
   "execution_count": null,
   "metadata": {},
   "outputs": [],
   "source": []
  },
  {
   "cell_type": "code",
   "execution_count": null,
   "metadata": {},
   "outputs": [],
   "source": []
  },
  {
   "cell_type": "code",
   "execution_count": null,
   "metadata": {},
   "outputs": [],
   "source": []
  },
  {
   "cell_type": "code",
   "execution_count": null,
   "metadata": {},
   "outputs": [],
   "source": [
    "smis=[i[0] for i in selected_smiles_lis]\n",
    "legend_lis = ['pKa = ' + str(round(float(i[1]),2)) for i in selected_smiles_lis]"
   ]
  },
  {
   "cell_type": "code",
   "execution_count": 160,
   "metadata": {},
   "outputs": [
    {
     "data": {
      "image/svg+xml": [
       "<svg baseProfile=\"full\" height=\"300px\" version=\"1.1\" viewBox=\"0 0 1200 300\" width=\"1200px\" xml:space=\"preserve\" xmlns=\"http://www.w3.org/2000/svg\" xmlns:rdkit=\"http://www.rdkit.org/xml\" xmlns:xlink=\"http://www.w3.org/1999/xlink\">\n",
       "<!-- END OF HEADER -->\n",
       "<rect height=\"300\" style=\"opacity:1.0;fill:#FFFFFF;stroke:none\" width=\"1200\" x=\"0\" y=\"0\"> </rect>\n",
       "<rect height=\"300\" style=\"opacity:1.0;fill:#FFFFFF;stroke:none\" width=\"1200\" x=\"0\" y=\"0\"> </rect>\n",
       "<rect height=\"300\" style=\"opacity:1.0;fill:#FFFFFF;stroke:none\" width=\"1200\" x=\"0\" y=\"0\"> </rect>\n",
       "<rect height=\"300\" style=\"opacity:1.0;fill:#FFFFFF;stroke:none\" width=\"1200\" x=\"0\" y=\"0\"> </rect>\n",
       "<rect height=\"300\" style=\"opacity:1.0;fill:#FFFFFF;stroke:none\" width=\"1200\" x=\"0\" y=\"0\"> </rect>\n",
       "<path class=\"bond-0\" d=\"M 72.9312,212.373 L 76.2426,194.464\" style=\"fill:none;fill-rule:evenodd;stroke:#0000FF;stroke-width:2px;stroke-linecap:butt;stroke-linejoin:miter;stroke-opacity:1\"/>\n",
       "<path class=\"bond-0\" d=\"M 76.2426,194.464 L 79.5539,176.555\" style=\"fill:none;fill-rule:evenodd;stroke:#000000;stroke-width:2px;stroke-linecap:butt;stroke-linejoin:miter;stroke-opacity:1\"/>\n",
       "<path class=\"bond-1\" d=\"M 79.5539,176.555 L 45.4954,147.492\" style=\"fill:none;fill-rule:evenodd;stroke:#000000;stroke-width:2px;stroke-linecap:butt;stroke-linejoin:miter;stroke-opacity:1\"/>\n",
       "<path class=\"bond-1\" d=\"M 80.2577,165.384 L 56.4168,145.039\" style=\"fill:none;fill-rule:evenodd;stroke:#000000;stroke-width:2px;stroke-linecap:butt;stroke-linejoin:miter;stroke-opacity:1\"/>\n",
       "<path class=\"bond-13\" d=\"M 79.5539,176.555 L 121.753,161.591\" style=\"fill:none;fill-rule:evenodd;stroke:#000000;stroke-width:2px;stroke-linecap:butt;stroke-linejoin:miter;stroke-opacity:1\"/>\n",
       "<path class=\"bond-2\" d=\"M 45.4954,147.492 L 53.6357,103.464\" style=\"fill:none;fill-rule:evenodd;stroke:#000000;stroke-width:2px;stroke-linecap:butt;stroke-linejoin:miter;stroke-opacity:1\"/>\n",
       "<path class=\"bond-3\" d=\"M 53.6357,103.464 L 95.8344,88.5006\" style=\"fill:none;fill-rule:evenodd;stroke:#000000;stroke-width:2px;stroke-linecap:butt;stroke-linejoin:miter;stroke-opacity:1\"/>\n",
       "<path class=\"bond-3\" d=\"M 62.9583,109.66 L 92.4974,99.1849\" style=\"fill:none;fill-rule:evenodd;stroke:#000000;stroke-width:2px;stroke-linecap:butt;stroke-linejoin:miter;stroke-opacity:1\"/>\n",
       "<path class=\"bond-4\" d=\"M 95.8344,88.5006 L 129.893,117.564\" style=\"fill:none;fill-rule:evenodd;stroke:#000000;stroke-width:2px;stroke-linecap:butt;stroke-linejoin:miter;stroke-opacity:1\"/>\n",
       "<path class=\"bond-5\" d=\"M 129.893,117.564 L 147.508,111.318\" style=\"fill:none;fill-rule:evenodd;stroke:#000000;stroke-width:2px;stroke-linecap:butt;stroke-linejoin:miter;stroke-opacity:1\"/>\n",
       "<path class=\"bond-5\" d=\"M 147.508,111.318 L 165.122,105.071\" style=\"fill:none;fill-rule:evenodd;stroke:#FF0000;stroke-width:2px;stroke-linecap:butt;stroke-linejoin:miter;stroke-opacity:1\"/>\n",
       "<path class=\"bond-12\" d=\"M 129.893,117.564 L 121.753,161.591\" style=\"fill:none;fill-rule:evenodd;stroke:#000000;stroke-width:2px;stroke-linecap:butt;stroke-linejoin:miter;stroke-opacity:1\"/>\n",
       "<path class=\"bond-12\" d=\"M 119.866,122.54 L 114.168,153.359\" style=\"fill:none;fill-rule:evenodd;stroke:#000000;stroke-width:2px;stroke-linecap:butt;stroke-linejoin:miter;stroke-opacity:1\"/>\n",
       "<path class=\"bond-6\" d=\"M 179.061,108.547 L 192.606,120.105\" style=\"fill:none;fill-rule:evenodd;stroke:#FF0000;stroke-width:2px;stroke-linecap:butt;stroke-linejoin:miter;stroke-opacity:1\"/>\n",
       "<path class=\"bond-6\" d=\"M 192.606,120.105 L 206.15,131.663\" style=\"fill:none;fill-rule:evenodd;stroke:#000000;stroke-width:2px;stroke-linecap:butt;stroke-linejoin:miter;stroke-opacity:1\"/>\n",
       "<path class=\"bond-7\" d=\"M 206.15,131.663 L 194.355,145.485\" style=\"fill:none;fill-rule:evenodd;stroke:#000000;stroke-width:2px;stroke-linecap:butt;stroke-linejoin:miter;stroke-opacity:1\"/>\n",
       "<path class=\"bond-7\" d=\"M 194.355,145.485 L 182.56,159.307\" style=\"fill:none;fill-rule:evenodd;stroke:#33CCCC;stroke-width:2px;stroke-linecap:butt;stroke-linejoin:miter;stroke-opacity:1\"/>\n",
       "<path class=\"bond-8\" d=\"M 206.15,131.663 L 217.945,117.841\" style=\"fill:none;fill-rule:evenodd;stroke:#000000;stroke-width:2px;stroke-linecap:butt;stroke-linejoin:miter;stroke-opacity:1\"/>\n",
       "<path class=\"bond-8\" d=\"M 217.945,117.841 L 229.74,104.019\" style=\"fill:none;fill-rule:evenodd;stroke:#33CCCC;stroke-width:2px;stroke-linecap:butt;stroke-linejoin:miter;stroke-opacity:1\"/>\n",
       "<path class=\"bond-9\" d=\"M 206.15,131.663 L 240.209,160.726\" style=\"fill:none;fill-rule:evenodd;stroke:#000000;stroke-width:2px;stroke-linecap:butt;stroke-linejoin:miter;stroke-opacity:1\"/>\n",
       "<path class=\"bond-10\" d=\"M 240.209,160.726 L 236.828,179.009\" style=\"fill:none;fill-rule:evenodd;stroke:#000000;stroke-width:2px;stroke-linecap:butt;stroke-linejoin:miter;stroke-opacity:1\"/>\n",
       "<path class=\"bond-10\" d=\"M 236.828,179.009 L 233.448,197.291\" style=\"fill:none;fill-rule:evenodd;stroke:#33CCCC;stroke-width:2px;stroke-linecap:butt;stroke-linejoin:miter;stroke-opacity:1\"/>\n",
       "<path class=\"bond-11\" d=\"M 240.209,160.726 L 258.571,154.215\" style=\"fill:none;fill-rule:evenodd;stroke:#000000;stroke-width:2px;stroke-linecap:butt;stroke-linejoin:miter;stroke-opacity:1\"/>\n",
       "<path class=\"bond-11\" d=\"M 258.571,154.215 L 276.934,147.704\" style=\"fill:none;fill-rule:evenodd;stroke:#33CCCC;stroke-width:2px;stroke-linecap:butt;stroke-linejoin:miter;stroke-opacity:1\"/>\n",
       "<text dominant-baseline=\"central\" style=\"font-size:14px;font-style:normal;font-weight:normal;fill-opacity:1;stroke:none;font-family:sans-serif;fill:#0000FF\" text-anchor=\"start\" x=\"66.5874\" y=\"223.044\"><tspan>NH</tspan><tspan style=\"baseline-shift:sub;font-size:10.5px;\">2</tspan><tspan/></text>\n",
       "<text dominant-baseline=\"central\" style=\"font-size:14px;font-style:normal;font-weight:normal;fill-opacity:1;stroke:none;font-family:sans-serif;fill:#FF0000\" text-anchor=\"middle\" x=\"172.092\" y=\"104.839\"><tspan>O</tspan></text>\n",
       "<text dominant-baseline=\"central\" style=\"font-size:14px;font-style:normal;font-weight:normal;fill-opacity:1;stroke:none;font-family:sans-serif;fill:#33CCCC\" text-anchor=\"end\" x=\"181.068\" y=\"167.96\"><tspan>F</tspan></text>\n",
       "<text dominant-baseline=\"central\" style=\"font-size:14px;font-style:normal;font-weight:normal;fill-opacity:1;stroke:none;font-family:sans-serif;fill:#33CCCC\" text-anchor=\"start\" x=\"231.232\" y=\"99.8435\"><tspan>F</tspan></text>\n",
       "<text dominant-baseline=\"central\" style=\"font-size:14px;font-style:normal;font-weight:normal;fill-opacity:1;stroke:none;font-family:sans-serif;fill:#33CCCC\" text-anchor=\"start\" x=\"228.087\" y=\"206.992\"><tspan>F</tspan></text>\n",
       "<text dominant-baseline=\"central\" style=\"font-size:14px;font-style:normal;font-weight:normal;fill-opacity:1;stroke:none;font-family:sans-serif;fill:#33CCCC\" text-anchor=\"start\" x=\"278.426\" y=\"148.001\"><tspan>F</tspan></text>\n",
       "<text dominant-baseline=\"central\" style=\"font-size:12px;font-style:normal;font-weight:normal;fill-opacity:1;stroke:none;font-family:sans-serif;fill:#000000\" text-anchor=\"middle\" x=\"150\" y=\"283.8\"><tspan>pKa = 4.3</tspan></text>\n",
       "<path class=\"bond-0\" d=\"M 342.431,153.834 L 359.893,150.297\" style=\"fill:none;fill-rule:evenodd;stroke:#0000FF;stroke-width:2px;stroke-linecap:butt;stroke-linejoin:miter;stroke-opacity:1\"/>\n",
       "<path class=\"bond-0\" d=\"M 359.893,150.297 L 377.355,146.76\" style=\"fill:none;fill-rule:evenodd;stroke:#000000;stroke-width:2px;stroke-linecap:butt;stroke-linejoin:miter;stroke-opacity:1\"/>\n",
       "<path class=\"bond-1\" d=\"M 377.355,146.76 L 391.598,104.312\" style=\"fill:none;fill-rule:evenodd;stroke:#000000;stroke-width:2px;stroke-linecap:butt;stroke-linejoin:miter;stroke-opacity:1\"/>\n",
       "<path class=\"bond-1\" d=\"M 387.981,143.241 L 397.951,113.528\" style=\"fill:none;fill-rule:evenodd;stroke:#000000;stroke-width:2px;stroke-linecap:butt;stroke-linejoin:miter;stroke-opacity:1\"/>\n",
       "<path class=\"bond-11\" d=\"M 377.355,146.76 L 406.994,180.318\" style=\"fill:none;fill-rule:evenodd;stroke:#000000;stroke-width:2px;stroke-linecap:butt;stroke-linejoin:miter;stroke-opacity:1\"/>\n",
       "<path class=\"bond-2\" d=\"M 391.598,104.312 L 435.48,95.4236\" style=\"fill:none;fill-rule:evenodd;stroke:#000000;stroke-width:2px;stroke-linecap:butt;stroke-linejoin:miter;stroke-opacity:1\"/>\n",
       "<path class=\"bond-3\" d=\"M 435.48,95.4236 L 465.119,128.982\" style=\"fill:none;fill-rule:evenodd;stroke:#000000;stroke-width:2px;stroke-linecap:butt;stroke-linejoin:miter;stroke-opacity:1\"/>\n",
       "<path class=\"bond-3\" d=\"M 433.214,106.385 L 453.961,129.876\" style=\"fill:none;fill-rule:evenodd;stroke:#000000;stroke-width:2px;stroke-linecap:butt;stroke-linejoin:miter;stroke-opacity:1\"/>\n",
       "<path class=\"bond-4\" d=\"M 465.119,128.982 L 509.001,120.094\" style=\"fill:none;fill-rule:evenodd;stroke:#000000;stroke-width:2px;stroke-linecap:butt;stroke-linejoin:miter;stroke-opacity:1\"/>\n",
       "<path class=\"bond-12\" d=\"M 465.119,128.982 L 450.876,171.43\" style=\"fill:none;fill-rule:evenodd;stroke:#000000;stroke-width:2px;stroke-linecap:butt;stroke-linejoin:miter;stroke-opacity:1\"/>\n",
       "<path class=\"bond-5\" d=\"M 509.001,120.094 L 514.871,102.601\" style=\"fill:none;fill-rule:evenodd;stroke:#000000;stroke-width:2px;stroke-linecap:butt;stroke-linejoin:miter;stroke-opacity:1\"/>\n",
       "<path class=\"bond-5\" d=\"M 514.871,102.601 L 520.74,85.1084\" style=\"fill:none;fill-rule:evenodd;stroke:#FF0000;stroke-width:2px;stroke-linecap:butt;stroke-linejoin:miter;stroke-opacity:1\"/>\n",
       "<path class=\"bond-6\" d=\"M 509.001,120.094 L 538.64,153.652\" style=\"fill:none;fill-rule:evenodd;stroke:#000000;stroke-width:2px;stroke-linecap:butt;stroke-linejoin:miter;stroke-opacity:1\"/>\n",
       "<path class=\"bond-6\" d=\"M 506.735,131.055 L 527.482,154.546\" style=\"fill:none;fill-rule:evenodd;stroke:#000000;stroke-width:2px;stroke-linecap:butt;stroke-linejoin:miter;stroke-opacity:1\"/>\n",
       "<path class=\"bond-7\" d=\"M 538.64,153.652 L 524.397,196.1\" style=\"fill:none;fill-rule:evenodd;stroke:#000000;stroke-width:2px;stroke-linecap:butt;stroke-linejoin:miter;stroke-opacity:1\"/>\n",
       "<path class=\"bond-8\" d=\"M 524.397,196.1 L 480.515,204.988\" style=\"fill:none;fill-rule:evenodd;stroke:#000000;stroke-width:2px;stroke-linecap:butt;stroke-linejoin:miter;stroke-opacity:1\"/>\n",
       "<path class=\"bond-8\" d=\"M 516.037,188.657 L 485.319,194.879\" style=\"fill:none;fill-rule:evenodd;stroke:#000000;stroke-width:2px;stroke-linecap:butt;stroke-linejoin:miter;stroke-opacity:1\"/>\n",
       "<path class=\"bond-9\" d=\"M 480.515,204.988 L 450.876,171.43\" style=\"fill:none;fill-rule:evenodd;stroke:#000000;stroke-width:2px;stroke-linecap:butt;stroke-linejoin:miter;stroke-opacity:1\"/>\n",
       "<path class=\"bond-10\" d=\"M 450.876,171.43 L 406.994,180.318\" style=\"fill:none;fill-rule:evenodd;stroke:#000000;stroke-width:2px;stroke-linecap:butt;stroke-linejoin:miter;stroke-opacity:1\"/>\n",
       "<path class=\"bond-10\" d=\"M 442.516,163.987 L 411.798,170.209\" style=\"fill:none;fill-rule:evenodd;stroke:#000000;stroke-width:2px;stroke-linecap:butt;stroke-linejoin:miter;stroke-opacity:1\"/>\n",
       "<text dominant-baseline=\"central\" style=\"font-size:14px;font-style:normal;font-weight:normal;fill-opacity:1;stroke:none;font-family:sans-serif;fill:#0000FF\" text-anchor=\"end\" x=\"338.299\" y=\"158.111\"><tspan>H</tspan><tspan style=\"baseline-shift:sub;font-size:10.5px;\">2</tspan><tspan>N</tspan></text>\n",
       "<text dominant-baseline=\"central\" style=\"font-size:14px;font-style:normal;font-weight:normal;fill-opacity:1;stroke:none;font-family:sans-serif;fill:#FF0000\" text-anchor=\"start\" x=\"517.767\" y=\"79.8849\"><tspan>OH</tspan></text>\n",
       "<text dominant-baseline=\"central\" style=\"font-size:12px;font-style:normal;font-weight:normal;fill-opacity:1;stroke:none;font-family:sans-serif;fill:#000000\" text-anchor=\"middle\" x=\"450\" y=\"283.8\"><tspan>pKa = 7.86</tspan></text>\n",
       "<path class=\"bond-0\" d=\"M 679.511,206.078 L 685.598,189.111\" style=\"fill:none;fill-rule:evenodd;stroke:#0000FF;stroke-width:2px;stroke-linecap:butt;stroke-linejoin:miter;stroke-opacity:1\"/>\n",
       "<path class=\"bond-0\" d=\"M 685.598,189.111 L 691.686,172.143\" style=\"fill:none;fill-rule:evenodd;stroke:#000000;stroke-width:2px;stroke-linecap:butt;stroke-linejoin:miter;stroke-opacity:1\"/>\n",
       "<path class=\"bond-1\" d=\"M 691.686,172.143 L 662.749,137.977\" style=\"fill:none;fill-rule:evenodd;stroke:#000000;stroke-width:2px;stroke-linecap:butt;stroke-linejoin:miter;stroke-opacity:1\"/>\n",
       "<path class=\"bond-1\" d=\"M 694.179,161.231 L 673.923,137.315\" style=\"fill:none;fill-rule:evenodd;stroke:#000000;stroke-width:2px;stroke-linecap:butt;stroke-linejoin:miter;stroke-opacity:1\"/>\n",
       "<path class=\"bond-11\" d=\"M 691.686,172.143 L 735.743,164.167\" style=\"fill:none;fill-rule:evenodd;stroke:#000000;stroke-width:2px;stroke-linecap:butt;stroke-linejoin:miter;stroke-opacity:1\"/>\n",
       "<path class=\"bond-2\" d=\"M 662.749,137.977 L 677.87,95.8345\" style=\"fill:none;fill-rule:evenodd;stroke:#000000;stroke-width:2px;stroke-linecap:butt;stroke-linejoin:miter;stroke-opacity:1\"/>\n",
       "<path class=\"bond-3\" d=\"M 677.87,95.8345 L 721.927,87.8576\" style=\"fill:none;fill-rule:evenodd;stroke:#000000;stroke-width:2px;stroke-linecap:butt;stroke-linejoin:miter;stroke-opacity:1\"/>\n",
       "<path class=\"bond-3\" d=\"M 686.074,103.449 L 716.914,97.8656\" style=\"fill:none;fill-rule:evenodd;stroke:#000000;stroke-width:2px;stroke-linecap:butt;stroke-linejoin:miter;stroke-opacity:1\"/>\n",
       "<path class=\"bond-4\" d=\"M 721.927,87.8576 L 750.863,122.024\" style=\"fill:none;fill-rule:evenodd;stroke:#000000;stroke-width:2px;stroke-linecap:butt;stroke-linejoin:miter;stroke-opacity:1\"/>\n",
       "<path class=\"bond-5\" d=\"M 750.863,122.024 L 769.904,118.576\" style=\"fill:none;fill-rule:evenodd;stroke:#000000;stroke-width:2px;stroke-linecap:butt;stroke-linejoin:miter;stroke-opacity:1\"/>\n",
       "<path class=\"bond-5\" d=\"M 769.904,118.576 L 788.945,115.129\" style=\"fill:none;fill-rule:evenodd;stroke:#CCCC00;stroke-width:2px;stroke-linecap:butt;stroke-linejoin:miter;stroke-opacity:1\"/>\n",
       "<path class=\"bond-10\" d=\"M 750.863,122.024 L 735.743,164.167\" style=\"fill:none;fill-rule:evenodd;stroke:#000000;stroke-width:2px;stroke-linecap:butt;stroke-linejoin:miter;stroke-opacity:1\"/>\n",
       "<path class=\"bond-10\" d=\"M 740.167,125.321 L 729.583,154.821\" style=\"fill:none;fill-rule:evenodd;stroke:#000000;stroke-width:2px;stroke-linecap:butt;stroke-linejoin:miter;stroke-opacity:1\"/>\n",
       "<path class=\"bond-6\" d=\"M 800.896,121.102 L 812.376,134.657\" style=\"fill:none;fill-rule:evenodd;stroke:#CCCC00;stroke-width:2px;stroke-linecap:butt;stroke-linejoin:miter;stroke-opacity:1\"/>\n",
       "<path class=\"bond-6\" d=\"M 812.376,134.657 L 823.857,148.213\" style=\"fill:none;fill-rule:evenodd;stroke:#000000;stroke-width:2px;stroke-linecap:butt;stroke-linejoin:miter;stroke-opacity:1\"/>\n",
       "<path class=\"bond-7\" d=\"M 823.857,148.213 L 838.203,136.063\" style=\"fill:none;fill-rule:evenodd;stroke:#000000;stroke-width:2px;stroke-linecap:butt;stroke-linejoin:miter;stroke-opacity:1\"/>\n",
       "<path class=\"bond-7\" d=\"M 838.203,136.063 L 852.55,123.912\" style=\"fill:none;fill-rule:evenodd;stroke:#33CCCC;stroke-width:2px;stroke-linecap:butt;stroke-linejoin:miter;stroke-opacity:1\"/>\n",
       "<path class=\"bond-8\" d=\"M 823.857,148.213 L 809.511,160.363\" style=\"fill:none;fill-rule:evenodd;stroke:#000000;stroke-width:2px;stroke-linecap:butt;stroke-linejoin:miter;stroke-opacity:1\"/>\n",
       "<path class=\"bond-8\" d=\"M 809.511,160.363 L 795.164,172.514\" style=\"fill:none;fill-rule:evenodd;stroke:#33CCCC;stroke-width:2px;stroke-linecap:butt;stroke-linejoin:miter;stroke-opacity:1\"/>\n",
       "<path class=\"bond-9\" d=\"M 823.857,148.213 L 835.589,162.065\" style=\"fill:none;fill-rule:evenodd;stroke:#000000;stroke-width:2px;stroke-linecap:butt;stroke-linejoin:miter;stroke-opacity:1\"/>\n",
       "<path class=\"bond-9\" d=\"M 835.589,162.065 L 847.32,175.916\" style=\"fill:none;fill-rule:evenodd;stroke:#33CCCC;stroke-width:2px;stroke-linecap:butt;stroke-linejoin:miter;stroke-opacity:1\"/>\n",
       "<text dominant-baseline=\"central\" style=\"font-size:14px;font-style:normal;font-weight:normal;fill-opacity:1;stroke:none;font-family:sans-serif;fill:#0000FF\" text-anchor=\"start\" x=\"671.739\" y=\"216.749\"><tspan>NH</tspan><tspan style=\"baseline-shift:sub;font-size:10.5px;\">2</tspan><tspan/></text>\n",
       "<text dominant-baseline=\"central\" style=\"font-size:14px;font-style:normal;font-weight:normal;fill-opacity:1;stroke:none;font-family:sans-serif;fill:#CCCC00\" text-anchor=\"middle\" x=\"794.92\" y=\"116.286\"><tspan>S</tspan></text>\n",
       "<text dominant-baseline=\"central\" style=\"font-size:14px;font-style:normal;font-weight:normal;fill-opacity:1;stroke:none;font-family:sans-serif;fill:#33CCCC\" text-anchor=\"start\" x=\"854.042\" y=\"121.515\"><tspan>F</tspan></text>\n",
       "<text dominant-baseline=\"central\" style=\"font-size:14px;font-style:normal;font-weight:normal;fill-opacity:1;stroke:none;font-family:sans-serif;fill:#33CCCC\" text-anchor=\"end\" x=\"793.672\" y=\"179.388\"><tspan>F</tspan></text>\n",
       "<text dominant-baseline=\"central\" style=\"font-size:14px;font-style:normal;font-weight:normal;fill-opacity:1;stroke:none;font-family:sans-serif;fill:#33CCCC\" text-anchor=\"start\" x=\"848.813\" y=\"184.618\"><tspan>F</tspan></text>\n",
       "<text dominant-baseline=\"central\" style=\"font-size:12px;font-style:normal;font-weight:normal;fill-opacity:1;stroke:none;font-family:sans-serif;fill:#000000\" text-anchor=\"middle\" x=\"750\" y=\"283.8\"><tspan>pKa = 4.4</tspan></text>\n",
       "<path class=\"bond-0\" d=\"M 968.475,213.043 L 971.428,195.057\" style=\"fill:none;fill-rule:evenodd;stroke:#0000FF;stroke-width:2px;stroke-linecap:butt;stroke-linejoin:miter;stroke-opacity:1\"/>\n",
       "<path class=\"bond-0\" d=\"M 971.428,195.057 L 974.381,177.07\" style=\"fill:none;fill-rule:evenodd;stroke:#000000;stroke-width:2px;stroke-linecap:butt;stroke-linejoin:miter;stroke-opacity:1\"/>\n",
       "<path class=\"bond-1\" d=\"M 974.381,177.07 L 939.745,148.698\" style=\"fill:none;fill-rule:evenodd;stroke:#000000;stroke-width:2px;stroke-linecap:butt;stroke-linejoin:miter;stroke-opacity:1\"/>\n",
       "<path class=\"bond-1\" d=\"M 974.86,165.887 L 950.614,146.026\" style=\"fill:none;fill-rule:evenodd;stroke:#000000;stroke-width:2px;stroke-linecap:butt;stroke-linejoin:miter;stroke-opacity:1\"/>\n",
       "<path class=\"bond-14\" d=\"M 974.381,177.07 L 1016.27,161.26\" style=\"fill:none;fill-rule:evenodd;stroke:#000000;stroke-width:2px;stroke-linecap:butt;stroke-linejoin:miter;stroke-opacity:1\"/>\n",
       "<path class=\"bond-2\" d=\"M 939.745,148.698 L 946.997,104.516\" style=\"fill:none;fill-rule:evenodd;stroke:#000000;stroke-width:2px;stroke-linecap:butt;stroke-linejoin:miter;stroke-opacity:1\"/>\n",
       "<path class=\"bond-3\" d=\"M 946.997,104.516 L 988.887,88.706\" style=\"fill:none;fill-rule:evenodd;stroke:#000000;stroke-width:2px;stroke-linecap:butt;stroke-linejoin:miter;stroke-opacity:1\"/>\n",
       "<path class=\"bond-3\" d=\"M 956.443,110.522 L 985.765,99.4553\" style=\"fill:none;fill-rule:evenodd;stroke:#000000;stroke-width:2px;stroke-linecap:butt;stroke-linejoin:miter;stroke-opacity:1\"/>\n",
       "<path class=\"bond-4\" d=\"M 988.887,88.706 L 1023.52,117.078\" style=\"fill:none;fill-rule:evenodd;stroke:#000000;stroke-width:2px;stroke-linecap:butt;stroke-linejoin:miter;stroke-opacity:1\"/>\n",
       "<path class=\"bond-5\" d=\"M 1023.52,117.078 L 1040.98,110.489\" style=\"fill:none;fill-rule:evenodd;stroke:#000000;stroke-width:2px;stroke-linecap:butt;stroke-linejoin:miter;stroke-opacity:1\"/>\n",
       "<path class=\"bond-5\" d=\"M 1040.98,110.489 L 1058.44,103.899\" style=\"fill:none;fill-rule:evenodd;stroke:#FF0000;stroke-width:2px;stroke-linecap:butt;stroke-linejoin:miter;stroke-opacity:1\"/>\n",
       "<path class=\"bond-13\" d=\"M 1023.52,117.078 L 1016.27,161.26\" style=\"fill:none;fill-rule:evenodd;stroke:#000000;stroke-width:2px;stroke-linecap:butt;stroke-linejoin:miter;stroke-opacity:1\"/>\n",
       "<path class=\"bond-13\" d=\"M 1013.6,122.255 L 1008.52,153.182\" style=\"fill:none;fill-rule:evenodd;stroke:#000000;stroke-width:2px;stroke-linecap:butt;stroke-linejoin:miter;stroke-opacity:1\"/>\n",
       "<path class=\"bond-6\" d=\"M 1072.38,106.977 L 1086.21,118.309\" style=\"fill:none;fill-rule:evenodd;stroke:#FF0000;stroke-width:2px;stroke-linecap:butt;stroke-linejoin:miter;stroke-opacity:1\"/>\n",
       "<path class=\"bond-6\" d=\"M 1086.21,118.309 L 1100.05,129.641\" style=\"fill:none;fill-rule:evenodd;stroke:#000000;stroke-width:2px;stroke-linecap:butt;stroke-linejoin:miter;stroke-opacity:1\"/>\n",
       "<path class=\"bond-7\" d=\"M 1100.05,129.641 L 1088.6,143.618\" style=\"fill:none;fill-rule:evenodd;stroke:#000000;stroke-width:2px;stroke-linecap:butt;stroke-linejoin:miter;stroke-opacity:1\"/>\n",
       "<path class=\"bond-7\" d=\"M 1088.6,143.618 L 1077.15,157.595\" style=\"fill:none;fill-rule:evenodd;stroke:#33CCCC;stroke-width:2px;stroke-linecap:butt;stroke-linejoin:miter;stroke-opacity:1\"/>\n",
       "<path class=\"bond-8\" d=\"M 1100.05,129.641 L 1111.5,115.663\" style=\"fill:none;fill-rule:evenodd;stroke:#000000;stroke-width:2px;stroke-linecap:butt;stroke-linejoin:miter;stroke-opacity:1\"/>\n",
       "<path class=\"bond-8\" d=\"M 1111.5,115.663 L 1122.95,101.686\" style=\"fill:none;fill-rule:evenodd;stroke:#33CCCC;stroke-width:2px;stroke-linecap:butt;stroke-linejoin:miter;stroke-opacity:1\"/>\n",
       "<path class=\"bond-9\" d=\"M 1100.05,129.641 L 1134.68,158.013\" style=\"fill:none;fill-rule:evenodd;stroke:#000000;stroke-width:2px;stroke-linecap:butt;stroke-linejoin:miter;stroke-opacity:1\"/>\n",
       "<path class=\"bond-10\" d=\"M 1134.68,158.013 L 1149.27,169.957\" style=\"fill:none;fill-rule:evenodd;stroke:#000000;stroke-width:2px;stroke-linecap:butt;stroke-linejoin:miter;stroke-opacity:1\"/>\n",
       "<path class=\"bond-10\" d=\"M 1149.27,169.957 L 1163.85,181.901\" style=\"fill:none;fill-rule:evenodd;stroke:#33CCCC;stroke-width:2px;stroke-linecap:butt;stroke-linejoin:miter;stroke-opacity:1\"/>\n",
       "<path class=\"bond-11\" d=\"M 1134.68,158.013 L 1123.24,171.99\" style=\"fill:none;fill-rule:evenodd;stroke:#000000;stroke-width:2px;stroke-linecap:butt;stroke-linejoin:miter;stroke-opacity:1\"/>\n",
       "<path class=\"bond-11\" d=\"M 1123.24,171.99 L 1111.79,185.967\" style=\"fill:none;fill-rule:evenodd;stroke:#33CCCC;stroke-width:2px;stroke-linecap:butt;stroke-linejoin:miter;stroke-opacity:1\"/>\n",
       "<path class=\"bond-12\" d=\"M 1134.68,158.013 L 1146.13,144.036\" style=\"fill:none;fill-rule:evenodd;stroke:#000000;stroke-width:2px;stroke-linecap:butt;stroke-linejoin:miter;stroke-opacity:1\"/>\n",
       "<path class=\"bond-12\" d=\"M 1146.13,144.036 L 1157.58,130.058\" style=\"fill:none;fill-rule:evenodd;stroke:#33CCCC;stroke-width:2px;stroke-linecap:butt;stroke-linejoin:miter;stroke-opacity:1\"/>\n",
       "<text dominant-baseline=\"central\" style=\"font-size:14px;font-style:normal;font-weight:normal;fill-opacity:1;stroke:none;font-family:sans-serif;fill:#0000FF\" text-anchor=\"start\" x=\"962.302\" y=\"223.714\"><tspan>NH</tspan><tspan style=\"baseline-shift:sub;font-size:10.5px;\">2</tspan><tspan/></text>\n",
       "<text dominant-baseline=\"central\" style=\"font-size:14px;font-style:normal;font-weight:normal;fill-opacity:1;stroke:none;font-family:sans-serif;fill:#FF0000\" text-anchor=\"middle\" x=\"1065.41\" y=\"103.507\"><tspan>O</tspan></text>\n",
       "<text dominant-baseline=\"central\" style=\"font-size:14px;font-style:normal;font-weight:normal;fill-opacity:1;stroke:none;font-family:sans-serif;fill:#33CCCC\" text-anchor=\"end\" x=\"1075.66\" y=\"166.516\"><tspan>F</tspan></text>\n",
       "<text dominant-baseline=\"central\" style=\"font-size:14px;font-style:normal;font-weight:normal;fill-opacity:1;stroke:none;font-family:sans-serif;fill:#33CCCC\" text-anchor=\"start\" x=\"1124.44\" y=\"97.243\"><tspan>F</tspan></text>\n",
       "<text dominant-baseline=\"central\" style=\"font-size:14px;font-style:normal;font-weight:normal;fill-opacity:1;stroke:none;font-family:sans-serif;fill:#33CCCC\" text-anchor=\"start\" x=\"1165.34\" y=\"188.624\"><tspan>F</tspan></text>\n",
       "<text dominant-baseline=\"central\" style=\"font-size:14px;font-style:normal;font-weight:normal;fill-opacity:1;stroke:none;font-family:sans-serif;fill:#33CCCC\" text-anchor=\"end\" x=\"1110.29\" y=\"194.888\"><tspan>F</tspan></text>\n",
       "<text dominant-baseline=\"central\" style=\"font-size:14px;font-style:normal;font-weight:normal;fill-opacity:1;stroke:none;font-family:sans-serif;fill:#33CCCC\" text-anchor=\"start\" x=\"1159.08\" y=\"125.615\"><tspan>F</tspan></text>\n",
       "<text dominant-baseline=\"central\" style=\"font-size:12px;font-style:normal;font-weight:normal;fill-opacity:1;stroke:none;font-family:sans-serif;fill:#000000\" text-anchor=\"middle\" x=\"1050\" y=\"283.8\"><tspan>pKa = 6.21</tspan></text>\n",
       "</svg>"
      ],
      "text/plain": [
       "<IPython.core.display.SVG object>"
      ]
     },
     "execution_count": 160,
     "metadata": {},
     "output_type": "execute_result"
    }
   ],
   "source": [
    "smis=[i[0] for i in selected_smiles_lis]\n",
    "legend_lis = ['pKa = ' + str(round(float(i[1]),2)) for i in selected_smiles_lis]\n",
    "\n",
    "mols = []\n",
    "\n",
    "for smi in smis:\n",
    "    mol = Chem.MolFromSmiles(smi)\n",
    "    mols.append(mol)\n",
    "\n",
    "img = Draw.MolsToGridImage(\n",
    "    mols,\n",
    "    molsPerRow=len(selected_smiles_lis),\n",
    "    subImgSize=(300,300),\n",
    "    legends=legend_lis\n",
    ")\n",
    "\n",
    "img"
   ]
  },
  {
   "cell_type": "code",
   "execution_count": 161,
   "metadata": {},
   "outputs": [],
   "source": [
    "smiles = 'Nc1cccc(OC(F)(F)C(F)F)c1'"
   ]
  },
  {
   "cell_type": "code",
   "execution_count": 185,
   "metadata": {},
   "outputs": [],
   "source": [
    "from rdkit import Chem\n",
    "from rdkit.Chem import Draw\n",
    "from rdkit.Chem.Draw import rdMolDraw2D\n",
    "from rdkit.Chem import rdDepictor\n",
    "rdDepictor.SetPreferCoordGen(True)\n",
    "from rdkit.Chem.Draw import IPythonConsole\n",
    "from IPython.display import SVG\n",
    "import rdkit\n",
    "\n",
    "\n",
    "mol = Chem.MolFromSmiles(smiles)\n",
    "cp = Chem.Mol(mol)\n",
    "d2d = rdMolDraw2D.MolDraw2DSVG(400,300)\n",
    "dos = d2d.drawOptions()\n",
    "dos.atomHighlightsAreCricle = True\n",
    "dos.fillHighlights = False\n",
    "#dos.addAtomIndices=True\n",
    "dos.padding =0.1\n",
    "dos.annotationFontScale = 1\n",
    "dos.bondLineWidth = 1\n",
    "dos.setSymbolColour = 0\n",
    "#dos.highlightRadius = 0.52\n",
    "#d2d.drawOptions().additionalAtomLabelPadding=True\n",
    "#d2d.drawOptions().setHighlightColour((1,0,0))\n",
    "d2d.DrawMoleculeWithHighlights(mol,\"\",{0:[(1,0,0)]},{},{},{},legend = 'a')\n",
    "d2d.FinishDrawing()\n",
    "svg = d2d.GetDrawingText()\n",
    "\n",
    "SVG(svg)"
   ]
  },
  {
   "cell_type": "code",
   "execution_count": 204,
   "metadata": {},
   "outputs": [],
   "source": [
    "mol = Chem.MolFromSmiles(smiles)\n",
    "cp = Chem.Mol(mol)\n",
    "d2d = rdMolDraw2D.MolDraw2DSVG(400,300)\n",
    "dos = d2d.drawOptions()\n",
    "dos.atomHighlightsAreCricle = True\n",
    "dos.fillHighlights = False\n",
    "#dos.addAtomIndices=True\n",
    "dos.padding =0.1\n",
    "dos.annotationFontScale = 1\n",
    "dos.bondLineWidth = 1\n",
    "dos.setSymbolColour = 0\n",
    "#dos.highlightRadius = 0.52\n",
    "#d2d.drawOptions().additionalAtomLabelPadding=True\n",
    "#d2d.drawOptions().setHighlightColour((1,0,0))\n",
    "d2d.DrawMoleculeWithHighlights(mol,\"\",{0:[(1,0,0)]},{},{},{})\n",
    "d2d.FinishDrawing()\n",
    "svg = d2d.GetDrawingText()\n"
   ]
  },
  {
   "cell_type": "code",
   "execution_count": 207,
   "metadata": {},
   "outputs": [
    {
     "data": {
      "image/svg+xml": [
       "<svg baseProfile=\"full\" height=\"300px\" version=\"1.1\" viewBox=\"0 0 400 300\" width=\"400px\" xml:space=\"preserve\" xmlns=\"http://www.w3.org/2000/svg\" xmlns:rdkit=\"http://www.rdkit.org/xml\" xmlns:xlink=\"http://www.w3.org/1999/xlink\">\n",
       "<!-- END OF HEADER -->\n",
       "<rect height=\"300\" style=\"opacity:1.0;fill:#FFFFFF;stroke:none\" width=\"400\" x=\"0\" y=\"0\"> </rect>\n",
       "<ellipse cx=\"127.373\" cy=\"257.747\" rx=\"32.4239\" ry=\"17.2532\" style=\"fill:none;stroke:#FF0000;stroke-width:3px;stroke-linecap:butt;stroke-linejoin:miter;stroke-opacity:1\"/>\n",
       "<path class=\"bond-0\" d=\"M 150.301,250.096 L 162.875,242.871\" style=\"fill:none;fill-rule:evenodd;stroke:#0000FF;stroke-width:2px;stroke-linecap:butt;stroke-linejoin:miter;stroke-opacity:1\"/>\n",
       "<path class=\"bond-0\" d=\"M 162.875,242.871 L 175.449,235.645\" style=\"fill:none;fill-rule:evenodd;stroke:#000000;stroke-width:2px;stroke-linecap:butt;stroke-linejoin:miter;stroke-opacity:1\"/>\n",
       "<path class=\"bond-1\" d=\"M 175.449,235.645 L 213.823,257.898\" style=\"fill:none;fill-rule:evenodd;stroke:#000000;stroke-width:2px;stroke-linecap:butt;stroke-linejoin:miter;stroke-opacity:1\"/>\n",
       "<path class=\"bond-1\" d=\"M 185.211,232.075 L 212.073,247.652\" style=\"fill:none;fill-rule:evenodd;stroke:#000000;stroke-width:2px;stroke-linecap:butt;stroke-linejoin:miter;stroke-opacity:1\"/>\n",
       "<path class=\"bond-13\" d=\"M 175.449,235.645 L 175.538,191.282\" style=\"fill:none;fill-rule:evenodd;stroke:#000000;stroke-width:2px;stroke-linecap:butt;stroke-linejoin:miter;stroke-opacity:1\"/>\n",
       "<path class=\"bond-2\" d=\"M 213.823,257.898 L 252.286,235.796\" style=\"fill:none;fill-rule:evenodd;stroke:#000000;stroke-width:2px;stroke-linecap:butt;stroke-linejoin:miter;stroke-opacity:1\"/>\n",
       "<path class=\"bond-3\" d=\"M 252.286,235.796 L 252.375,191.433\" style=\"fill:none;fill-rule:evenodd;stroke:#000000;stroke-width:2px;stroke-linecap:butt;stroke-linejoin:miter;stroke-opacity:1\"/>\n",
       "<path class=\"bond-3\" d=\"M 244.314,229.125 L 244.376,198.071\" style=\"fill:none;fill-rule:evenodd;stroke:#000000;stroke-width:2px;stroke-linecap:butt;stroke-linejoin:miter;stroke-opacity:1\"/>\n",
       "<path class=\"bond-4\" d=\"M 252.375,191.433 L 214.001,169.171\" style=\"fill:none;fill-rule:evenodd;stroke:#000000;stroke-width:2px;stroke-linecap:butt;stroke-linejoin:miter;stroke-opacity:1\"/>\n",
       "<path class=\"bond-5\" d=\"M 214.001,169.171 L 214.034,152.54\" style=\"fill:none;fill-rule:evenodd;stroke:#000000;stroke-width:2px;stroke-linecap:butt;stroke-linejoin:miter;stroke-opacity:1\"/>\n",
       "<path class=\"bond-5\" d=\"M 214.034,152.54 L 214.067,135.908\" style=\"fill:none;fill-rule:evenodd;stroke:#FF0000;stroke-width:2px;stroke-linecap:butt;stroke-linejoin:miter;stroke-opacity:1\"/>\n",
       "<path class=\"bond-12\" d=\"M 214.001,169.171 L 175.538,191.282\" style=\"fill:none;fill-rule:evenodd;stroke:#000000;stroke-width:2px;stroke-linecap:butt;stroke-linejoin:miter;stroke-opacity:1\"/>\n",
       "<path class=\"bond-12\" d=\"M 212.211,179.411 L 185.287,194.888\" style=\"fill:none;fill-rule:evenodd;stroke:#000000;stroke-width:2px;stroke-linecap:butt;stroke-linejoin:miter;stroke-opacity:1\"/>\n",
       "<path class=\"bond-6\" d=\"M 224.448,118.864 L 238.505,110.785\" style=\"fill:none;fill-rule:evenodd;stroke:#FF0000;stroke-width:2px;stroke-linecap:butt;stroke-linejoin:miter;stroke-opacity:1\"/>\n",
       "<path class=\"bond-6\" d=\"M 238.505,110.785 L 252.561,102.706\" style=\"fill:none;fill-rule:evenodd;stroke:#000000;stroke-width:2px;stroke-linecap:butt;stroke-linejoin:miter;stroke-opacity:1\"/>\n",
       "<path class=\"bond-7\" d=\"M 252.561,102.706 L 260.426,116.393\" style=\"fill:none;fill-rule:evenodd;stroke:#000000;stroke-width:2px;stroke-linecap:butt;stroke-linejoin:miter;stroke-opacity:1\"/>\n",
       "<path class=\"bond-7\" d=\"M 260.426,116.393 L 268.29,130.079\" style=\"fill:none;fill-rule:evenodd;stroke:#33CCCC;stroke-width:2px;stroke-linecap:butt;stroke-linejoin:miter;stroke-opacity:1\"/>\n",
       "<path class=\"bond-8\" d=\"M 252.561,102.706 L 270.671,102.743\" style=\"fill:none;fill-rule:evenodd;stroke:#000000;stroke-width:2px;stroke-linecap:butt;stroke-linejoin:miter;stroke-opacity:1\"/>\n",
       "<path class=\"bond-8\" d=\"M 270.671,102.743 L 288.78,102.779\" style=\"fill:none;fill-rule:evenodd;stroke:#33CCCC;stroke-width:2px;stroke-linecap:butt;stroke-linejoin:miter;stroke-opacity:1\"/>\n",
       "<path class=\"bond-9\" d=\"M 252.561,102.706 L 252.65,58.3433\" style=\"fill:none;fill-rule:evenodd;stroke:#000000;stroke-width:2px;stroke-linecap:butt;stroke-linejoin:miter;stroke-opacity:1\"/>\n",
       "<path class=\"bond-10\" d=\"M 252.65,58.3433 L 267.814,49.6298\" style=\"fill:none;fill-rule:evenodd;stroke:#000000;stroke-width:2px;stroke-linecap:butt;stroke-linejoin:miter;stroke-opacity:1\"/>\n",
       "<path class=\"bond-10\" d=\"M 267.814,49.6298 L 282.978,40.9162\" style=\"fill:none;fill-rule:evenodd;stroke:#33CCCC;stroke-width:2px;stroke-linecap:butt;stroke-linejoin:miter;stroke-opacity:1\"/>\n",
       "<path class=\"bond-11\" d=\"M 252.65,58.3433 L 237.53,49.5757\" style=\"fill:none;fill-rule:evenodd;stroke:#000000;stroke-width:2px;stroke-linecap:butt;stroke-linejoin:miter;stroke-opacity:1\"/>\n",
       "<path class=\"bond-11\" d=\"M 237.53,49.5757 L 222.411,40.8082\" style=\"fill:none;fill-rule:evenodd;stroke:#33CCCC;stroke-width:2px;stroke-linecap:butt;stroke-linejoin:miter;stroke-opacity:1\"/>\n",
       "<text dominant-baseline=\"central\" style=\"font-size:22px;font-style:normal;font-weight:normal;fill-opacity:1;stroke:none;font-family:sans-serif;fill:#0000FF\" text-anchor=\"end\" x=\"144.159\" y=\"261.407\"><tspan>H</tspan><tspan style=\"baseline-shift:sub;font-size:16.5px;\">2</tspan><tspan>N</tspan></text>\n",
       "<text dominant-baseline=\"central\" style=\"font-size:22px;font-style:normal;font-weight:normal;fill-opacity:1;stroke:none;font-family:sans-serif;fill:#FF0000\" text-anchor=\"end\" x=\"222.23\" y=\"128.144\"><tspan>O</tspan></text>\n",
       "<text dominant-baseline=\"central\" style=\"font-size:22px;font-style:normal;font-weight:normal;fill-opacity:1;stroke:none;font-family:sans-serif;fill:#33CCCC\" text-anchor=\"start\" x=\"268.746\" y=\"144.497\"><tspan>F</tspan></text>\n",
       "<text dominant-baseline=\"central\" style=\"font-size:22px;font-style:normal;font-weight:normal;fill-opacity:1;stroke:none;font-family:sans-serif;fill:#33CCCC\" text-anchor=\"start\" x=\"290.999\" y=\"106.122\"><tspan>F</tspan></text>\n",
       "<text dominant-baseline=\"central\" style=\"font-size:22px;font-style:normal;font-weight:normal;fill-opacity:1;stroke:none;font-family:sans-serif;fill:#33CCCC\" text-anchor=\"start\" x=\"285.196\" y=\"39.5689\"><tspan>F</tspan></text>\n",
       "<text dominant-baseline=\"central\" style=\"font-size:22px;font-style:normal;font-weight:normal;fill-opacity:1;stroke:none;font-family:sans-serif;fill:#33CCCC\" text-anchor=\"end\" x=\"220.193\" y=\"39.418\"><tspan>F</tspan></text>\n",
       "</svg>"
      ],
      "text/plain": [
       "<IPython.core.display.SVG object>"
      ]
     },
     "execution_count": 207,
     "metadata": {},
     "output_type": "execute_result"
    }
   ],
   "source": [
    "SVG(svg)"
   ]
  },
  {
   "cell_type": "code",
   "execution_count": null,
   "metadata": {},
   "outputs": [],
   "source": []
  },
  {
   "cell_type": "code",
   "execution_count": null,
   "metadata": {},
   "outputs": [],
   "source": []
  },
  {
   "cell_type": "code",
   "execution_count": 98,
   "metadata": {},
   "outputs": [
    {
     "data": {
      "image/png": "[encoded data removed]",
      "image/svg+xml": [
       "<?xml version='1.0' encoding='iso-8859-1'?>\n",
       "<svg version='1.1' baseProfile='full'\n",
       "              xmlns='http://www.w3.org/2000/svg'\n",
       "                      xmlns:rdkit='http://www.rdkit.org/xml'\n",
       "                      xmlns:xlink='http://www.w3.org/1999/xlink'\n",
       "                  xml:space='preserve'\n",
       "width='450px' height='150px' viewBox='0 0 450 150'>\n",
       "<!-- END OF HEADER -->\n",
       "<rect style='opacity:1.0;fill:#FFFFFF;stroke:none' width='450' height='150' x='0' y='0'> </rect>\n",
       "<path class='bond-0' d='M 270.172,17.4688 L 265.69,28.1046' style='fill:none;fill-rule:evenodd;stroke:#FF0000;stroke-width:2px;stroke-linecap:butt;stroke-linejoin:miter;stroke-opacity:1' />\n",
       "<path class='bond-0' d='M 265.69,28.1046 L 261.207,38.7403' style='fill:none;fill-rule:evenodd;stroke:#000000;stroke-width:2px;stroke-linecap:butt;stroke-linejoin:miter;stroke-opacity:1' />\n",
       "<path class='bond-0' d='M 276.838,20.278 L 272.355,30.9138' style='fill:none;fill-rule:evenodd;stroke:#FF0000;stroke-width:2px;stroke-linecap:butt;stroke-linejoin:miter;stroke-opacity:1' />\n",
       "<path class='bond-0' d='M 272.355,30.9138 L 267.873,41.5495' style='fill:none;fill-rule:evenodd;stroke:#000000;stroke-width:2px;stroke-linecap:butt;stroke-linejoin:miter;stroke-opacity:1' />\n",
       "<path class='bond-1' d='M 250.74,47.5842 L 241.04,48.8005' style='fill:none;fill-rule:evenodd;stroke:#000000;stroke-width:2px;stroke-linecap:butt;stroke-linejoin:miter;stroke-opacity:1' />\n",
       "<path class='bond-1' d='M 241.04,48.8005 L 231.339,50.0168' style='fill:none;fill-rule:evenodd;stroke:#0000FF;stroke-width:2px;stroke-linecap:butt;stroke-linejoin:miter;stroke-opacity:1' />\n",
       "<path class='bond-16' d='M 266.566,52.2002 L 279.272,68.9724' style='fill:none;fill-rule:evenodd;stroke:#000000;stroke-width:2px;stroke-linecap:butt;stroke-linejoin:miter;stroke-opacity:1' />\n",
       "<path class='bond-2' d='M 223.574,56.6994 L 219.092,67.3352' style='fill:none;fill-rule:evenodd;stroke:#0000FF;stroke-width:2px;stroke-linecap:butt;stroke-linejoin:miter;stroke-opacity:1' />\n",
       "<path class='bond-2' d='M 219.092,67.3352 L 214.609,77.9709' style='fill:none;fill-rule:evenodd;stroke:#000000;stroke-width:2px;stroke-linecap:butt;stroke-linejoin:miter;stroke-opacity:1' />\n",
       "<path class='bond-3' d='M 200.81,85.4102 L 187.443,87.0861' style='fill:none;fill-rule:evenodd;stroke:#000000;stroke-width:2px;stroke-linecap:butt;stroke-linejoin:miter;stroke-opacity:1' />\n",
       "<path class='bond-9' d='M 216.635,90.0262 L 222.988,98.4123' style='fill:none;fill-rule:evenodd;stroke:#000000;stroke-width:2px;stroke-linecap:butt;stroke-linejoin:miter;stroke-opacity:1' />\n",
       "<path class='bond-9' d='M 222.988,98.4123 L 229.341,106.798' style='fill:none;fill-rule:evenodd;stroke:#0000FF;stroke-width:2px;stroke-linecap:butt;stroke-linejoin:miter;stroke-opacity:1' />\n",
       "<path class='bond-9' d='M 224.307,88.1742 L 228.754,94.0445' style='fill:none;fill-rule:evenodd;stroke:#000000;stroke-width:2px;stroke-linecap:butt;stroke-linejoin:miter;stroke-opacity:1' />\n",
       "<path class='bond-9' d='M 228.754,94.0445 L 233.201,99.9148' style='fill:none;fill-rule:evenodd;stroke:#0000FF;stroke-width:2px;stroke-linecap:butt;stroke-linejoin:miter;stroke-opacity:1' />\n",
       "<path class='bond-4' d='M 171.618,82.4702 L 158.912,65.698' style='fill:none;fill-rule:evenodd;stroke:#000000;stroke-width:2px;stroke-linecap:butt;stroke-linejoin:miter;stroke-opacity:1' />\n",
       "<path class='bond-4' d='M 163.946,84.3221 L 155.052,72.5816' style='fill:none;fill-rule:evenodd;stroke:#000000;stroke-width:2px;stroke-linecap:butt;stroke-linejoin:miter;stroke-opacity:1' />\n",
       "<path class='bond-17' d='M 173.644,94.5254 L 164.679,115.797' style='fill:none;fill-rule:evenodd;stroke:#000000;stroke-width:2px;stroke-linecap:butt;stroke-linejoin:miter;stroke-opacity:1' />\n",
       "<path class='bond-5' d='M 143.086,61.082 L 129.72,62.7579' style='fill:none;fill-rule:evenodd;stroke:#000000;stroke-width:2px;stroke-linecap:butt;stroke-linejoin:miter;stroke-opacity:1' />\n",
       "<path class='bond-6' d='M 115.92,70.1972 L 111.438,80.833' style='fill:none;fill-rule:evenodd;stroke:#000000;stroke-width:2px;stroke-linecap:butt;stroke-linejoin:miter;stroke-opacity:1' />\n",
       "<path class='bond-6' d='M 111.438,80.833 L 106.955,91.4687' style='fill:none;fill-rule:evenodd;stroke:#0000FF;stroke-width:2px;stroke-linecap:butt;stroke-linejoin:miter;stroke-opacity:1' />\n",
       "<path class='bond-6' d='M 121.241,76.1971 L 118.103,83.6422' style='fill:none;fill-rule:evenodd;stroke:#000000;stroke-width:2px;stroke-linecap:butt;stroke-linejoin:miter;stroke-opacity:1' />\n",
       "<path class='bond-6' d='M 118.103,83.6422 L 114.965,91.0872' style='fill:none;fill-rule:evenodd;stroke:#0000FF;stroke-width:2px;stroke-linecap:butt;stroke-linejoin:miter;stroke-opacity:1' />\n",
       "<path class='bond-7' d='M 108.981,103.524 L 115.334,111.91' style='fill:none;fill-rule:evenodd;stroke:#0000FF;stroke-width:2px;stroke-linecap:butt;stroke-linejoin:miter;stroke-opacity:1' />\n",
       "<path class='bond-7' d='M 115.334,111.91 L 121.687,120.296' style='fill:none;fill-rule:evenodd;stroke:#000000;stroke-width:2px;stroke-linecap:butt;stroke-linejoin:miter;stroke-opacity:1' />\n",
       "<path class='bond-8' d='M 137.513,124.912 L 150.879,123.236' style='fill:none;fill-rule:evenodd;stroke:#000000;stroke-width:2px;stroke-linecap:butt;stroke-linejoin:miter;stroke-opacity:1' />\n",
       "<path class='bond-8' d='M 138.618,117.484 L 147.974,116.311' style='fill:none;fill-rule:evenodd;stroke:#000000;stroke-width:2px;stroke-linecap:butt;stroke-linejoin:miter;stroke-opacity:1' />\n",
       "<path class='bond-10' d='M 249.19,110.91 L 251.85,110.576' style='fill:none;fill-rule:evenodd;stroke:#0000FF;stroke-width:2px;stroke-linecap:butt;stroke-linejoin:miter;stroke-opacity:1' />\n",
       "<path class='bond-10' d='M 251.85,110.576 L 254.51,110.243' style='fill:none;fill-rule:evenodd;stroke:#000000;stroke-width:2px;stroke-linecap:butt;stroke-linejoin:miter;stroke-opacity:1' />\n",
       "<path class='bond-11' d='M 274.359,114.354 L 287.065,131.127' style='fill:none;fill-rule:evenodd;stroke:#000000;stroke-width:2px;stroke-linecap:butt;stroke-linejoin:miter;stroke-opacity:1' />\n",
       "<path class='bond-11' d='M 282.03,112.502 L 290.925,124.243' style='fill:none;fill-rule:evenodd;stroke:#000000;stroke-width:2px;stroke-linecap:butt;stroke-linejoin:miter;stroke-opacity:1' />\n",
       "<path class='bond-18' d='M 272.333,102.299 L 281.298,81.0276' style='fill:none;fill-rule:evenodd;stroke:#000000;stroke-width:2px;stroke-linecap:butt;stroke-linejoin:miter;stroke-opacity:1' />\n",
       "<path class='bond-12' d='M 306.914,135.238 L 312.234,134.571' style='fill:none;fill-rule:evenodd;stroke:#000000;stroke-width:2px;stroke-linecap:butt;stroke-linejoin:miter;stroke-opacity:1' />\n",
       "<path class='bond-13' d='M 330.057,126.627 L 339.022,105.356' style='fill:none;fill-rule:evenodd;stroke:#000000;stroke-width:2px;stroke-linecap:butt;stroke-linejoin:miter;stroke-opacity:1' />\n",
       "<path class='bond-13' d='M 324.736,120.627 L 331.012,105.737' style='fill:none;fill-rule:evenodd;stroke:#000000;stroke-width:2px;stroke-linecap:butt;stroke-linejoin:miter;stroke-opacity:1' />\n",
       "<path class='bond-14' d='M 336.996,93.3006 L 324.29,76.5283' style='fill:none;fill-rule:evenodd;stroke:#000000;stroke-width:2px;stroke-linecap:butt;stroke-linejoin:miter;stroke-opacity:1' />\n",
       "<path class='bond-15' d='M 304.441,72.4169 L 299.121,73.0839' style='fill:none;fill-rule:evenodd;stroke:#000000;stroke-width:2px;stroke-linecap:butt;stroke-linejoin:miter;stroke-opacity:1' />\n",
       "<path class='bond-15' d='M 304.543,79.6939 L 300.819,80.1608' style='fill:none;fill-rule:evenodd;stroke:#000000;stroke-width:2px;stroke-linecap:butt;stroke-linejoin:miter;stroke-opacity:1' />\n",
       "<text dominant-baseline=\"central\" text-anchor=\"start\" x='265.587' y='14.6541' style='font-size:12px;font-style:normal;font-weight:normal;fill-opacity:1;stroke:none;font-family:sans-serif;fill:#FF0000' ><tspan>O:0</tspan></text>\n",
       "<text dominant-baseline=\"central\" text-anchor=\"middle\" x='262' y='47.9808' style='font-size:12px;font-style:normal;font-weight:normal;fill-opacity:1;stroke:none;font-family:sans-serif;fill:#000000' ><tspan>C:1</tspan></text>\n",
       "<text dominant-baseline=\"central\" text-anchor=\"end\" x='236.169' y='52.4801' style='font-size:12px;font-style:normal;font-weight:normal;fill-opacity:1;stroke:none;font-family:sans-serif;fill:#0000FF' ><tspan>HN:2</tspan></text>\n",
       "<text dominant-baseline=\"central\" text-anchor=\"middle\" x='212.069' y='85.8068' style='font-size:12px;font-style:normal;font-weight:normal;fill-opacity:1;stroke:none;font-family:sans-serif;fill:#000000' ><tspan>C:3</tspan></text>\n",
       "<text dominant-baseline=\"central\" text-anchor=\"middle\" x='176.184' y='90.3061' style='font-size:12px;font-style:normal;font-weight:normal;fill-opacity:1;stroke:none;font-family:sans-serif;fill:#000000' ><tspan>C:4</tspan></text>\n",
       "<text dominant-baseline=\"central\" text-anchor=\"start\" x='144.292' y='61.4786' style='font-size:12px;font-style:normal;font-weight:normal;fill-opacity:1;stroke:none;font-family:sans-serif;fill:#000000' ><tspan>C:5</tspan></text>\n",
       "<text dominant-baseline=\"central\" text-anchor=\"end\" x='128.514' y='65.9779' style='font-size:12px;font-style:normal;font-weight:normal;fill-opacity:1;stroke:none;font-family:sans-serif;fill:#000000' ><tspan>C:6</tspan></text>\n",
       "<text dominant-baseline=\"central\" text-anchor=\"end\" x='114.468' y='99.3046' style='font-size:12px;font-style:normal;font-weight:normal;fill-opacity:1;stroke:none;font-family:sans-serif;fill:#0000FF' ><tspan>N:7</tspan></text>\n",
       "<text dominant-baseline=\"central\" text-anchor=\"end\" x='136.307' y='128.132' style='font-size:12px;font-style:normal;font-weight:normal;fill-opacity:1;stroke:none;font-family:sans-serif;fill:#000000' ><tspan>C:8</tspan></text>\n",
       "<text dominant-baseline=\"central\" text-anchor=\"start\" x='152.085' y='123.633' style='font-size:12px;font-style:normal;font-weight:normal;fill-opacity:1;stroke:none;font-family:sans-serif;fill:#000000' ><tspan>C:9</tspan></text>\n",
       "<text dominant-baseline=\"central\" text-anchor=\"end\" x='247.985' y='114.634' style='font-size:12px;font-style:normal;font-weight:normal;fill-opacity:1;stroke:none;font-family:sans-serif;fill:#0000FF' ><tspan>N:10</tspan></text>\n",
       "<text dominant-baseline=\"central\" text-anchor=\"middle\" x='269.793' y='110.135' style='font-size:12px;font-style:normal;font-weight:normal;fill-opacity:1;stroke:none;font-family:sans-serif;fill:#000000' ><tspan>C:11</tspan></text>\n",
       "<text dominant-baseline=\"central\" text-anchor=\"end\" x='305.708' y='138.962' style='font-size:12px;font-style:normal;font-weight:normal;fill-opacity:1;stroke:none;font-family:sans-serif;fill:#000000' ><tspan>C:12</tspan></text>\n",
       "<text dominant-baseline=\"central\" text-anchor=\"start\" x='313.439' y='134.463' style='font-size:12px;font-style:normal;font-weight:normal;fill-opacity:1;stroke:none;font-family:sans-serif;fill:#000000' ><tspan>C:13</tspan></text>\n",
       "<text dominant-baseline=\"central\" text-anchor=\"start\" x='327.485' y='101.136' style='font-size:12px;font-style:normal;font-weight:normal;fill-opacity:1;stroke:none;font-family:sans-serif;fill:#000000' ><tspan>C:14</tspan></text>\n",
       "<text dominant-baseline=\"central\" text-anchor=\"start\" x='305.646' y='72.309' style='font-size:12px;font-style:normal;font-weight:normal;fill-opacity:1;stroke:none;font-family:sans-serif;fill:#000000' ><tspan>C:15</tspan></text>\n",
       "<text dominant-baseline=\"central\" text-anchor=\"middle\" x='283.838' y='76.8083' style='font-size:12px;font-style:normal;font-weight:normal;fill-opacity:1;stroke:none;font-family:sans-serif;fill:#000000' ><tspan>C:16</tspan></text>\n",
       "</svg>\n"
      ],
      "text/plain": [
       "<rdkit.Chem.rdchem.Mol at 0x7f969c44e9e0>"
      ]
     },
     "execution_count": 98,
     "metadata": {},
     "output_type": "execute_result"
    }
   ],
   "source": [
    "mol = Chem.MolFromSmiles('O=c1[nH]c(-c2ccncc2)nc2ccccc12')\n",
    "mol_with_atom_index(mol)"
   ]
  },
  {
   "cell_type": "code",
   "execution_count": null,
   "metadata": {},
   "outputs": [],
   "source": []
  },
  {
   "cell_type": "code",
   "execution_count": null,
   "metadata": {},
   "outputs": [],
   "source": []
  },
  {
   "cell_type": "code",
   "execution_count": 174,
   "metadata": {},
   "outputs": [],
   "source": [
    "basic_smiles_lis = []\n",
    "with open('./Search_Similar_Molecules/refined_basic_smiles.txt') as f:\n",
    "    for line in f.readlines():\n",
    "        line = line.replace('\\n','').split('\\t')\n",
    "        basic_smiles_lis.append(line)"
   ]
  },
  {
   "cell_type": "code",
   "execution_count": 175,
   "metadata": {},
   "outputs": [
    {
     "name": "stdout",
     "output_type": "stream",
     "text": [
      "['COc1ccc([C@@]2(c3cccc(-c4cncnc4)c3)N=C(C)C(N)=N2)cc1C', '4.73', '24', 'basic']\n",
      "7447\n"
     ]
    }
   ],
   "source": [
    "count = 0\n",
    "for i in basic_smiles_lis:\n",
    "    #print(i[0])\n",
    "    if 'COc1ccc([C@@]2(c3cccc(-c4cncnc4)c3)N=C(C)C(N)=N2)cc1C' == i[0]:\n",
    "        print(i)\n",
    "        print(count)\n",
    "    count += 1"
   ]
  },
  {
   "cell_type": "code",
   "execution_count": 176,
   "metadata": {},
   "outputs": [
    {
     "name": "stdout",
     "output_type": "stream",
     "text": [
      "tensor([4900, 5497, 7189, 4848])\n"
     ]
    }
   ],
   "source": [
    "\n",
    "basic_smiles_lis = []\n",
    "with open('./Search_Similar_Molecules/refined_basic_smiles.txt') as f:\n",
    "    for line in f.readlines():\n",
    "        line = line.replace('\\n','').split('\\t')\n",
    "        basic_smiles_lis.append(line)\n",
    "\n",
    "all_basic_atom_feature_jz = torch.load('./Search_Similar_Molecules/refined_basic_atom_feature_zl.pt')\n",
    "all_basic_atom_feature_jz.shape\n",
    "\n",
    "d_jz = torch.sum((all_basic_atom_feature_jz - most_basic_atom_feature) ** 2,axis = 1)\n",
    "\n",
    "selected_basic_smiles_lis = []\n",
    "print(d_jz.argsort()[:4])\n",
    "for id_ in d_jz.argsort()[:4].tolist():\n",
    "    if d_jz[id_].item() < 0.06:\n",
    "        selected_basic_smiles_lis.append(basic_smiles_lis[id_])\n",
    "\n"
   ]
  },
  {
   "cell_type": "code",
   "execution_count": 167,
   "metadata": {},
   "outputs": [
    {
     "data": {
      "text/plain": [
       "tensor(11.3124)"
      ]
     },
     "execution_count": 167,
     "metadata": {},
     "output_type": "execute_result"
    }
   ],
   "source": [
    "d_jz[7447]"
   ]
  },
  {
   "cell_type": "code",
   "execution_count": null,
   "metadata": {},
   "outputs": [],
   "source": []
  },
  {
   "cell_type": "code",
   "execution_count": null,
   "metadata": {},
   "outputs": [],
   "source": []
  },
  {
   "cell_type": "code",
   "execution_count": 157,
   "metadata": {},
   "outputs": [
    {
     "name": "stdout",
     "output_type": "stream",
     "text": [
      "tensor([4900, 5497, 7189, 4848])\n"
     ]
    },
    {
     "data": {
      "text/plain": [
       "[]"
      ]
     },
     "execution_count": 157,
     "metadata": {},
     "output_type": "execute_result"
    }
   ],
   "source": [
    "get_selected_basic_smiles_lis(most_basic_atom_feature)"
   ]
  },
  {
   "cell_type": "code",
   "execution_count": null,
   "metadata": {},
   "outputs": [],
   "source": []
  },
  {
   "cell_type": "code",
   "execution_count": null,
   "metadata": {},
   "outputs": [],
   "source": []
  },
  {
   "cell_type": "code",
   "execution_count": null,
   "metadata": {},
   "outputs": [],
   "source": []
  },
  {
   "cell_type": "code",
   "execution_count": null,
   "metadata": {},
   "outputs": [],
   "source": []
  },
  {
   "cell_type": "code",
   "execution_count": 14,
   "metadata": {},
   "outputs": [
    {
     "data": {
      "text/plain": [
       "['O=C(O)[C@H]1CCC[C@H]1C(=O)O',\n",
       " 'O=C(O)C1CCCC1C(=O)O',\n",
       " 'O=C(O)[C@H]1CCC[C@@H]1C(=O)O']"
      ]
     },
     "execution_count": 14,
     "metadata": {},
     "output_type": "execute_result"
    }
   ],
   "source": [
    "smiles_clusters[100]"
   ]
  },
  {
   "cell_type": "code",
   "execution_count": 14,
   "metadata": {},
   "outputs": [
    {
     "name": "stdout",
     "output_type": "stream",
     "text": [
      "7132\n",
      "6059\n",
      "7061\n"
     ]
    }
   ],
   "source": [
    "for i in clusters[100]:\n",
    "    print(i)"
   ]
  },
  {
   "cell_type": "code",
   "execution_count": 11,
   "metadata": {},
   "outputs": [
    {
     "name": "stdout",
     "output_type": "stream",
     "text": [
      "O=C(O)[C@H]1CCC[C@H]1C(=O)O\n"
     ]
    },
    {
     "data": {
      "image/png": "[encoded data removed]",
      "text/plain": [
       "<rdkit.Chem.rdchem.Mol at 0x7f082ad7d2b0>"
      ]
     },
     "execution_count": 11,
     "metadata": {},
     "output_type": "execute_result"
    }
   ],
   "source": [
    "print(smiles_lis[7132])\n",
    "Chem.MolFromSmiles(smiles_lis[7132])"
   ]
  },
  {
   "cell_type": "code",
   "execution_count": 12,
   "metadata": {},
   "outputs": [
    {
     "name": "stdout",
     "output_type": "stream",
     "text": [
      "O=C(O)C1CCCC1C(=O)O\n"
     ]
    },
    {
     "data": {
      "image/png": "[encoded data removed]",
      "text/plain": [
       "<rdkit.Chem.rdchem.Mol at 0x7f082ad7d670>"
      ]
     },
     "execution_count": 12,
     "metadata": {},
     "output_type": "execute_result"
    }
   ],
   "source": [
    "print(smiles_lis[6059])\n",
    "Chem.MolFromSmiles(smiles_lis[6059])"
   ]
  },
  {
   "cell_type": "code",
   "execution_count": 13,
   "metadata": {},
   "outputs": [
    {
     "name": "stdout",
     "output_type": "stream",
     "text": [
      "O=C(O)[C@H]1CCC[C@@H]1C(=O)O\n"
     ]
    },
    {
     "data": {
      "image/png": "[encoded data removed]",
      "text/plain": [
       "<rdkit.Chem.rdchem.Mol at 0x7f082ad7d7b0>"
      ]
     },
     "execution_count": 13,
     "metadata": {},
     "output_type": "execute_result"
    }
   ],
   "source": [
    "print(smiles_lis[7061])\n",
    "Chem.MolFromSmiles(smiles_lis[7061])"
   ]
  },
  {
   "cell_type": "code",
   "execution_count": 45,
   "metadata": {},
   "outputs": [
    {
     "name": "stdout",
     "output_type": "stream",
     "text": [
      "O=C(O)[C@@H]1C[C@@H]2CC[C@H]1C2\n"
     ]
    },
    {
     "data": {
      "image/png": "[encoded data removed]",
      "text/plain": [
       "<rdkit.Chem.rdchem.Mol at 0x7f7fc5b491c0>"
      ]
     },
     "execution_count": 45,
     "metadata": {},
     "output_type": "execute_result"
    }
   ],
   "source": [
    "print(smiles_lis[7455])\n",
    "Chem.MolFromSmiles(smiles_lis[7455])"
   ]
  },
  {
   "cell_type": "code",
   "execution_count": null,
   "metadata": {},
   "outputs": [],
   "source": []
  },
  {
   "cell_type": "code",
   "execution_count": null,
   "metadata": {},
   "outputs": [],
   "source": []
  },
  {
   "cell_type": "code",
   "execution_count": null,
   "metadata": {},
   "outputs": [],
   "source": []
  },
  {
   "cell_type": "code",
   "execution_count": null,
   "metadata": {},
   "outputs": [],
   "source": []
  },
  {
   "cell_type": "markdown",
   "metadata": {},
   "source": [
    "# get acidic dataset"
   ]
  },
  {
   "cell_type": "code",
   "execution_count": 4,
   "metadata": {},
   "outputs": [],
   "source": [
    "batch_size = 1024\n",
    "epoch_num = 1000\n",
    "layer_num = 6\n",
    "learning_rate = 0.0003\n",
    "weight_decay = 0.0003"
   ]
  },
  {
   "cell_type": "code",
   "execution_count": 1,
   "metadata": {},
   "outputs": [],
   "source": [
    "model = Pka_acidic(node_feat_size = 74,\n",
    "                   edge_feat_size = 12,\n",
    "                   output_size = 1,\n",
    "                   num_layers= layer_num,\n",
    "                   graph_feat_size=200,\n",
    "                   dropout=0.2)\n",
    "\n",
    "model.load_state_dict(torch.load('./Trained_model/site_acidic_new_2.pkl',map_location='cuda:0'))\n",
    "model = model.to('cpu')"
   ]
  },
  {
   "cell_type": "code",
   "execution_count": null,
   "metadata": {},
   "outputs": [],
   "source": [
    "# 先去重，去完后自己换就ok了"
   ]
  }
 ],
 "metadata": {
  "kernelspec": {
   "display_name": "Python 3",
   "language": "python",
   "name": "python3"
  },
  "language_info": {
   "codemirror_mode": {
    "name": "ipython",
    "version": 3
   },
   "file_extension": ".py",
   "mimetype": "text/x-python",
   "name": "python",
   "nbconvert_exporter": "python",
   "pygments_lexer": "ipython3",
   "version": "3.10.11"
  }
 },
 "nbformat": 4,
 "nbformat_minor": 4
}
