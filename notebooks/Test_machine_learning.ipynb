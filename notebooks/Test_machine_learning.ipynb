{
 "cells": [
  {
   "cell_type": "code",
   "execution_count": 3,
   "metadata": {},
   "outputs": [],
   "source": [
    "import numpy as np\n",
    "import pandas as pd\n",
    "import pickle\n",
    "from sklearn.metrics import r2_score,mean_squared_error,mean_absolute_error"
   ]
  },
  {
   "cell_type": "code",
   "execution_count": 2,
   "metadata": {},
   "outputs": [
    {
     "name": "stdout",
     "output_type": "stream",
     "text": [
      "0.7180528008050802\n",
      "1.2747669540218887\n",
      "0.8655747153460084\n",
      "\n",
      "0.7225474531042596\n",
      "1.301754065374355\n",
      "0.8598228400424908\n",
      "\n",
      "0.7129630746816762\n",
      "1.2927378694368055\n",
      "0.8617579027244684\n",
      "\n"
     ]
    }
   ],
   "source": [
    "for i in range(1,4):\n",
    "    with open(\"./Machine_learning_model/acidic_RF_{}.pickle\".format(i), 'rb') as fr:\n",
    "        model = pickle.load(fr)\n",
    "\n",
    "    df_test = pd.read_csv('./Dataset/acidic_test_0.15_FP.csv',header = None)\n",
    "    test_data_label = np.array(df_test)\n",
    "    X_test, y_test = test_data_label[:,1:],test_data_label[:,0]\n",
    "\n",
    "    y_pred = model.predict(X_test)\n",
    "    print(mean_absolute_error(y_test, y_pred))\n",
    "    print(mean_squared_error(y_test, y_pred)**0.5)\n",
    "    print(r2_score(y_test, y_pred))\n",
    "    print('')"
   ]
  },
  {
   "cell_type": "code",
   "execution_count": 3,
   "metadata": {},
   "outputs": [
    {
     "name": "stdout",
     "output_type": "stream",
     "text": [
      "0.6365571816432178\n",
      "1.1071980288624135\n",
      "0.8985925226106974\n",
      "\n",
      "0.6578560298301941\n",
      "1.1266766895782805\n",
      "0.8949930632252283\n",
      "\n",
      "0.646156457563291\n",
      "1.0652443007346302\n",
      "0.9061319469509963\n",
      "\n"
     ]
    }
   ],
   "source": [
    "for i in range(1,4):\n",
    "    with open(\"./Machine_learning_model/acidic_XGBoost_{}.pickle\".format(i), 'rb') as fr:\n",
    "        model = pickle.load(fr)\n",
    "\n",
    "    df_test = pd.read_csv('./Dataset/acidic_test_0.15_FP.csv',header = None)\n",
    "    test_data_label = np.array(df_test)\n",
    "    X_test, y_test = test_data_label[:,1:],test_data_label[:,0]\n",
    "\n",
    "    y_pred = model.predict(X_test)\n",
    "    print(mean_absolute_error(y_test, y_pred))\n",
    "    print(mean_squared_error(y_test, y_pred)**0.5)\n",
    "    print(r2_score(y_test, y_pred))\n",
    "    print('')"
   ]
  },
  {
   "cell_type": "code",
   "execution_count": 4,
   "metadata": {},
   "outputs": [
    {
     "name": "stdout",
     "output_type": "stream",
     "text": [
      "0.6633813163238147\n",
      "1.086259869443916\n",
      "0.9023916790449065\n",
      "\n",
      "0.6750120846808126\n",
      "1.0805960879807073\n",
      "0.9034068890791199\n",
      "\n",
      "0.6823699984682632\n",
      "1.1020770946329737\n",
      "0.8995283987436897\n",
      "\n"
     ]
    }
   ],
   "source": [
    "for i in range(1,4):\n",
    "    with open(\"./Machine_learning_model/acidic_MLP_{}.pickle\".format(i), 'rb') as fr:\n",
    "        model = pickle.load(fr)\n",
    "\n",
    "    df_test = pd.read_csv('./Dataset/acidic_test_0.15_FP.csv',header = None)\n",
    "    test_data_label = np.array(df_test)\n",
    "    X_test, y_test = test_data_label[:,1:],test_data_label[:,0]\n",
    "\n",
    "    y_pred = model.predict(X_test)\n",
    "    print(mean_absolute_error(y_test, y_pred))\n",
    "    print(mean_squared_error(y_test, y_pred)**0.5)\n",
    "    print(r2_score(y_test, y_pred))\n",
    "    print('')"
   ]
  },
  {
   "cell_type": "code",
   "execution_count": 5,
   "metadata": {},
   "outputs": [
    {
     "name": "stdout",
     "output_type": "stream",
     "text": [
      "0.7511511713058918\n",
      "1.3419996022756269\n",
      "0.851021311854199\n",
      "\n",
      "0.7511515556112494\n",
      "1.3420013043402577\n",
      "0.851020933953168\n",
      "\n",
      "0.751153291072199\n",
      "1.3420017607445185\n",
      "0.8510208326198954\n",
      "\n"
     ]
    }
   ],
   "source": [
    "for i in range(1,4):\n",
    "    with open(\"./Machine_learning_model/acidic_SVR_{}.pickle\".format(i), 'rb') as fr:\n",
    "        model = pickle.load(fr)\n",
    "\n",
    "    df_test = pd.read_csv('./Dataset/acidic_test_0.15_FP.csv',header = None)\n",
    "    test_data_label = np.array(df_test)\n",
    "    X_test, y_test = test_data_label[:,1:],test_data_label[:,0]\n",
    "\n",
    "    y_pred = model.predict(X_test)\n",
    "    print(mean_absolute_error(y_test, y_pred))\n",
    "    print(mean_squared_error(y_test, y_pred)**0.5)\n",
    "    print(r2_score(y_test, y_pred))\n",
    "    print('')"
   ]
  },
  {
   "cell_type": "code",
   "execution_count": 6,
   "metadata": {},
   "outputs": [
    {
     "name": "stdout",
     "output_type": "stream",
     "text": [
      "0.7175995905942668\n",
      "1.1414826210854454\n",
      "0.8586617465066642\n",
      "\n",
      "0.7115287247270602\n",
      "1.1339964228979307\n",
      "0.8605095478283267\n",
      "\n",
      "0.7201391665863911\n",
      "1.145275365336734\n",
      "0.8577209517763135\n",
      "\n"
     ]
    }
   ],
   "source": [
    "for i in range(1,4):\n",
    "    with open(\"./Machine_learning_model/basic_RF_{}.pickle\".format(i), 'rb') as fr:\n",
    "        model = pickle.load(fr)\n",
    "\n",
    "    df_test = pd.read_csv('./Dataset/basic_test_0.15_FP.csv',header = None)\n",
    "    test_data_label = np.array(df_test)\n",
    "    X_test, y_test = test_data_label[:,1:],test_data_label[:,0]\n",
    "\n",
    "    y_pred = model.predict(X_test)\n",
    "    print(mean_absolute_error(y_test, y_pred))\n",
    "    print(mean_squared_error(y_test, y_pred)**0.5)\n",
    "    print(r2_score(y_test, y_pred))\n",
    "    print('')"
   ]
  },
  {
   "cell_type": "code",
   "execution_count": 7,
   "metadata": {},
   "outputs": [
    {
     "name": "stdout",
     "output_type": "stream",
     "text": [
      "0.6320396966763908\n",
      "1.0331973567541826\n",
      "0.884205565603349\n",
      "\n",
      "0.6311499665421315\n",
      "1.0319570102448734\n",
      "0.8844834196086927\n",
      "\n",
      "0.6325447643858002\n",
      "1.0394610733885348\n",
      "0.8827973117366738\n",
      "\n"
     ]
    }
   ],
   "source": [
    "for i in range(1,4):\n",
    "    with open(\"./Machine_learning_model/basic_XGBoost_{}.pickle\".format(i), 'rb') as fr:\n",
    "        model = pickle.load(fr)\n",
    "\n",
    "    df_test = pd.read_csv('./Dataset/basic_test_0.15_FP.csv',header = None)\n",
    "    test_data_label = np.array(df_test)\n",
    "    X_test, y_test = test_data_label[:,1:],test_data_label[:,0]\n",
    "\n",
    "    y_pred = model.predict(X_test)\n",
    "    print(mean_absolute_error(y_test, y_pred))\n",
    "    print(mean_squared_error(y_test, y_pred)**0.5)\n",
    "    print(r2_score(y_test, y_pred))\n",
    "    print('')"
   ]
  },
  {
   "cell_type": "code",
   "execution_count": 8,
   "metadata": {},
   "outputs": [
    {
     "name": "stdout",
     "output_type": "stream",
     "text": [
      "0.6257972381640062\n",
      "1.0278493970535\n",
      "0.8854011963713033\n",
      "\n",
      "0.6239365242836834\n",
      "1.007902096868391\n",
      "0.8898060349568901\n",
      "\n",
      "0.6322117721213165\n",
      "1.02338181659889\n",
      "0.8863952461012915\n",
      "\n"
     ]
    }
   ],
   "source": [
    "for i in range(1,4):\n",
    "    with open(\"./Machine_learning_model/basic_MLP_{}.pickle\".format(i), 'rb') as fr:\n",
    "        model = pickle.load(fr)\n",
    "\n",
    "    df_test = pd.read_csv('./Dataset/basic_test_0.15_FP.csv',header = None)\n",
    "    test_data_label = np.array(df_test)\n",
    "    X_test, y_test = test_data_label[:,1:],test_data_label[:,0]\n",
    "\n",
    "    y_pred = model.predict(X_test)\n",
    "    print(mean_absolute_error(y_test, y_pred))\n",
    "    print(mean_squared_error(y_test, y_pred)**0.5)\n",
    "    print(r2_score(y_test, y_pred))\n",
    "    print('')"
   ]
  },
  {
   "cell_type": "code",
   "execution_count": 9,
   "metadata": {},
   "outputs": [
    {
     "name": "stdout",
     "output_type": "stream",
     "text": [
      "0.6670543761333243\n",
      "1.0808744926648925\n",
      "0.8732722719089102\n",
      "\n",
      "0.6670470881924825\n",
      "1.080868782400294\n",
      "0.8732736109116395\n",
      "\n",
      "0.6670512012801414\n",
      "1.0808691974100892\n",
      "0.8732735135960287\n",
      "\n"
     ]
    }
   ],
   "source": [
    "for i in range(1,4):\n",
    "    with open(\"./Machine_learning_model/basic_SVR_{}.pickle\".format(i), 'rb') as fr:\n",
    "        model = pickle.load(fr)\n",
    "\n",
    "    df_test = pd.read_csv('./Dataset/basic_test_0.15_FP.csv',header = None)\n",
    "    test_data_label = np.array(df_test)\n",
    "    X_test, y_test = test_data_label[:,1:],test_data_label[:,0]\n",
    "\n",
    "    y_pred = model.predict(X_test)\n",
    "    print(mean_absolute_error(y_test, y_pred))\n",
    "    print(mean_squared_error(y_test, y_pred)**0.5)\n",
    "    print(r2_score(y_test, y_pred))\n",
    "    print('')"
   ]
  },
  {
   "cell_type": "code",
   "execution_count": null,
   "metadata": {},
   "outputs": [],
   "source": []
  },
  {
   "cell_type": "code",
   "execution_count": 7,
   "metadata": {},
   "outputs": [
    {
     "name": "stdout",
     "output_type": "stream",
     "text": [
      "0.8489861444993454\n",
      "1.0821017913110809\n",
      "0.27741606131274665\n",
      "\n"
     ]
    }
   ],
   "source": [
    "with open(\"./Machine_learning_model/non_B_XGBoost_6.642855644226074.pickle\".format(i), 'rb') as fr:\n",
    "    model = pickle.load(fr)\n",
    "\n",
    "df_test = pd.read_csv('./Dataset/Phenylboronic_acid_FP(22).csv',header = None)\n",
    "test_data_label = np.array(df_test)\n",
    "X_test, y_test = test_data_label[:,1:],test_data_label[:,0]\n",
    "\n",
    "y_pred = model.predict(X_test)\n",
    "print(mean_absolute_error(y_test, y_pred))\n",
    "print(mean_squared_error(y_test, y_pred)**0.5)\n",
    "print(r2_score(y_test, y_pred))\n",
    "print('')"
   ]
  },
  {
   "cell_type": "code",
   "execution_count": null,
   "metadata": {},
   "outputs": [],
   "source": []
  },
  {
   "cell_type": "code",
   "execution_count": 1,
   "metadata": {},
   "outputs": [
    {
     "ename": "FileNotFoundError",
     "evalue": "[Errno 2] No such file or directory: './Machine_learning_model/non_B_XGBoost_1.pickle'",
     "output_type": "error",
     "traceback": [
      "\u001b[0;31m---------------------------------------------------------------------------\u001b[0m",
      "\u001b[0;31mFileNotFoundError\u001b[0m                         Traceback (most recent call last)",
      "\u001b[0;32m<ipython-input-1-12f7d0a1b1c2>\u001b[0m in \u001b[0;36m<module>\u001b[0;34m\u001b[0m\n\u001b[1;32m      1\u001b[0m \u001b[0;32mfor\u001b[0m \u001b[0mi\u001b[0m \u001b[0;32min\u001b[0m \u001b[0mrange\u001b[0m\u001b[0;34m(\u001b[0m\u001b[0;36m1\u001b[0m\u001b[0;34m,\u001b[0m\u001b[0;36m4\u001b[0m\u001b[0;34m)\u001b[0m\u001b[0;34m:\u001b[0m\u001b[0;34m\u001b[0m\u001b[0;34m\u001b[0m\u001b[0m\n\u001b[0;32m----> 2\u001b[0;31m     \u001b[0;32mwith\u001b[0m \u001b[0mopen\u001b[0m\u001b[0;34m(\u001b[0m\u001b[0;34m\"./Machine_learning_model/non_B_XGBoost_{}.pickle\"\u001b[0m\u001b[0;34m.\u001b[0m\u001b[0mformat\u001b[0m\u001b[0;34m(\u001b[0m\u001b[0mi\u001b[0m\u001b[0;34m)\u001b[0m\u001b[0;34m,\u001b[0m \u001b[0;34m'rb'\u001b[0m\u001b[0;34m)\u001b[0m \u001b[0;32mas\u001b[0m \u001b[0mfr\u001b[0m\u001b[0;34m:\u001b[0m\u001b[0;34m\u001b[0m\u001b[0;34m\u001b[0m\u001b[0m\n\u001b[0m\u001b[1;32m      3\u001b[0m         \u001b[0mmodel\u001b[0m \u001b[0;34m=\u001b[0m \u001b[0mpickle\u001b[0m\u001b[0;34m.\u001b[0m\u001b[0mload\u001b[0m\u001b[0;34m(\u001b[0m\u001b[0mfr\u001b[0m\u001b[0;34m)\u001b[0m\u001b[0;34m\u001b[0m\u001b[0;34m\u001b[0m\u001b[0m\n\u001b[1;32m      4\u001b[0m \u001b[0;34m\u001b[0m\u001b[0m\n\u001b[1;32m      5\u001b[0m     \u001b[0mdf_test\u001b[0m \u001b[0;34m=\u001b[0m \u001b[0mpd\u001b[0m\u001b[0;34m.\u001b[0m\u001b[0mread_csv\u001b[0m\u001b[0;34m(\u001b[0m\u001b[0;34m'./Dataset/Phenylboronic_acid_FP(22).csv'\u001b[0m\u001b[0;34m,\u001b[0m\u001b[0mheader\u001b[0m \u001b[0;34m=\u001b[0m \u001b[0;32mNone\u001b[0m\u001b[0;34m)\u001b[0m\u001b[0;34m\u001b[0m\u001b[0;34m\u001b[0m\u001b[0m\n",
      "\u001b[0;31mFileNotFoundError\u001b[0m: [Errno 2] No such file or directory: './Machine_learning_model/non_B_XGBoost_1.pickle'"
     ]
    }
   ],
   "source": [
    "for i in range(1,4):\n",
    "    with open(\"./Machine_learning_model/non_B_XGBoost_{}.pickle\".format(i), 'rb') as fr:\n",
    "        model = pickle.load(fr)\n",
    "\n",
    "    df_test = pd.read_csv('./Dataset/Phenylboronic_acid_FP(22).csv',header = None)\n",
    "    test_data_label = np.array(df_test)\n",
    "    X_test, y_test = test_data_label[:,1:],test_data_label[:,0]\n",
    "\n",
    "    y_pred = model.predict(X_test)\n",
    "    print(mean_absolute_error(y_test, y_pred))\n",
    "    print(mean_squared_error(y_test, y_pred)**0.5)\n",
    "    print(r2_score(y_test, y_pred))\n",
    "    print('')"
   ]
  },
  {
   "cell_type": "code",
   "execution_count": null,
   "metadata": {},
   "outputs": [],
   "source": []
  }
 ],
 "metadata": {
  "kernelspec": {
   "display_name": "Python 3",
   "language": "python",
   "name": "python3"
  },
  "language_info": {
   "codemirror_mode": {
    "name": "ipython",
    "version": 3
   },
   "file_extension": ".py",
   "mimetype": "text/x-python",
   "name": "python",
   "nbconvert_exporter": "python",
   "pygments_lexer": "ipython3",
   "version": "3.6.10"
  }
 },
 "nbformat": 4,
 "nbformat_minor": 4
}
