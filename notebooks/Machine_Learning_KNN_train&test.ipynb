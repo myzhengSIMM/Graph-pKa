{
 "cells": [
  {
   "cell_type": "code",
   "execution_count": 1,
   "metadata": {},
   "outputs": [],
   "source": [
    "import numpy as np\n",
    "import pandas as pd\n",
    "import pickle\n",
    "from sklearn.svm import SVR\n",
    "from sklearn.neighbors import KNeighborsRegressor\n",
    "from sklearn.ensemble import RandomForestRegressor\n",
    "from sklearn.linear_model import LinearRegression\n",
    "from sklearn.neural_network import MLPRegressor\n",
    "from xgboost.sklearn import XGBRegressor\n",
    "from sklearn.metrics import r2_score,mean_squared_error,mean_absolute_error"
   ]
  },
  {
   "cell_type": "markdown",
   "metadata": {},
   "source": [
    "# basic"
   ]
  },
  {
   "cell_type": "code",
   "execution_count": 2,
   "metadata": {},
   "outputs": [
    {
     "name": "stdout",
     "output_type": "stream",
     "text": [
      "0.7662287026823168\n",
      "0.8141325791054596\n",
      "1.4464865493609995\n",
      "0.764399281954483\n",
      "0.8187302713524508\n",
      "1.452135394020421\n",
      "0.7670751413444581\n",
      "0.812487065099246\n",
      "1.4438654567445646\n",
      "0.7673878651830427\n",
      "0.8115855318525546\n",
      "1.442895867649668\n",
      "0.7712218786323983\n",
      "0.8104814251795729\n",
      "1.4309552448434637\n"
     ]
    }
   ],
   "source": [
    "for i in range(1,6):\n",
    "    \n",
    "    df_train = pd.read_csv('./Dataset/basic_train_0.70_FP.csv',header = None)\n",
    "    train_data_label = np.array(df_train)\n",
    "    np.random.shuffle(train_data_label)\n",
    "    X_train, y_train = train_data_label[:,1:],train_data_label[:,0]\n",
    "    \n",
    "    df_test = pd.read_csv('./Dataset/basic_test_0.15_FP.csv',header = None)\n",
    "    test_data_label = np.array(df_test)\n",
    "    X_test, y_test = test_data_label[:,1:],test_data_label[:,0]\n",
    "    \n",
    "    model = KNeighborsRegressor(n_neighbors = 3, weights = \"distance\", p = 1)\n",
    "    model.fit(X_train, y_train)\n",
    "    y_pred = model.predict(X_test)\n",
    "    print(r2_score(y_test, y_pred))\n",
    "    print(mean_absolute_error(y_test, y_pred))\n",
    "    print(mean_squared_error(y_test, y_pred)**0.5)\n",
    "\n",
    "    file = open(\"./Machine_learning_model/basic_KNN_{}.pickle\".format(i), \"wb+\")\n",
    "    pickle.dump(model, file)\n",
    "    file.close()"
   ]
  },
  {
   "cell_type": "markdown",
   "metadata": {},
   "source": [
    "# Acidic"
   ]
  },
  {
   "cell_type": "code",
   "execution_count": 3,
   "metadata": {},
   "outputs": [
    {
     "name": "stdout",
     "output_type": "stream",
     "text": [
      "0.7334961821547297\n",
      "0.9625196363580235\n",
      "1.7799333850130343\n",
      "0.7349846560562228\n",
      "0.9597047437963244\n",
      "1.774955793874232\n",
      "0.7336800287885994\n",
      "0.9614161118360313\n",
      "1.7793193389950863\n",
      "0.7343203293034692\n",
      "0.9597008172355249\n",
      "1.777179085113884\n",
      "0.7333169609137542\n",
      "0.9626087312374907\n",
      "1.7805317784231205\n"
     ]
    }
   ],
   "source": [
    "for i in range(1,6):\n",
    "    \n",
    "    df_train = pd.read_csv('./Dataset/acidic_train_0.70_FP.csv',header = None)\n",
    "    train_data_label = np.array(df_train)\n",
    "    np.random.shuffle(train_data_label)\n",
    "    X_train, y_train = train_data_label[:,1:],train_data_label[:,0]\n",
    "    \n",
    "    df_test = pd.read_csv('./Dataset/acidic_test_0.15_FP.csv',header = None)\n",
    "    test_data_label = np.array(df_test)\n",
    "    X_test, y_test = test_data_label[:,1:],test_data_label[:,0]\n",
    "    \n",
    "    model = KNeighborsRegressor(n_neighbors = 3, weights = \"distance\", p = 1)\n",
    "    model.fit(X_train, y_train)\n",
    "    y_pred = model.predict(X_test)\n",
    "    print(r2_score(y_test, y_pred))\n",
    "    print(mean_absolute_error(y_test, y_pred))\n",
    "    print(mean_squared_error(y_test, y_pred)**0.5)\n",
    "\n",
    "    file = open(\"./Machine_learning_model/acidic_KNN_{}.pickle\".format(i), \"wb+\")\n",
    "    pickle.dump(model, file)\n",
    "    file.close()"
   ]
  },
  {
   "cell_type": "markdown",
   "metadata": {},
   "source": [
    "# basic_cluster"
   ]
  },
  {
   "cell_type": "code",
   "execution_count": 4,
   "metadata": {},
   "outputs": [
    {
     "name": "stdout",
     "output_type": "stream",
     "text": [
      "0.7347013085941534\n",
      "0.983754488741867\n",
      "1.5622862657253518\n",
      "0.7345608420825449\n",
      "0.9817958382544152\n",
      "1.5626997993555929\n",
      "0.7335747569852952\n",
      "0.9843730329721899\n",
      "1.5655997605310472\n",
      "0.7339405006793223\n",
      "0.9839291450780954\n",
      "1.5645247781366762\n",
      "0.7345369389193475\n",
      "0.9843993895731261\n",
      "1.5627701594104741\n"
     ]
    }
   ],
   "source": [
    "for i in range(1,6):\n",
    "    \n",
    "    df_train = pd.read_csv('./Dataset/basic_cluster_0.3_train_FP.csv',header = None)\n",
    "    train_data_label = np.array(df_train)\n",
    "    np.random.shuffle(train_data_label)\n",
    "    X_train, y_train = train_data_label[:,1:],train_data_label[:,0]\n",
    "    \n",
    "    df_test = pd.read_csv('./Dataset/basic_cluster_0.3_test_FP.csv',header = None)\n",
    "    test_data_label = np.array(df_test)\n",
    "    X_test, y_test = test_data_label[:,1:],test_data_label[:,0]\n",
    "    \n",
    "    model = KNeighborsRegressor(n_neighbors = 3, weights = \"distance\", p = 1)\n",
    "    model.fit(X_train, y_train)\n",
    "    y_pred = model.predict(X_test)\n",
    "    print(r2_score(y_test, y_pred))\n",
    "    print(mean_absolute_error(y_test, y_pred))\n",
    "    print(mean_squared_error(y_test, y_pred)**0.5)\n",
    "\n",
    "    file = open(\"./Machine_learning_model/basic_cluster_KNN_{}.pickle\".format(i), \"wb+\")\n",
    "    pickle.dump(model, file)\n",
    "    file.close()"
   ]
  },
  {
   "cell_type": "markdown",
   "metadata": {},
   "source": [
    "# acidic_cluster"
   ]
  },
  {
   "cell_type": "code",
   "execution_count": 5,
   "metadata": {},
   "outputs": [
    {
     "name": "stdout",
     "output_type": "stream",
     "text": [
      "0.6838263081438076\n",
      "1.0730365223186416\n",
      "1.9995705500283512\n",
      "0.6895071366021113\n",
      "1.06868651864927\n",
      "1.9815255558363494\n",
      "0.6835890150088421\n",
      "1.0733871572851756\n",
      "2.000320763254642\n",
      "0.6887689792314207\n",
      "1.069373323176497\n",
      "1.9838795703174676\n",
      "0.683757014788283\n",
      "1.0708004700317884\n",
      "1.9997896532709751\n"
     ]
    }
   ],
   "source": [
    "for i in range(1,6):\n",
    "    \n",
    "    df_train = pd.read_csv('./Dataset/acidic_cluster_0.3_train_FP.csv',header = None)\n",
    "    train_data_label = np.array(df_train)\n",
    "    np.random.shuffle(train_data_label)\n",
    "    X_train, y_train = train_data_label[:,1:],train_data_label[:,0]\n",
    "    \n",
    "    df_test = pd.read_csv('./Dataset/acidic_cluster_0.3_test_FP.csv',header = None)\n",
    "    test_data_label = np.array(df_test)\n",
    "    X_test, y_test = test_data_label[:,1:],test_data_label[:,0]\n",
    "    \n",
    "    model = KNeighborsRegressor(n_neighbors = 3, weights = \"distance\", p = 1)\n",
    "    model.fit(X_train, y_train)\n",
    "    y_pred = model.predict(X_test)\n",
    "    print(r2_score(y_test, y_pred))\n",
    "    print(mean_absolute_error(y_test, y_pred))\n",
    "    print(mean_squared_error(y_test, y_pred)**0.5)\n",
    "\n",
    "    file = open(\"./Machine_learning_model/acidic_cluster_KNN_{}.pickle\".format(i), \"wb+\")\n",
    "    pickle.dump(model, file)\n",
    "    file.close()"
   ]
  },
  {
   "cell_type": "code",
   "execution_count": null,
   "metadata": {},
   "outputs": [],
   "source": []
  },
  {
   "cell_type": "code",
   "execution_count": null,
   "metadata": {},
   "outputs": [],
   "source": []
  },
  {
   "cell_type": "code",
   "execution_count": null,
   "metadata": {},
   "outputs": [],
   "source": []
  },
  {
   "cell_type": "code",
   "execution_count": null,
   "metadata": {},
   "outputs": [],
   "source": []
  },
  {
   "cell_type": "code",
   "execution_count": null,
   "metadata": {},
   "outputs": [],
   "source": []
  },
  {
   "cell_type": "code",
   "execution_count": null,
   "metadata": {},
   "outputs": [],
   "source": []
  },
  {
   "cell_type": "code",
   "execution_count": null,
   "metadata": {},
   "outputs": [],
   "source": []
  },
  {
   "cell_type": "markdown",
   "metadata": {},
   "source": [
    "# acidic"
   ]
  },
  {
   "cell_type": "code",
   "execution_count": 20,
   "metadata": {},
   "outputs": [],
   "source": [
    "df_train = pd.read_csv('./Dataset/acidic_train_0.70_FP.csv',header = None)\n",
    "train_data_label = np.array(df_train)\n",
    "X_train, y_train = train_data_label[:,1:],train_data_label[:,0]"
   ]
  },
  {
   "cell_type": "code",
   "execution_count": 21,
   "metadata": {},
   "outputs": [],
   "source": [
    "df_test = pd.read_csv('./Dataset/acidic_test_0.15_FP.csv',header = None)\n",
    "test_data_label = np.array(df_test)\n",
    "X_test, y_test = test_data_label[:,1:],test_data_label[:,0]"
   ]
  },
  {
   "cell_type": "code",
   "execution_count": 22,
   "metadata": {},
   "outputs": [
    {
     "name": "stdout",
     "output_type": "stream",
     "text": [
      "0.8725671461561544\n",
      "0.6951279719980267\n",
      "1.230814874281483\n",
      "0.8643087840869588\n",
      "0.7012662045355392\n",
      "1.2700707039286379\n",
      "0.8755200795283528\n",
      "0.6924736535104219\n",
      "1.2164707828146313\n",
      "0.8675648365431685\n",
      "0.6932903143002819\n",
      "1.254739838879731\n",
      "0.8636962001220245\n",
      "0.7061626242946982\n",
      "1.27293437057027\n"
     ]
    }
   ],
   "source": [
    "for i in range(1,6):\n",
    "    model = RandomForestRegressor()\n",
    "    model.fit(X_train, y_train)\n",
    "    y_pred = model.predict(X_test)\n",
    "    print(r2_score(y_test, y_pred))\n",
    "    print(mean_absolute_error(y_test, y_pred))\n",
    "    print(mean_squared_error(y_test, y_pred)**0.5)\n",
    "\n",
    "    file = open(\"./Machine_learning_model/acidic_RF_{}.pickle\".format(i), \"wb+\")\n",
    "    pickle.dump(model, file)\n",
    "    file.close()"
   ]
  },
  {
   "cell_type": "code",
   "execution_count": 32,
   "metadata": {},
   "outputs": [
    {
     "name": "stdout",
     "output_type": "stream",
     "text": [
      "4.871600006779999\n",
      "5.049500022760001\n",
      "8.775600004314997\n",
      "8.75523001252\n",
      "8.98912999036\n",
      "9.642366676163332\n",
      "8.869979989760001\n",
      "9.913350029869997\n",
      "8.603529987205\n",
      "8.938579984649998\n",
      "9.329200036274996\n",
      "8.756129991204999\n",
      "8.99457999189\n",
      "9.338750035534998\n",
      "7.848800004384166\n",
      "6.369700010120002\n",
      "8.670600021939165\n",
      "5.588239999168334\n",
      "5.480933330179999\n",
      "5.149756664962334\n",
      "\n",
      "1.172272166084217\n",
      "1.393439047074014\n",
      "0.6480927781944302\n"
     ]
    }
   ],
   "source": [
    "with open(\"./Machine_learning_model/acidic_RF_5.pickle\", 'rb') as fr:\n",
    "    model = pickle.load(fr)\n",
    "    \n",
    "df_test = pd.read_csv('./Dataset/SAMPL7_acidic_FP.csv',header = None)\n",
    "test_data_label = np.array(df_test)\n",
    "X_test, y_test = test_data_label[:,1:],test_data_label[:,0]\n",
    "\n",
    "y_pred = model.predict(X_test)\n",
    "for i in y_pred:\n",
    "    print(i)\n",
    "print('')\n",
    "print(mean_absolute_error(y_test, y_pred))\n",
    "print(mean_squared_error(y_test, y_pred)**0.5)\n",
    "print(r2_score(y_test, y_pred))"
   ]
  },
  {
   "cell_type": "code",
   "execution_count": null,
   "metadata": {},
   "outputs": [],
   "source": []
  },
  {
   "cell_type": "code",
   "execution_count": null,
   "metadata": {},
   "outputs": [],
   "source": []
  },
  {
   "cell_type": "code",
   "execution_count": null,
   "metadata": {},
   "outputs": [],
   "source": []
  },
  {
   "cell_type": "code",
   "execution_count": null,
   "metadata": {},
   "outputs": [],
   "source": []
  },
  {
   "cell_type": "code",
   "execution_count": null,
   "metadata": {},
   "outputs": [],
   "source": []
  },
  {
   "cell_type": "code",
   "execution_count": null,
   "metadata": {},
   "outputs": [],
   "source": []
  },
  {
   "cell_type": "code",
   "execution_count": null,
   "metadata": {},
   "outputs": [],
   "source": []
  },
  {
   "cell_type": "code",
   "execution_count": null,
   "metadata": {},
   "outputs": [],
   "source": []
  },
  {
   "cell_type": "code",
   "execution_count": null,
   "metadata": {},
   "outputs": [],
   "source": []
  },
  {
   "cell_type": "code",
   "execution_count": 34,
   "metadata": {},
   "outputs": [],
   "source": [
    "df_train = pd.read_csv('./Dataset/acidic_cluster_0.3_train_FP.csv',header = None)\n",
    "train_data_label = np.array(df_train)\n",
    "X_train, y_train = train_data_label[:,1:],train_data_label[:,0]"
   ]
  },
  {
   "cell_type": "code",
   "execution_count": 36,
   "metadata": {},
   "outputs": [],
   "source": [
    "df_test = pd.read_csv('./Dataset/acidic_cluster_0.3_test_FP.csv',header = None)\n",
    "test_data_label = np.array(df_test)\n",
    "X_test, y_test = test_data_label[:,1:],test_data_label[:,0]"
   ]
  },
  {
   "cell_type": "code",
   "execution_count": 37,
   "metadata": {},
   "outputs": [
    {
     "name": "stdout",
     "output_type": "stream",
     "text": [
      "0.8304344236528222\n",
      "0.7904370184315201\n",
      "1.464342650283517\n"
     ]
    }
   ],
   "source": [
    "model = RandomForestRegressor()\n",
    "model.fit(X_train, y_train)\n",
    "y_pred = model.predict(X_test)\n",
    "print(r2_score(y_test, y_pred))\n",
    "print(mean_absolute_error(y_test, y_pred))\n",
    "print(mean_squared_error(y_test, y_pred)**0.5)"
   ]
  },
  {
   "cell_type": "code",
   "execution_count": null,
   "metadata": {},
   "outputs": [],
   "source": []
  },
  {
   "cell_type": "code",
   "execution_count": 39,
   "metadata": {},
   "outputs": [],
   "source": [
    "df_train = pd.read_csv('./Dataset/basic_cluster_0.3_train_FP.csv',header = None)\n",
    "train_data_label = np.array(df_train)\n",
    "X_train, y_train = train_data_label[:,1:],train_data_label[:,0]"
   ]
  },
  {
   "cell_type": "code",
   "execution_count": 40,
   "metadata": {},
   "outputs": [],
   "source": [
    "df_test = pd.read_csv('./Dataset/basic_cluster_0.3_test_FP.csv',header = None)\n",
    "test_data_label = np.array(df_test)\n",
    "X_test, y_test = test_data_label[:,1:],test_data_label[:,0]"
   ]
  },
  {
   "cell_type": "code",
   "execution_count": 41,
   "metadata": {},
   "outputs": [
    {
     "name": "stdout",
     "output_type": "stream",
     "text": [
      "0.8016614278936046\n",
      "0.8746910662292986\n",
      "1.350817418340395\n"
     ]
    }
   ],
   "source": [
    "model = RandomForestRegressor()\n",
    "model.fit(X_train, y_train)\n",
    "y_pred = model.predict(X_test)\n",
    "print(r2_score(y_test, y_pred))\n",
    "print(mean_absolute_error(y_test, y_pred))\n",
    "print(mean_squared_error(y_test, y_pred)**0.5)"
   ]
  },
  {
   "cell_type": "code",
   "execution_count": null,
   "metadata": {},
   "outputs": [],
   "source": []
  }
 ],
 "metadata": {
  "kernelspec": {
   "display_name": "Python 3",
   "language": "python",
   "name": "python3"
  },
  "language_info": {
   "codemirror_mode": {
    "name": "ipython",
    "version": 3
   },
   "file_extension": ".py",
   "mimetype": "text/x-python",
   "name": "python",
   "nbconvert_exporter": "python",
   "pygments_lexer": "ipython3",
   "version": "3.6.10"
  }
 },
 "nbformat": 4,
 "nbformat_minor": 2
}
