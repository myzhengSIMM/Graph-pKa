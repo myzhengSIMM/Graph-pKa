{
 "cells": [
  {
   "cell_type": "code",
   "execution_count": 60,
   "metadata": {},
   "outputs": [],
   "source": [
    "import numpy as np\n",
    "import pandas as pd\n",
    "import pickle\n",
    "from sklearn.svm import SVR\n",
    "from sklearn.neighbors import KNeighborsRegressor\n",
    "from sklearn.ensemble import RandomForestRegressor\n",
    "from sklearn.linear_model import LinearRegression\n",
    "from sklearn.neural_network import MLPRegressor\n",
    "from xgboost.sklearn import XGBRegressor\n",
    "from sklearn.metrics import r2_score,mean_squared_error,mean_absolute_error"
   ]
  },
  {
   "cell_type": "markdown",
   "metadata": {},
   "source": [
    "# try"
   ]
  },
  {
   "cell_type": "code",
   "execution_count": 61,
   "metadata": {},
   "outputs": [],
   "source": [
    "df_train = pd.read_csv('./Dataset/acidic_train_0.70_FP.csv',header = None)\n",
    "train_data_label = np.array(df_train)\n",
    "X_train, y_train = train_data_label[:,1:],train_data_label[:,0]"
   ]
  },
  {
   "cell_type": "code",
   "execution_count": 62,
   "metadata": {},
   "outputs": [
    {
     "data": {
      "text/plain": [
       "RandomForestRegressor()"
      ]
     },
     "execution_count": 62,
     "metadata": {},
     "output_type": "execute_result"
    }
   ],
   "source": [
    "model = RandomForestRegressor()\n",
    "model.fit(X_train, y_train)"
   ]
  },
  {
   "cell_type": "code",
   "execution_count": 63,
   "metadata": {},
   "outputs": [
    {
     "name": "stdout",
     "output_type": "stream",
     "text": [
      "0.7179660693468843\n",
      "1.2921915131654849\n",
      "0.8618747299295817\n"
     ]
    }
   ],
   "source": [
    "df_test = pd.read_csv('./Dataset/acidic_test_0.15_FP.csv',header = None)\n",
    "test_data_label = np.array(df_test)\n",
    "X_test, y_test = test_data_label[:,1:],test_data_label[:,0]\n",
    "\n",
    "y_pred = model.predict(X_test)\n",
    "print(mean_absolute_error(y_test, y_pred))\n",
    "print(mean_squared_error(y_test, y_pred)**0.5)\n",
    "print(r2_score(y_test, y_pred))"
   ]
  },
  {
   "cell_type": "code",
   "execution_count": 64,
   "metadata": {},
   "outputs": [
    {
     "name": "stdout",
     "output_type": "stream",
     "text": [
      "0.7204943547305783\n",
      "1.4961694592903463\n",
      "0.8231088192604722\n"
     ]
    }
   ],
   "source": [
    "df_test = pd.read_csv('./Dataset/acidic_val_0.15_FP.csv',header = None)\n",
    "test_data_label = np.array(df_test)\n",
    "X_test, y_test = test_data_label[:,1:],test_data_label[:,0]\n",
    "\n",
    "y_pred = model.predict(X_test)\n",
    "print(mean_absolute_error(y_test, y_pred))\n",
    "print(mean_squared_error(y_test, y_pred)**0.5)\n",
    "print(r2_score(y_test, y_pred))"
   ]
  },
  {
   "cell_type": "code",
   "execution_count": null,
   "metadata": {},
   "outputs": [],
   "source": []
  },
  {
   "cell_type": "code",
   "execution_count": 55,
   "metadata": {},
   "outputs": [],
   "source": [
    "df_train = pd.read_csv('./Dataset/basic_train_0.70_FP.csv',header = None)\n",
    "train_data_label = np.array(df_train)\n",
    "X_train, y_train = train_data_label[:,1:],train_data_label[:,0]"
   ]
  },
  {
   "cell_type": "code",
   "execution_count": 56,
   "metadata": {},
   "outputs": [
    {
     "data": {
      "text/plain": [
       "RandomForestRegressor()"
      ]
     },
     "execution_count": 56,
     "metadata": {},
     "output_type": "execute_result"
    }
   ],
   "source": [
    "model = RandomForestRegressor()\n",
    "model.fit(X_train, y_train)"
   ]
  },
  {
   "cell_type": "code",
   "execution_count": 57,
   "metadata": {},
   "outputs": [
    {
     "name": "stdout",
     "output_type": "stream",
     "text": [
      "0.7183794012108343\n",
      "1.1531791712875772\n",
      "0.8557503752737813\n"
     ]
    }
   ],
   "source": [
    "df_test = pd.read_csv('./Dataset/basic_test_0.15_FP.csv',header = None)\n",
    "test_data_label = np.array(df_test)\n",
    "X_test, y_test = test_data_label[:,1:],test_data_label[:,0]\n",
    "\n",
    "y_pred = model.predict(X_test)\n",
    "print(mean_absolute_error(y_test, y_pred))\n",
    "print(mean_squared_error(y_test, y_pred)**0.5)\n",
    "print(r2_score(y_test, y_pred))"
   ]
  },
  {
   "cell_type": "code",
   "execution_count": 58,
   "metadata": {},
   "outputs": [
    {
     "name": "stdout",
     "output_type": "stream",
     "text": [
      "0.7027170360789852\n",
      "1.1509298883146584\n",
      "0.8661013818045544\n"
     ]
    }
   ],
   "source": [
    "df_test = pd.read_csv('./Dataset/basic_val_0.15_FP.csv',header = None)\n",
    "test_data_label = np.array(df_test)\n",
    "X_test, y_test = test_data_label[:,1:],test_data_label[:,0]\n",
    "\n",
    "y_pred = model.predict(X_test)\n",
    "print(mean_absolute_error(y_test, y_pred))\n",
    "print(mean_squared_error(y_test, y_pred)**0.5)\n",
    "print(r2_score(y_test, y_pred))"
   ]
  },
  {
   "cell_type": "code",
   "execution_count": 59,
   "metadata": {},
   "outputs": [
    {
     "ename": "ValueError",
     "evalue": "Number of features of the model must match the input. Model n_features is 9120 and input n_features is 9121 ",
     "output_type": "error",
     "traceback": [
      "\u001b[0;31m---------------------------------------------------------------------------\u001b[0m",
      "\u001b[0;31mValueError\u001b[0m                                Traceback (most recent call last)",
      "\u001b[0;32m<ipython-input-59-f2158d6f191a>\u001b[0m in \u001b[0;36m<module>\u001b[0;34m\u001b[0m\n\u001b[1;32m      3\u001b[0m \u001b[0mX_test\u001b[0m\u001b[0;34m,\u001b[0m \u001b[0my_test\u001b[0m \u001b[0;34m=\u001b[0m \u001b[0mtest_data_label\u001b[0m\u001b[0;34m[\u001b[0m\u001b[0;34m:\u001b[0m\u001b[0;34m,\u001b[0m\u001b[0;36m1\u001b[0m\u001b[0;34m:\u001b[0m\u001b[0;34m]\u001b[0m\u001b[0;34m,\u001b[0m\u001b[0mtest_data_label\u001b[0m\u001b[0;34m[\u001b[0m\u001b[0;34m:\u001b[0m\u001b[0;34m,\u001b[0m\u001b[0;36m0\u001b[0m\u001b[0;34m]\u001b[0m\u001b[0;34m\u001b[0m\u001b[0;34m\u001b[0m\u001b[0m\n\u001b[1;32m      4\u001b[0m \u001b[0;34m\u001b[0m\u001b[0m\n\u001b[0;32m----> 5\u001b[0;31m \u001b[0my_pred\u001b[0m \u001b[0;34m=\u001b[0m \u001b[0mmodel\u001b[0m\u001b[0;34m.\u001b[0m\u001b[0mpredict\u001b[0m\u001b[0;34m(\u001b[0m\u001b[0mX_test\u001b[0m\u001b[0;34m)\u001b[0m\u001b[0;34m\u001b[0m\u001b[0;34m\u001b[0m\u001b[0m\n\u001b[0m\u001b[1;32m      6\u001b[0m \u001b[0mprint\u001b[0m\u001b[0;34m(\u001b[0m\u001b[0mmean_absolute_error\u001b[0m\u001b[0;34m(\u001b[0m\u001b[0my_test\u001b[0m\u001b[0;34m,\u001b[0m \u001b[0my_pred\u001b[0m\u001b[0;34m)\u001b[0m\u001b[0;34m)\u001b[0m\u001b[0;34m\u001b[0m\u001b[0;34m\u001b[0m\u001b[0m\n\u001b[1;32m      7\u001b[0m \u001b[0mprint\u001b[0m\u001b[0;34m(\u001b[0m\u001b[0mmean_squared_error\u001b[0m\u001b[0;34m(\u001b[0m\u001b[0my_test\u001b[0m\u001b[0;34m,\u001b[0m \u001b[0my_pred\u001b[0m\u001b[0;34m)\u001b[0m\u001b[0;34m**\u001b[0m\u001b[0;36m0.5\u001b[0m\u001b[0;34m)\u001b[0m\u001b[0;34m\u001b[0m\u001b[0;34m\u001b[0m\u001b[0m\n",
      "\u001b[0;32m~/xjc/anaconda/envs/rdkit-env/lib/python3.6/site-packages/sklearn/ensemble/_forest.py\u001b[0m in \u001b[0;36mpredict\u001b[0;34m(self, X)\u001b[0m\n\u001b[1;32m    781\u001b[0m         \u001b[0mcheck_is_fitted\u001b[0m\u001b[0;34m(\u001b[0m\u001b[0mself\u001b[0m\u001b[0;34m)\u001b[0m\u001b[0;34m\u001b[0m\u001b[0;34m\u001b[0m\u001b[0m\n\u001b[1;32m    782\u001b[0m         \u001b[0;31m# Check data\u001b[0m\u001b[0;34m\u001b[0m\u001b[0;34m\u001b[0m\u001b[0;34m\u001b[0m\u001b[0m\n\u001b[0;32m--> 783\u001b[0;31m         \u001b[0mX\u001b[0m \u001b[0;34m=\u001b[0m \u001b[0mself\u001b[0m\u001b[0;34m.\u001b[0m\u001b[0m_validate_X_predict\u001b[0m\u001b[0;34m(\u001b[0m\u001b[0mX\u001b[0m\u001b[0;34m)\u001b[0m\u001b[0;34m\u001b[0m\u001b[0;34m\u001b[0m\u001b[0m\n\u001b[0m\u001b[1;32m    784\u001b[0m \u001b[0;34m\u001b[0m\u001b[0m\n\u001b[1;32m    785\u001b[0m         \u001b[0;31m# Assign chunk of trees to jobs\u001b[0m\u001b[0;34m\u001b[0m\u001b[0;34m\u001b[0m\u001b[0;34m\u001b[0m\u001b[0m\n",
      "\u001b[0;32m~/xjc/anaconda/envs/rdkit-env/lib/python3.6/site-packages/sklearn/ensemble/_forest.py\u001b[0m in \u001b[0;36m_validate_X_predict\u001b[0;34m(self, X)\u001b[0m\n\u001b[1;32m    419\u001b[0m         \u001b[0mcheck_is_fitted\u001b[0m\u001b[0;34m(\u001b[0m\u001b[0mself\u001b[0m\u001b[0;34m)\u001b[0m\u001b[0;34m\u001b[0m\u001b[0;34m\u001b[0m\u001b[0m\n\u001b[1;32m    420\u001b[0m \u001b[0;34m\u001b[0m\u001b[0m\n\u001b[0;32m--> 421\u001b[0;31m         \u001b[0;32mreturn\u001b[0m \u001b[0mself\u001b[0m\u001b[0;34m.\u001b[0m\u001b[0mestimators_\u001b[0m\u001b[0;34m[\u001b[0m\u001b[0;36m0\u001b[0m\u001b[0;34m]\u001b[0m\u001b[0;34m.\u001b[0m\u001b[0m_validate_X_predict\u001b[0m\u001b[0;34m(\u001b[0m\u001b[0mX\u001b[0m\u001b[0;34m,\u001b[0m \u001b[0mcheck_input\u001b[0m\u001b[0;34m=\u001b[0m\u001b[0;32mTrue\u001b[0m\u001b[0;34m)\u001b[0m\u001b[0;34m\u001b[0m\u001b[0;34m\u001b[0m\u001b[0m\n\u001b[0m\u001b[1;32m    422\u001b[0m \u001b[0;34m\u001b[0m\u001b[0m\n\u001b[1;32m    423\u001b[0m     \u001b[0;34m@\u001b[0m\u001b[0mproperty\u001b[0m\u001b[0;34m\u001b[0m\u001b[0;34m\u001b[0m\u001b[0m\n",
      "\u001b[0;32m~/xjc/anaconda/envs/rdkit-env/lib/python3.6/site-packages/sklearn/tree/_classes.py\u001b[0m in \u001b[0;36m_validate_X_predict\u001b[0;34m(self, X, check_input)\u001b[0m\n\u001b[1;32m    397\u001b[0m                              \u001b[0;34m\"match the input. Model n_features is %s and \"\u001b[0m\u001b[0;34m\u001b[0m\u001b[0;34m\u001b[0m\u001b[0m\n\u001b[1;32m    398\u001b[0m                              \u001b[0;34m\"input n_features is %s \"\u001b[0m\u001b[0;34m\u001b[0m\u001b[0;34m\u001b[0m\u001b[0m\n\u001b[0;32m--> 399\u001b[0;31m                              % (self.n_features_, n_features))\n\u001b[0m\u001b[1;32m    400\u001b[0m \u001b[0;34m\u001b[0m\u001b[0m\n\u001b[1;32m    401\u001b[0m         \u001b[0;32mreturn\u001b[0m \u001b[0mX\u001b[0m\u001b[0;34m\u001b[0m\u001b[0;34m\u001b[0m\u001b[0m\n",
      "\u001b[0;31mValueError\u001b[0m: Number of features of the model must match the input. Model n_features is 9120 and input n_features is 9121 "
     ]
    }
   ],
   "source": [
    "df_test = pd.read_csv('./Dataset/SAMPL6_basic_FP.csv',header = None)\n",
    "test_data_label = np.array(df_test)\n",
    "X_test, y_test = test_data_label[:,1:],test_data_label[:,0]\n",
    "\n",
    "y_pred = model.predict(X_test)\n",
    "print(mean_absolute_error(y_test, y_pred))\n",
    "print(mean_squared_error(y_test, y_pred)**0.5)\n",
    "print(r2_score(y_test, y_pred))"
   ]
  },
  {
   "cell_type": "code",
   "execution_count": null,
   "metadata": {},
   "outputs": [],
   "source": []
  },
  {
   "cell_type": "code",
   "execution_count": null,
   "metadata": {},
   "outputs": [],
   "source": []
  },
  {
   "cell_type": "code",
   "execution_count": null,
   "metadata": {},
   "outputs": [],
   "source": []
  },
  {
   "cell_type": "markdown",
   "metadata": {},
   "source": [
    "# basic"
   ]
  },
  {
   "cell_type": "code",
   "execution_count": 65,
   "metadata": {},
   "outputs": [],
   "source": [
    "df_train = pd.read_csv('./Dataset/basic_train_0.70_FP.csv',header = None)\n",
    "train_data_label = np.array(df_train)\n",
    "X_train, y_train = train_data_label[:,1:],train_data_label[:,0]"
   ]
  },
  {
   "cell_type": "code",
   "execution_count": 66,
   "metadata": {},
   "outputs": [],
   "source": [
    "df_test = pd.read_csv('./Dataset/basic_test_0.15_FP.csv',header = None)\n",
    "test_data_label = np.array(df_test)\n",
    "X_test, y_test = test_data_label[:,1:],test_data_label[:,0]"
   ]
  },
  {
   "cell_type": "code",
   "execution_count": 67,
   "metadata": {},
   "outputs": [
    {
     "name": "stdout",
     "output_type": "stream",
     "text": [
      "0.8586617465066642\n",
      "0.7175995905942668\n",
      "1.1414826210854454\n",
      "0.8605095478283267\n",
      "0.7115287247270602\n",
      "1.1339964228979307\n",
      "0.8577209517763135\n",
      "0.7201391665863911\n",
      "1.145275365336734\n"
     ]
    }
   ],
   "source": [
    "for i in range(1,4):\n",
    "    model = RandomForestRegressor()\n",
    "    model.fit(X_train, y_train)\n",
    "    y_pred = model.predict(X_test)\n",
    "    print(r2_score(y_test, y_pred))\n",
    "    print(mean_absolute_error(y_test, y_pred))\n",
    "    print(mean_squared_error(y_test, y_pred)**0.5)\n",
    "\n",
    "    file = open(\"./Machine_learning_model/basic_RF_{}.pickle\".format(i), \"wb+\")\n",
    "    pickle.dump(model, file)\n",
    "    file.close()"
   ]
  },
  {
   "cell_type": "code",
   "execution_count": 68,
   "metadata": {},
   "outputs": [
    {
     "name": "stdout",
     "output_type": "stream",
     "text": [
      "4.914040001627333\n",
      "5.96750000324\n",
      "5.527133317213332\n",
      "3.7398000027100005\n",
      "6.22993333686\n",
      "4.807199991580001\n",
      "4.287000001393335\n",
      "5.026840001623333\n",
      "5.433499970874003\n",
      "5.14615000593\n",
      "5.255228576250001\n",
      "5.32199999513\n",
      "3.8144000109999996\n",
      "5.882249997319999\n",
      "4.5898000001633354\n",
      "2.9710800029350013\n",
      "5.9671400024140056\n",
      "6.250433330059996\n",
      "\n",
      "0.7714982560174631\n",
      "1.310718816327891\n",
      "-0.08823094766404238\n"
     ]
    }
   ],
   "source": [
    "with open(\"./Machine_learning_model/basic_RF_1.pickle\", 'rb') as fr:\n",
    "    model = pickle.load(fr)\n",
    "    \n",
    "df_test = pd.read_csv('./Dataset/SAMPL6_basic_FP.csv',header = None)\n",
    "test_data_label = np.array(df_test)\n",
    "X_test, y_test = test_data_label[:,1:],test_data_label[:,0]\n",
    "\n",
    "y_pred = model.predict(X_test)\n",
    "for i in y_pred:\n",
    "    print(i)\n",
    "print('')\n",
    "print(mean_absolute_error(y_test, y_pred))\n",
    "print(mean_squared_error(y_test, y_pred)**0.5)\n",
    "print(r2_score(y_test, y_pred))"
   ]
  },
  {
   "cell_type": "markdown",
   "metadata": {},
   "source": [
    "# acidic"
   ]
  },
  {
   "cell_type": "code",
   "execution_count": 69,
   "metadata": {},
   "outputs": [],
   "source": [
    "df_train = pd.read_csv('./Dataset/acidic_train_0.70_FP.csv',header = None)\n",
    "train_data_label = np.array(df_train)\n",
    "X_train, y_train = train_data_label[:,1:],train_data_label[:,0]"
   ]
  },
  {
   "cell_type": "code",
   "execution_count": 70,
   "metadata": {},
   "outputs": [],
   "source": [
    "df_test = pd.read_csv('./Dataset/acidic_test_0.15_FP.csv',header = None)\n",
    "test_data_label = np.array(df_test)\n",
    "X_test, y_test = test_data_label[:,1:],test_data_label[:,0]"
   ]
  },
  {
   "cell_type": "code",
   "execution_count": 71,
   "metadata": {},
   "outputs": [
    {
     "name": "stdout",
     "output_type": "stream",
     "text": [
      "0.8655747153460084\n",
      "0.7180528008050802\n",
      "1.2747669540218887\n",
      "0.8598228400424908\n",
      "0.7225474531042596\n",
      "1.301754065374355\n",
      "0.8617579027244684\n",
      "0.7129630746816762\n",
      "1.2927378694368055\n"
     ]
    }
   ],
   "source": [
    "for i in range(1,4):\n",
    "    model = RandomForestRegressor()\n",
    "    model.fit(X_train, y_train)\n",
    "    y_pred = model.predict(X_test)\n",
    "    print(r2_score(y_test, y_pred))\n",
    "    print(mean_absolute_error(y_test, y_pred))\n",
    "    print(mean_squared_error(y_test, y_pred)**0.5)\n",
    "\n",
    "    file = open(\"./Machine_learning_model/acidic_RF_{}.pickle\".format(i), \"wb+\")\n",
    "    pickle.dump(model, file)\n",
    "    file.close()"
   ]
  },
  {
   "cell_type": "code",
   "execution_count": 32,
   "metadata": {},
   "outputs": [
    {
     "name": "stdout",
     "output_type": "stream",
     "text": [
      "4.871600006779999\n",
      "5.049500022760001\n",
      "8.775600004314997\n",
      "8.75523001252\n",
      "8.98912999036\n",
      "9.642366676163332\n",
      "8.869979989760001\n",
      "9.913350029869997\n",
      "8.603529987205\n",
      "8.938579984649998\n",
      "9.329200036274996\n",
      "8.756129991204999\n",
      "8.99457999189\n",
      "9.338750035534998\n",
      "7.848800004384166\n",
      "6.369700010120002\n",
      "8.670600021939165\n",
      "5.588239999168334\n",
      "5.480933330179999\n",
      "5.149756664962334\n",
      "\n",
      "1.172272166084217\n",
      "1.393439047074014\n",
      "0.6480927781944302\n"
     ]
    }
   ],
   "source": [
    "with open(\"./Machine_learning_model/acidic_RF_5.pickle\", 'rb') as fr:\n",
    "    model = pickle.load(fr)\n",
    "    \n",
    "df_test = pd.read_csv('./Dataset/SAMPL7_acidic_FP.csv',header = None)\n",
    "test_data_label = np.array(df_test)\n",
    "X_test, y_test = test_data_label[:,1:],test_data_label[:,0]\n",
    "\n",
    "y_pred = model.predict(X_test)\n",
    "for i in y_pred:\n",
    "    print(i)\n",
    "print('')\n",
    "print(mean_absolute_error(y_test, y_pred))\n",
    "print(mean_squared_error(y_test, y_pred)**0.5)\n",
    "print(r2_score(y_test, y_pred))"
   ]
  },
  {
   "cell_type": "code",
   "execution_count": null,
   "metadata": {},
   "outputs": [],
   "source": []
  },
  {
   "cell_type": "code",
   "execution_count": null,
   "metadata": {},
   "outputs": [],
   "source": []
  },
  {
   "cell_type": "code",
   "execution_count": null,
   "metadata": {},
   "outputs": [],
   "source": []
  },
  {
   "cell_type": "code",
   "execution_count": null,
   "metadata": {},
   "outputs": [],
   "source": []
  },
  {
   "cell_type": "code",
   "execution_count": null,
   "metadata": {},
   "outputs": [],
   "source": []
  },
  {
   "cell_type": "code",
   "execution_count": null,
   "metadata": {},
   "outputs": [],
   "source": []
  }
 ],
 "metadata": {
  "kernelspec": {
   "display_name": "Python 3",
   "language": "python",
   "name": "python3"
  },
  "language_info": {
   "codemirror_mode": {
    "name": "ipython",
    "version": 3
   },
   "file_extension": ".py",
   "mimetype": "text/x-python",
   "name": "python",
   "nbconvert_exporter": "python",
   "pygments_lexer": "ipython3",
   "version": "3.6.10"
  }
 },
 "nbformat": 4,
 "nbformat_minor": 2
}
